{
 "cells": [
  {
   "cell_type": "code",
   "execution_count": 1,
   "metadata": {
    "collapsed": true,
    "ExecuteTime": {
     "end_time": "2023-07-03T01:55:02.017215500Z",
     "start_time": "2023-07-03T01:55:00.277776100Z"
    }
   },
   "outputs": [],
   "source": [
    "import numpy as np\n",
    "import matplotlib.pyplot as plt\n",
    "from rich.table import Table\n",
    "from rich import print as rptint\n",
    "import json\n",
    "import os\n",
    "import pandas as pd\n",
    "\n",
    "scenario_name = \"CWE-89-SQL-injection\"\n",
    "TIME_PERIOD = 1\n",
    "TIME_INTERVAL = '1MS'\n",
    "save_file_path = os.path.join('K:/hids/LID-DS-master/tools/out', scenario_name)"
   ]
  },
  {
   "cell_type": "markdown",
   "source": [
    "获取数据"
   ],
   "metadata": {
    "collapsed": false
   }
  },
  {
   "cell_type": "code",
   "execution_count": 2,
   "outputs": [],
   "source": [
    "test_normal_df = pd.read_pickle(os.path.join(save_file_path,  'DF_test_normal.pkl'))\n",
    "test_exploit_df = pd.read_pickle(os.path.join(save_file_path, 'DF_test_exploit.pkl'))"
   ],
   "metadata": {
    "collapsed": false,
    "ExecuteTime": {
     "end_time": "2023-07-03T01:55:04.770473200Z",
     "start_time": "2023-07-03T01:55:03.618525100Z"
    }
   }
  },
  {
   "cell_type": "code",
   "execution_count": 15,
   "outputs": [],
   "source": [
    "has_arg_df = test_normal_df[test_normal_df['ARGS'].isna() == False]"
   ],
   "metadata": {
    "collapsed": false,
    "ExecuteTime": {
     "end_time": "2023-07-03T01:59:53.318803900Z",
     "start_time": "2023-07-03T01:59:53.048522Z"
    }
   }
  },
  {
   "cell_type": "code",
   "execution_count": 19,
   "outputs": [
    {
     "data": {
      "text/plain": "                        time  UserID      PID ProcessName      TID syscall  \\\n0        1631083490806378308     101  3861861      mysqld  3862354  select   \n2        1631083490806627721     101  3861861      mysqld  3862355  select   \n4        1631083490812467214     101  3861861      mysqld  3862357  select   \n26       1631083491296433028      33  3862925     apache2  3862925    poll   \n27       1631083491296435798      33  3862925     apache2  3862925    read   \n...                      ...     ...      ...         ...      ...     ...   \n3857206  1631054137372659043      33  3256522     apache2  3256522  writev   \n3857207  1631054137372663744      33  3256522     apache2  3256522   write   \n3857208  1631054137372668967      33  3256522     apache2  3256522   write   \n3857211  1631054137372673413      33  3256522     apache2  3256522    poll   \n3857220  1631054137653835148       0  3256458     apache2  3256458  select   \n\n        DIR                                               ARGS  \n0         <                                              res=0  \n2         <                                              res=0  \n4         <                                              res=0  \n26        <                                              res=1  \n27        >  fd=10(<4t>192.168.128.2:36280->192.168.128.10:80)  \n...      ..                                                ...  \n3857206   <                                           res=2461  \n3857207   >               fd=7(<f>/var/log/apache2/access.log)  \n3857208   <                                            res=257  \n3857211   >                                          fds=10:41  \n3857220   <                                              res=0  \n\n[3038001 rows x 8 columns]",
      "text/html": "<div>\n<style scoped>\n    .dataframe tbody tr th:only-of-type {\n        vertical-align: middle;\n    }\n\n    .dataframe tbody tr th {\n        vertical-align: top;\n    }\n\n    .dataframe thead th {\n        text-align: right;\n    }\n</style>\n<table border=\"1\" class=\"dataframe\">\n  <thead>\n    <tr style=\"text-align: right;\">\n      <th></th>\n      <th>time</th>\n      <th>UserID</th>\n      <th>PID</th>\n      <th>ProcessName</th>\n      <th>TID</th>\n      <th>syscall</th>\n      <th>DIR</th>\n      <th>ARGS</th>\n    </tr>\n  </thead>\n  <tbody>\n    <tr>\n      <th>0</th>\n      <td>1631083490806378308</td>\n      <td>101</td>\n      <td>3861861</td>\n      <td>mysqld</td>\n      <td>3862354</td>\n      <td>select</td>\n      <td>&lt;</td>\n      <td>res=0</td>\n    </tr>\n    <tr>\n      <th>2</th>\n      <td>1631083490806627721</td>\n      <td>101</td>\n      <td>3861861</td>\n      <td>mysqld</td>\n      <td>3862355</td>\n      <td>select</td>\n      <td>&lt;</td>\n      <td>res=0</td>\n    </tr>\n    <tr>\n      <th>4</th>\n      <td>1631083490812467214</td>\n      <td>101</td>\n      <td>3861861</td>\n      <td>mysqld</td>\n      <td>3862357</td>\n      <td>select</td>\n      <td>&lt;</td>\n      <td>res=0</td>\n    </tr>\n    <tr>\n      <th>26</th>\n      <td>1631083491296433028</td>\n      <td>33</td>\n      <td>3862925</td>\n      <td>apache2</td>\n      <td>3862925</td>\n      <td>poll</td>\n      <td>&lt;</td>\n      <td>res=1</td>\n    </tr>\n    <tr>\n      <th>27</th>\n      <td>1631083491296435798</td>\n      <td>33</td>\n      <td>3862925</td>\n      <td>apache2</td>\n      <td>3862925</td>\n      <td>read</td>\n      <td>&gt;</td>\n      <td>fd=10(&lt;4t&gt;192.168.128.2:36280-&gt;192.168.128.10:80)</td>\n    </tr>\n    <tr>\n      <th>...</th>\n      <td>...</td>\n      <td>...</td>\n      <td>...</td>\n      <td>...</td>\n      <td>...</td>\n      <td>...</td>\n      <td>...</td>\n      <td>...</td>\n    </tr>\n    <tr>\n      <th>3857206</th>\n      <td>1631054137372659043</td>\n      <td>33</td>\n      <td>3256522</td>\n      <td>apache2</td>\n      <td>3256522</td>\n      <td>writev</td>\n      <td>&lt;</td>\n      <td>res=2461</td>\n    </tr>\n    <tr>\n      <th>3857207</th>\n      <td>1631054137372663744</td>\n      <td>33</td>\n      <td>3256522</td>\n      <td>apache2</td>\n      <td>3256522</td>\n      <td>write</td>\n      <td>&gt;</td>\n      <td>fd=7(&lt;f&gt;/var/log/apache2/access.log)</td>\n    </tr>\n    <tr>\n      <th>3857208</th>\n      <td>1631054137372668967</td>\n      <td>33</td>\n      <td>3256522</td>\n      <td>apache2</td>\n      <td>3256522</td>\n      <td>write</td>\n      <td>&lt;</td>\n      <td>res=257</td>\n    </tr>\n    <tr>\n      <th>3857211</th>\n      <td>1631054137372673413</td>\n      <td>33</td>\n      <td>3256522</td>\n      <td>apache2</td>\n      <td>3256522</td>\n      <td>poll</td>\n      <td>&gt;</td>\n      <td>fds=10:41</td>\n    </tr>\n    <tr>\n      <th>3857220</th>\n      <td>1631054137653835148</td>\n      <td>0</td>\n      <td>3256458</td>\n      <td>apache2</td>\n      <td>3256458</td>\n      <td>select</td>\n      <td>&lt;</td>\n      <td>res=0</td>\n    </tr>\n  </tbody>\n</table>\n<p>3038001 rows × 8 columns</p>\n</div>"
     },
     "execution_count": 19,
     "metadata": {},
     "output_type": "execute_result"
    }
   ],
   "source": [
    "has_arg_df"
   ],
   "metadata": {
    "collapsed": false,
    "ExecuteTime": {
     "end_time": "2023-07-03T02:00:25.617946200Z",
     "start_time": "2023-07-03T02:00:25.595008400Z"
    }
   }
  },
  {
   "cell_type": "code",
   "execution_count": null,
   "outputs": [],
   "source": [],
   "metadata": {
    "collapsed": false
   }
  }
 ],
 "metadata": {
  "kernelspec": {
   "display_name": "Python 3",
   "language": "python",
   "name": "python3"
  },
  "language_info": {
   "codemirror_mode": {
    "name": "ipython",
    "version": 2
   },
   "file_extension": ".py",
   "mimetype": "text/x-python",
   "name": "python",
   "nbconvert_exporter": "python",
   "pygments_lexer": "ipython2",
   "version": "2.7.6"
  }
 },
 "nbformat": 4,
 "nbformat_minor": 0
}
