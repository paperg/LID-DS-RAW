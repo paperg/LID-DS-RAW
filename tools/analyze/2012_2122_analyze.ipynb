{
 "cells": [
  {
   "cell_type": "code",
   "execution_count": 1,
   "metadata": {
    "collapsed": true,
    "ExecuteTime": {
     "end_time": "2023-08-23T06:48:58.562343300Z",
     "start_time": "2023-08-23T06:48:57.904396200Z"
    }
   },
   "outputs": [],
   "source": [
    "import numpy as np\n",
    "import pandas as pd\n",
    "import json\n",
    "import os\n",
    "import matplotlib.pyplot as plt\n",
    "import glob\n"
   ]
  },
  {
   "cell_type": "code",
   "execution_count": 2,
   "outputs": [],
   "source": [
    "USE_TIME_DELTA = False\n",
    "USE_PTID = False\n",
    "USE_USA = True\n",
    "USE_USS = True\n",
    "USE_FREQ = False\n",
    "\n",
    "err_files = glob.glob('K:\\\\hids\\\\dataAnalyze\\\\*_exploit.pkl')\n",
    "nor_files = glob.glob('K:\\\\hids\\\\dataAnalyze\\\\*_normal.pkl')\n",
    "\n",
    "columns = ['file_exploit_time', 'current_time']\n",
    "if USE_TIME_DELTA:\n",
    "    columns.extend(['Time_result'])\n",
    "\n",
    "if USE_PTID:\n",
    "    columns.extend(['PID_SW_Freq', 'PID_Number', 'TID_SW_Freq', 'TID_Number'])\n",
    "\n",
    "if USE_USA:\n",
    "    columns.extend(['UnseenARGS'])\n",
    "\n",
    "if USE_USS:\n",
    "    columns.extend(['UnseenSC'])\n",
    "\n",
    "if USE_FREQ:\n",
    "    columns.extend(['Freq'])\n",
    "input_dim = 39 * USE_TIME_DELTA + USE_PTID * 4 + USE_USA + USE_USS + USE_FREQ\n",
    "\n",
    "edf = pd.DataFrame(columns = columns + [i for i in range(input_dim)])\n",
    "ndf = pd.DataFrame(columns = columns + [i for i in range(input_dim)])"
   ],
   "metadata": {
    "collapsed": false,
    "ExecuteTime": {
     "end_time": "2023-08-23T06:48:58.575308800Z",
     "start_time": "2023-08-23T06:48:58.567330500Z"
    }
   }
  },
  {
   "cell_type": "code",
   "execution_count": 3,
   "outputs": [],
   "source": [
    "for file in err_files:\n",
    "    df_tmp = pd.read_pickle(file)\n",
    "    edf = edf.append(df_tmp)\n",
    "\n",
    "for file in nor_files:\n",
    "    df_tmp = pd.read_pickle(file)\n",
    "    ndf = ndf.append(df_tmp)"
   ],
   "metadata": {
    "collapsed": false,
    "ExecuteTime": {
     "end_time": "2023-08-23T06:48:59.133202800Z",
     "start_time": "2023-08-23T06:48:58.576306500Z"
    }
   }
  },
  {
   "cell_type": "code",
   "execution_count": 4,
   "outputs": [
    {
     "data": {
      "text/plain": "    file_exploit_time  current_time  UnseenARGS  UnseenSC             0  \\\n0        1.631177e+09  1.631177e+09         1.0       1.0  4.466003e-08   \n1        1.631177e+09  1.631177e+09         1.0       1.0  4.466003e-08   \n2        1.631177e+09  1.631177e+09         1.0       1.0  4.466003e-08   \n3        1.631177e+09  1.631177e+09         0.0       0.0  2.162960e-03   \n4        1.631177e+09  1.631177e+09         0.0       0.0  2.162960e-03   \n..                ...           ...         ...       ...           ...   \n18       1.631173e+09  1.631173e+09         1.0       1.0  4.466003e-08   \n19       1.631173e+09  1.631173e+09         1.0       1.0  4.466003e-08   \n20       1.631173e+09  1.631173e+09         1.0       1.0  4.466003e-08   \n21       1.631173e+09  1.631173e+09         1.0       1.0  4.466003e-08   \n22       1.631173e+09  1.631173e+09         0.0       0.0  2.162960e-03   \n\n               1  \n0   4.146602e-07  \n1   4.146602e-07  \n2   4.146602e-07  \n3   1.566082e+01  \n4   1.566082e+01  \n..           ...  \n18  4.146602e-07  \n19  4.146602e-07  \n20  4.146602e-07  \n21  4.146602e-07  \n22  1.566082e+01  \n\n[1381 rows x 6 columns]",
      "text/html": "<div>\n<style scoped>\n    .dataframe tbody tr th:only-of-type {\n        vertical-align: middle;\n    }\n\n    .dataframe tbody tr th {\n        vertical-align: top;\n    }\n\n    .dataframe thead th {\n        text-align: right;\n    }\n</style>\n<table border=\"1\" class=\"dataframe\">\n  <thead>\n    <tr style=\"text-align: right;\">\n      <th></th>\n      <th>file_exploit_time</th>\n      <th>current_time</th>\n      <th>UnseenARGS</th>\n      <th>UnseenSC</th>\n      <th>0</th>\n      <th>1</th>\n    </tr>\n  </thead>\n  <tbody>\n    <tr>\n      <th>0</th>\n      <td>1.631177e+09</td>\n      <td>1.631177e+09</td>\n      <td>1.0</td>\n      <td>1.0</td>\n      <td>4.466003e-08</td>\n      <td>4.146602e-07</td>\n    </tr>\n    <tr>\n      <th>1</th>\n      <td>1.631177e+09</td>\n      <td>1.631177e+09</td>\n      <td>1.0</td>\n      <td>1.0</td>\n      <td>4.466003e-08</td>\n      <td>4.146602e-07</td>\n    </tr>\n    <tr>\n      <th>2</th>\n      <td>1.631177e+09</td>\n      <td>1.631177e+09</td>\n      <td>1.0</td>\n      <td>1.0</td>\n      <td>4.466003e-08</td>\n      <td>4.146602e-07</td>\n    </tr>\n    <tr>\n      <th>3</th>\n      <td>1.631177e+09</td>\n      <td>1.631177e+09</td>\n      <td>0.0</td>\n      <td>0.0</td>\n      <td>2.162960e-03</td>\n      <td>1.566082e+01</td>\n    </tr>\n    <tr>\n      <th>4</th>\n      <td>1.631177e+09</td>\n      <td>1.631177e+09</td>\n      <td>0.0</td>\n      <td>0.0</td>\n      <td>2.162960e-03</td>\n      <td>1.566082e+01</td>\n    </tr>\n    <tr>\n      <th>...</th>\n      <td>...</td>\n      <td>...</td>\n      <td>...</td>\n      <td>...</td>\n      <td>...</td>\n      <td>...</td>\n    </tr>\n    <tr>\n      <th>18</th>\n      <td>1.631173e+09</td>\n      <td>1.631173e+09</td>\n      <td>1.0</td>\n      <td>1.0</td>\n      <td>4.466003e-08</td>\n      <td>4.146602e-07</td>\n    </tr>\n    <tr>\n      <th>19</th>\n      <td>1.631173e+09</td>\n      <td>1.631173e+09</td>\n      <td>1.0</td>\n      <td>1.0</td>\n      <td>4.466003e-08</td>\n      <td>4.146602e-07</td>\n    </tr>\n    <tr>\n      <th>20</th>\n      <td>1.631173e+09</td>\n      <td>1.631173e+09</td>\n      <td>1.0</td>\n      <td>1.0</td>\n      <td>4.466003e-08</td>\n      <td>4.146602e-07</td>\n    </tr>\n    <tr>\n      <th>21</th>\n      <td>1.631173e+09</td>\n      <td>1.631173e+09</td>\n      <td>1.0</td>\n      <td>1.0</td>\n      <td>4.466003e-08</td>\n      <td>4.146602e-07</td>\n    </tr>\n    <tr>\n      <th>22</th>\n      <td>1.631173e+09</td>\n      <td>1.631173e+09</td>\n      <td>0.0</td>\n      <td>0.0</td>\n      <td>2.162960e-03</td>\n      <td>1.566082e+01</td>\n    </tr>\n  </tbody>\n</table>\n<p>1381 rows × 6 columns</p>\n</div>"
     },
     "execution_count": 4,
     "metadata": {},
     "output_type": "execute_result"
    }
   ],
   "source": [
    "ndf"
   ],
   "metadata": {
    "collapsed": false,
    "ExecuteTime": {
     "end_time": "2023-08-23T06:48:59.151398100Z",
     "start_time": "2023-08-23T06:48:59.136195600Z"
    }
   }
  },
  {
   "cell_type": "code",
   "execution_count": 5,
   "outputs": [
    {
     "data": {
      "text/plain": "Empty DataFrame\nColumns: [file_exploit_time, current_time, UnseenARGS, UnseenSC, 0, 1]\nIndex: []",
      "text/html": "<div>\n<style scoped>\n    .dataframe tbody tr th:only-of-type {\n        vertical-align: middle;\n    }\n\n    .dataframe tbody tr th {\n        vertical-align: top;\n    }\n\n    .dataframe thead th {\n        text-align: right;\n    }\n</style>\n<table border=\"1\" class=\"dataframe\">\n  <thead>\n    <tr style=\"text-align: right;\">\n      <th></th>\n      <th>file_exploit_time</th>\n      <th>current_time</th>\n      <th>UnseenARGS</th>\n      <th>UnseenSC</th>\n      <th>0</th>\n      <th>1</th>\n    </tr>\n  </thead>\n  <tbody>\n  </tbody>\n</table>\n</div>"
     },
     "execution_count": 5,
     "metadata": {},
     "output_type": "execute_result"
    }
   ],
   "source": [
    "edf"
   ],
   "metadata": {
    "collapsed": false,
    "ExecuteTime": {
     "end_time": "2023-08-23T06:48:59.168912200Z",
     "start_time": "2023-08-23T06:48:59.151398100Z"
    }
   }
  },
  {
   "cell_type": "code",
   "execution_count": 6,
   "outputs": [
    {
     "data": {
      "text/plain": "UnseenARGS  UnseenSC\n1.0         1.0         898\n0.0         0.0         483\ndtype: int64"
     },
     "execution_count": 6,
     "metadata": {},
     "output_type": "execute_result"
    }
   ],
   "source": [
    "# ndf[['Time_result','PID_SW_Freq', 'PID_Number', 'TID_SW_Freq', 'TID_Number', 'UnseenSC']].value_counts()\n",
    "# ndf[[ 'Time_result', 'UnseenARGS','UnseenSC', 'Freq']].value_counts()\n",
    "# ndf[['UnseenARGS','UnseenSC', 'Freq']].value_counts()\n",
    "ndf[['UnseenARGS', 'UnseenSC']].value_counts()"
   ],
   "metadata": {
    "collapsed": false,
    "ExecuteTime": {
     "end_time": "2023-08-23T06:48:59.225295900Z",
     "start_time": "2023-08-23T06:48:59.162416300Z"
    }
   }
  },
  {
   "cell_type": "code",
   "execution_count": 7,
   "outputs": [
    {
     "data": {
      "text/plain": "Series([], dtype: int64)"
     },
     "execution_count": 7,
     "metadata": {},
     "output_type": "execute_result"
    }
   ],
   "source": [
    "# edf[['Time_result', 'PID_SW_Freq', 'PID_Number', 'TID_SW_Freq', 'TID_Number', 'UnseenSC']].value_counts()\n",
    "# edf[[ 'Time_result', 'UnseenARGS','UnseenSC', 'Freq']].value_counts()\n",
    "# edf[['UnseenARGS','UnseenSC', 'Freq']].value_counts()\n",
    "edf[['UnseenARGS', 'UnseenSC']].value_counts()"
   ],
   "metadata": {
    "collapsed": false,
    "ExecuteTime": {
     "end_time": "2023-08-23T06:48:59.241367500Z",
     "start_time": "2023-08-23T06:48:59.175890700Z"
    }
   }
  },
  {
   "cell_type": "code",
   "execution_count": 7,
   "outputs": [],
   "source": [],
   "metadata": {
    "collapsed": false,
    "ExecuteTime": {
     "end_time": "2023-08-23T06:48:59.241367500Z",
     "start_time": "2023-08-23T06:48:59.185181500Z"
    }
   }
  }
 ],
 "metadata": {
  "kernelspec": {
   "name": "ids",
   "language": "python",
   "display_name": "ids"
  },
  "language_info": {
   "codemirror_mode": {
    "name": "ipython",
    "version": 2
   },
   "file_extension": ".py",
   "mimetype": "text/x-python",
   "name": "python",
   "nbconvert_exporter": "python",
   "pygments_lexer": "ipython2",
   "version": "2.7.6"
  }
 },
 "nbformat": 4,
 "nbformat_minor": 0
}
