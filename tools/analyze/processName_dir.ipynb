{
 "cells": [
  {
   "cell_type": "code",
   "execution_count": 6,
   "metadata": {
    "collapsed": true,
    "ExecuteTime": {
     "end_time": "2023-07-02T14:15:24.987773100Z",
     "start_time": "2023-07-02T14:15:24.963837Z"
    }
   },
   "outputs": [],
   "source": [
    "import numpy as np\n",
    "import matplotlib.pyplot as plt\n",
    "from rich.table import Table\n",
    "from rich import print as rptint\n",
    "import json\n",
    "import os\n",
    "import pandas as pd\n",
    "\n",
    "scenario_name = \"CWE-89-SQL-injection\"\n",
    "TIME_PERIOD = 1\n",
    "TIME_INTERVAL = '1MS'\n",
    "save_file_path = os.path.join('K:/hids/LID-DS-master/tools/out', scenario_name)"
   ]
  },
  {
   "cell_type": "markdown",
   "source": [
    "获取数据"
   ],
   "metadata": {
    "collapsed": false
   }
  },
  {
   "cell_type": "code",
   "execution_count": 7,
   "outputs": [],
   "source": [
    "test_normal_df = pd.read_pickle(os.path.join(save_file_path,  'DF_test_normal.pkl'))\n",
    "test_exploit_df = pd.read_pickle(os.path.join(save_file_path, 'DF_test_exploit.pkl'))\n",
    "\n",
    "test_normal_df.time = pd.to_datetime(test_normal_df['time'])\n",
    "test_exploit_df.time = pd.to_datetime(test_exploit_df['time'])"
   ],
   "metadata": {
    "collapsed": false,
    "ExecuteTime": {
     "end_time": "2023-07-02T14:15:28.938277300Z",
     "start_time": "2023-07-02T14:15:27.058300700Z"
    }
   }
  },
  {
   "cell_type": "code",
   "execution_count": 8,
   "outputs": [
    {
     "data": {
      "text/plain": "                                 time  UserID      PID ProcessName      TID  \\\n0       2021-09-08 06:44:50.806378308     101  3861861      mysqld  3862354   \n1       2021-09-08 06:44:50.806386943     101  3861861      mysqld  3862354   \n2       2021-09-08 06:44:50.806627721     101  3861861      mysqld  3862355   \n3       2021-09-08 06:44:50.806631058     101  3861861      mysqld  3862355   \n4       2021-09-08 06:44:50.812467214     101  3861861      mysqld  3862357   \n...                               ...     ...      ...         ...      ...   \n3857219 2021-09-07 22:35:37.639777849     101  3255774      mysqld  3255881   \n3857220 2021-09-07 22:35:37.653835148       0  3256458     apache2  3256458   \n3857221 2021-09-07 22:35:37.653847621       0  3256458     apache2  3256458   \n3857222 2021-09-07 22:35:37.653858358       0  3256458     apache2  3256458   \n3857223 2021-09-07 22:35:37.653860591       0  3256458     apache2  3256458   \n\n              syscall DIR   ARGS  \n0              select   <  res=0  \n1              select   >    NaN  \n2              select   <  res=0  \n3              select   >    NaN  \n4              select   <  res=0  \n...               ...  ..    ...  \n3857219  io_getevents   >    NaN  \n3857220        select   <  res=0  \n3857221         wait4   >    NaN  \n3857222         wait4   <    NaN  \n3857223        select   >    NaN  \n\n[3857224 rows x 8 columns]",
      "text/html": "<div>\n<style scoped>\n    .dataframe tbody tr th:only-of-type {\n        vertical-align: middle;\n    }\n\n    .dataframe tbody tr th {\n        vertical-align: top;\n    }\n\n    .dataframe thead th {\n        text-align: right;\n    }\n</style>\n<table border=\"1\" class=\"dataframe\">\n  <thead>\n    <tr style=\"text-align: right;\">\n      <th></th>\n      <th>time</th>\n      <th>UserID</th>\n      <th>PID</th>\n      <th>ProcessName</th>\n      <th>TID</th>\n      <th>syscall</th>\n      <th>DIR</th>\n      <th>ARGS</th>\n    </tr>\n  </thead>\n  <tbody>\n    <tr>\n      <th>0</th>\n      <td>2021-09-08 06:44:50.806378308</td>\n      <td>101</td>\n      <td>3861861</td>\n      <td>mysqld</td>\n      <td>3862354</td>\n      <td>select</td>\n      <td>&lt;</td>\n      <td>res=0</td>\n    </tr>\n    <tr>\n      <th>1</th>\n      <td>2021-09-08 06:44:50.806386943</td>\n      <td>101</td>\n      <td>3861861</td>\n      <td>mysqld</td>\n      <td>3862354</td>\n      <td>select</td>\n      <td>&gt;</td>\n      <td>NaN</td>\n    </tr>\n    <tr>\n      <th>2</th>\n      <td>2021-09-08 06:44:50.806627721</td>\n      <td>101</td>\n      <td>3861861</td>\n      <td>mysqld</td>\n      <td>3862355</td>\n      <td>select</td>\n      <td>&lt;</td>\n      <td>res=0</td>\n    </tr>\n    <tr>\n      <th>3</th>\n      <td>2021-09-08 06:44:50.806631058</td>\n      <td>101</td>\n      <td>3861861</td>\n      <td>mysqld</td>\n      <td>3862355</td>\n      <td>select</td>\n      <td>&gt;</td>\n      <td>NaN</td>\n    </tr>\n    <tr>\n      <th>4</th>\n      <td>2021-09-08 06:44:50.812467214</td>\n      <td>101</td>\n      <td>3861861</td>\n      <td>mysqld</td>\n      <td>3862357</td>\n      <td>select</td>\n      <td>&lt;</td>\n      <td>res=0</td>\n    </tr>\n    <tr>\n      <th>...</th>\n      <td>...</td>\n      <td>...</td>\n      <td>...</td>\n      <td>...</td>\n      <td>...</td>\n      <td>...</td>\n      <td>...</td>\n      <td>...</td>\n    </tr>\n    <tr>\n      <th>3857219</th>\n      <td>2021-09-07 22:35:37.639777849</td>\n      <td>101</td>\n      <td>3255774</td>\n      <td>mysqld</td>\n      <td>3255881</td>\n      <td>io_getevents</td>\n      <td>&gt;</td>\n      <td>NaN</td>\n    </tr>\n    <tr>\n      <th>3857220</th>\n      <td>2021-09-07 22:35:37.653835148</td>\n      <td>0</td>\n      <td>3256458</td>\n      <td>apache2</td>\n      <td>3256458</td>\n      <td>select</td>\n      <td>&lt;</td>\n      <td>res=0</td>\n    </tr>\n    <tr>\n      <th>3857221</th>\n      <td>2021-09-07 22:35:37.653847621</td>\n      <td>0</td>\n      <td>3256458</td>\n      <td>apache2</td>\n      <td>3256458</td>\n      <td>wait4</td>\n      <td>&gt;</td>\n      <td>NaN</td>\n    </tr>\n    <tr>\n      <th>3857222</th>\n      <td>2021-09-07 22:35:37.653858358</td>\n      <td>0</td>\n      <td>3256458</td>\n      <td>apache2</td>\n      <td>3256458</td>\n      <td>wait4</td>\n      <td>&lt;</td>\n      <td>NaN</td>\n    </tr>\n    <tr>\n      <th>3857223</th>\n      <td>2021-09-07 22:35:37.653860591</td>\n      <td>0</td>\n      <td>3256458</td>\n      <td>apache2</td>\n      <td>3256458</td>\n      <td>select</td>\n      <td>&gt;</td>\n      <td>NaN</td>\n    </tr>\n  </tbody>\n</table>\n<p>3857224 rows × 8 columns</p>\n</div>"
     },
     "execution_count": 8,
     "metadata": {},
     "output_type": "execute_result"
    }
   ],
   "source": [
    "test_normal_df"
   ],
   "metadata": {
    "collapsed": false,
    "ExecuteTime": {
     "end_time": "2023-07-02T14:15:29.535726300Z",
     "start_time": "2023-07-02T14:15:29.500819500Z"
    }
   }
  },
  {
   "cell_type": "markdown",
   "source": [
    "### 1. 程序名分析"
   ],
   "metadata": {
    "collapsed": false
   }
  },
  {
   "cell_type": "markdown",
   "source": [
    "查看程序名字是不是就是两个"
   ],
   "metadata": {
    "collapsed": false
   }
  },
  {
   "cell_type": "code",
   "execution_count": 19,
   "outputs": [
    {
     "data": {
      "text/plain": "2"
     },
     "execution_count": 19,
     "metadata": {},
     "output_type": "execute_result"
    }
   ],
   "source": [
    "len(test_normal_df['ProcessName'].value_counts())"
   ],
   "metadata": {
    "collapsed": false,
    "ExecuteTime": {
     "end_time": "2023-07-03T01:44:00.660635200Z",
     "start_time": "2023-07-03T01:44:00.393348500Z"
    }
   }
  },
  {
   "cell_type": "code",
   "execution_count": 12,
   "outputs": [
    {
     "data": {
      "text/plain": "apache2    1721144\nmysqld     1010045\nName: ProcessName, dtype: int64"
     },
     "execution_count": 12,
     "metadata": {},
     "output_type": "execute_result"
    }
   ],
   "source": [
    "test_exploit_df['ProcessName'].value_counts()"
   ],
   "metadata": {
    "collapsed": false,
    "ExecuteTime": {
     "end_time": "2023-07-02T14:19:55.235666Z",
     "start_time": "2023-07-02T14:19:55.080055800Z"
    }
   }
  },
  {
   "cell_type": "markdown",
   "source": [
    "由上知，就两个程序。"
   ],
   "metadata": {
    "collapsed": false
   }
  },
  {
   "cell_type": "markdown",
   "source": [
    "### 2. 调用方向分析"
   ],
   "metadata": {
    "collapsed": false
   }
  },
  {
   "cell_type": "code",
   "execution_count": 10,
   "outputs": [
    {
     "data": {
      "text/plain": ">    1928761\n<    1928463\nName: DIR, dtype: int64"
     },
     "execution_count": 10,
     "metadata": {},
     "output_type": "execute_result"
    }
   ],
   "source": [
    "test_normal_df['DIR'].value_counts()"
   ],
   "metadata": {
    "collapsed": false,
    "ExecuteTime": {
     "end_time": "2023-07-02T14:18:58.661619300Z",
     "start_time": "2023-07-02T14:18:58.649651200Z"
    }
   }
  },
  {
   "cell_type": "code",
   "execution_count": 13,
   "outputs": [
    {
     "data": {
      "text/plain": ">    1365652\n<    1365537\nName: DIR, dtype: int64"
     },
     "execution_count": 13,
     "metadata": {},
     "output_type": "execute_result"
    }
   ],
   "source": [
    "test_exploit_df['DIR'].value_counts()"
   ],
   "metadata": {
    "collapsed": false,
    "ExecuteTime": {
     "end_time": "2023-07-02T14:20:07.094289400Z",
     "start_time": "2023-07-02T14:20:06.944689700Z"
    }
   }
  },
  {
   "cell_type": "markdown",
   "source": [
    "由上知，方向不对称，数目不一样。继续分析，每分钟，两个的数量区别。 目前看差别不大"
   ],
   "metadata": {
    "collapsed": false
   }
  },
  {
   "cell_type": "code",
   "execution_count": 17,
   "outputs": [
    {
     "name": "stderr",
     "output_type": "stream",
     "text": [
      "C:\\Users\\SkyGP\\.conda\\envs\\ids\\lib\\site-packages\\pandas\\core\\generic.py:5170: SettingWithCopyWarning: \n",
      "A value is trying to be set on a copy of a slice from a DataFrame.\n",
      "Try using .loc[row_indexer,col_indexer] = value instead\n",
      "\n",
      "See the caveats in the documentation: https://pandas.pydata.org/pandas-docs/stable/user_guide/indexing.html#returning-a-view-versus-a-copy\n",
      "  self[name] = value\n"
     ]
    },
    {
     "data": {
      "text/plain": "time\n2021-09-08 06:44:50      12\n2021-09-08 06:44:51    2222\n2021-09-08 06:44:52    4756\n2021-09-08 06:44:53    5050\n2021-09-08 06:44:54    3834\n2021-09-08 06:44:55    2554\n2021-09-08 06:44:56    4140\n2021-09-08 06:44:57    3174\n2021-09-08 06:44:58    3993\n2021-09-08 06:44:59    1344\n2021-09-08 06:45:00    1510\n2021-09-08 06:45:01    1447\n2021-09-08 06:45:02    1430\n2021-09-08 06:45:03    1320\n2021-09-08 06:45:04    2443\nFreq: S, Name: DIR, dtype: int64"
     },
     "execution_count": 17,
     "metadata": {},
     "output_type": "execute_result"
    }
   ],
   "source": [
    "df = pd.read_pickle(os.path.join(save_file_path, 'DataFrame', 'abundant_taussig_9121.pkl'))\n",
    "df_normal = df[df['time'] < 1631083504800282000]\n",
    "df_exploit = df[df['time'] >= 1631083504800282000]\n",
    "df_normal.time = pd.to_datetime(df_normal['time'])\n",
    "df_exploit.time = pd.to_datetime(df_exploit['time'])\n",
    "\n",
    "df_normal.resample('S',on='time')['DIR'].agg('count')\n"
   ],
   "metadata": {
    "collapsed": false,
    "ExecuteTime": {
     "end_time": "2023-07-03T01:42:15.617747500Z",
     "start_time": "2023-07-03T01:42:15.521007Z"
    }
   }
  },
  {
   "cell_type": "code",
   "execution_count": 21,
   "outputs": [
    {
     "data": {
      "text/plain": "time                 DIR\n2021-09-08 06:13:50  >       2438\n                     <       2436\n2021-09-08 06:13:51  >       7908\n                     <       7907\n2021-09-08 06:13:52  >      25105\n                     <      25104\n2021-09-08 06:13:53  >        985\n                     <        984\n2021-09-08 06:13:54  >       1633\n                     <       1632\n2021-09-08 06:13:55  >       1713\n                     <       1712\n2021-09-08 06:13:56  >        898\n                     <        897\n2021-09-08 06:13:57  >       1597\n                     <       1596\n2021-09-08 06:13:58  >        763\n                     <        762\n2021-09-08 06:13:59  >       1331\n                     <       1330\n2021-09-08 06:14:00  >       1008\n                     <       1007\n2021-09-08 06:14:01  >       1715\n                     <       1714\n2021-09-08 06:14:02  >       6540\n                     <       6539\n2021-09-08 06:14:03  <       7793\n                     >       7793\n2021-09-08 06:14:04  <        671\n                     >        671\n2021-09-08 06:14:05  <        600\n                     >        600\n2021-09-08 06:14:06  <       1576\n                     >       1576\n2021-09-08 06:14:07  <       1047\n                     >       1047\n2021-09-08 06:14:08  <       1670\n                     >       1670\n2021-09-08 06:14:09  <        874\n                     >        874\nName: DIR, dtype: int64"
     },
     "execution_count": 21,
     "metadata": {},
     "output_type": "execute_result"
    }
   ],
   "source": [
    "df_exploit.resample('S',on='time')['DIR'].value_counts()"
   ],
   "metadata": {
    "collapsed": false,
    "ExecuteTime": {
     "end_time": "2023-07-03T01:46:39.428798700Z",
     "start_time": "2023-07-03T01:46:39.381150700Z"
    }
   }
  },
  {
   "cell_type": "markdown",
   "source": [
    "### 程序整合"
   ],
   "metadata": {
    "collapsed": false
   }
  },
  {
   "cell_type": "markdown",
   "source": [
    "#### 程序名"
   ],
   "metadata": {
    "collapsed": false
   }
  },
  {
   "cell_type": "code",
   "execution_count": 20,
   "outputs": [
    {
     "data": {
      "text/plain": "<Figure size 1800x1500 with 1 Axes>",
      "image/png": "[encoded data removed]"
     },
     "metadata": {},
     "output_type": "display_data"
    }
   ],
   "source": [
    "import numpy as np\n",
    "import matplotlib.pyplot as plt\n",
    "from rich.table import Table\n",
    "from rich import print as rptint\n",
    "import json\n",
    "import os\n",
    "import pandas as pd\n",
    "\n",
    "scenario_name = \"CWE-89-SQL-injection\"\n",
    "save_file_path = os.path.join('K:/hids/LID-DS-master/tools/out', scenario_name)\n",
    "\n",
    "work_dir = os.path.join(save_file_path, 'DataFrame')\n",
    "\n",
    "with open(os.path.join(save_file_path, scenario_name + '.json'),'r') as f:\n",
    "    exploit_record = json.load(f)\n",
    "\n",
    "plt.figure(figsize=(18,15))\n",
    "bins = np.arange(0, 50000, 500)\n",
    "\n",
    "for file in os.listdir(work_dir):\n",
    "    df  = pd.read_pickle(os.path.join(work_dir,  file))\n",
    "\n",
    "    # 判断程序是否只有两个\n",
    "    if len(df['ProcessName'].value_counts()) != 2:\n",
    "        print(f'File {file} has not two Process Name')\n",
    "\n",
    "    exploit_start_time = exploit_record.get(file, 0)\n",
    "\n",
    "    if exploit_start_time == 0:\n",
    "        df_normal = df\n",
    "        df_normal.time = pd.to_datetime(df_normal['time'])\n",
    "        normal = df_normal.resample('S',on='time')['DIR'].agg('count').to_list()\n",
    "        plt.hist(normal, bins=bins, alpha = 0.5, color='c')\n",
    "    else:\n",
    "        # print(f'File {file} Exploit, time: {exploit_start_time}')\n",
    "        x = df.copy()\n",
    "        df_normal = df[df['time'] < exploit_start_time]\n",
    "        df_exploit = df[df['time'] >= exploit_start_time]\n",
    "\n",
    "        x = df_normal.copy()\n",
    "        x.loc[:, 'time'] = pd.to_datetime(x.loc[:, 'time'])\n",
    "        df_normal = x\n",
    "\n",
    "        x = df_exploit.copy()\n",
    "        x.loc[:, 'time'] = pd.to_datetime(x.loc[:, 'time'])\n",
    "        df_exploit = x\n",
    "\n",
    "        exploit = df_exploit.resample('S',on='time')['DIR'].agg('count').to_list()\n",
    "        normal = df_normal.resample('S',on='time')['DIR'].agg('count').to_list()\n",
    "\n",
    "        plt.hist(normal, bins=bins, alpha = 0.5, color='c')\n",
    "        plt.hist(exploit,  bins=bins, alpha = 0.5, color='r')\n",
    "\n",
    "plt.show()\n"
   ],
   "metadata": {
    "collapsed": false,
    "ExecuteTime": {
     "end_time": "2023-07-03T01:45:56.063776900Z",
     "start_time": "2023-07-03T01:45:46.015636800Z"
    }
   }
  },
  {
   "cell_type": "code",
   "execution_count": null,
   "outputs": [],
   "source": [],
   "metadata": {
    "collapsed": false
   }
  }
 ],
 "metadata": {
  "kernelspec": {
   "display_name": "Python 3",
   "language": "python",
   "name": "python3"
  },
  "language_info": {
   "codemirror_mode": {
    "name": "ipython",
    "version": 2
   },
   "file_extension": ".py",
   "mimetype": "text/x-python",
   "name": "python",
   "nbconvert_exporter": "python",
   "pygments_lexer": "ipython2",
   "version": "2.7.6"
  }
 },
 "nbformat": 4,
 "nbformat_minor": 0
}
