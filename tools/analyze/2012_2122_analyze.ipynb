{
 "cells": [
  {
   "cell_type": "code",
   "execution_count": 6,
   "metadata": {
    "collapsed": true,
    "ExecuteTime": {
     "end_time": "2024-02-16T02:09:33.967037Z",
     "start_time": "2024-02-16T02:09:33.938114Z"
    }
   },
   "outputs": [],
   "source": [
    "import numpy as np\n",
    "import pandas as pd\n",
    "import json\n",
    "import os\n",
    "import matplotlib.pyplot as plt\n",
    "import glob\n"
   ]
  },
  {
   "cell_type": "code",
   "execution_count": 7,
   "outputs": [],
   "source": [
    "USE_TIME_DELTA = False\n",
    "USE_PTID = False\n",
    "USE_USA = True\n",
    "USE_USS = True\n",
    "USE_FREQ = True\n",
    "USE_SC_MAX_SIZE = True\n",
    "USE_RET = True\n",
    "\n",
    "err_files = glob.glob('K:\\\\hids\\\\dataAnalyze\\\\*_exploit.pkl')\n",
    "nor_files = glob.glob('K:\\\\hids\\\\dataAnalyze\\\\*_normal.pkl')\n",
    "\n",
    "columns = ['file_exploit_time', 'current_time']\n",
    "if USE_TIME_DELTA:\n",
    "    columns.extend(['Time_result'])\n",
    "\n",
    "if USE_PTID:\n",
    "    columns.extend(['PID_SW_Freq', 'PID_Number', 'TID_SW_Freq', 'TID_Number'])\n",
    "\n",
    "if USE_USA:\n",
    "    columns.extend(['UnseenARGS'])\n",
    "\n",
    "if USE_USS:\n",
    "    columns.extend(['UnseenSC'])\n",
    "\n",
    "if USE_RET:\n",
    "    columns.extend(['Return'])\n",
    "\n",
    "if USE_FREQ:\n",
    "    columns.extend(['Freq'])\n",
    "\n",
    "if USE_SC_MAX_SIZE:\n",
    "    columns.extend(['SC Max Size ' + str(i) for i in range(14)])\n",
    "\n",
    "input_dim = 39 * USE_TIME_DELTA + USE_PTID * 4 + USE_RET + USE_USA + USE_USS + USE_FREQ + USE_SC_MAX_SIZE * 14\n",
    "\n",
    "edf = pd.DataFrame(columns = columns + [i for i in range(input_dim * 2)])\n",
    "ndf = pd.DataFrame(columns = columns + [i for i in range(input_dim * 2)])"
   ],
   "metadata": {
    "collapsed": false,
    "ExecuteTime": {
     "end_time": "2024-02-16T02:09:34.003966300Z",
     "start_time": "2024-02-16T02:09:33.946094600Z"
    }
   }
  },
  {
   "cell_type": "code",
   "execution_count": 7,
   "outputs": [],
   "source": [],
   "metadata": {
    "collapsed": false,
    "ExecuteTime": {
     "end_time": "2024-02-16T02:09:34.003966300Z",
     "start_time": "2024-02-16T02:09:33.956065900Z"
    }
   }
  },
  {
   "cell_type": "code",
   "execution_count": 8,
   "outputs": [],
   "source": [
    "for file in err_files:\n",
    "    df_tmp = pd.read_pickle(file)\n",
    "    edf = edf.append(df_tmp)\n",
    "\n",
    "for file in nor_files:\n",
    "    df_tmp = pd.read_pickle(file)\n",
    "    ndf = ndf.append(df_tmp)"
   ],
   "metadata": {
    "collapsed": false,
    "ExecuteTime": {
     "end_time": "2024-02-16T02:09:34.625045400Z",
     "start_time": "2024-02-16T02:09:33.962051400Z"
    }
   }
  },
  {
   "cell_type": "code",
   "execution_count": 9,
   "outputs": [
    {
     "data": {
      "text/plain": "    file_exploit_time  current_time  UnseenARGS  UnseenSC  Return  Freq  \\\n0        1.631605e+09  1.631605e+09         1.0       1.0     1.0   1.0   \n1        1.631605e+09  1.631605e+09         1.0       1.0     1.0   1.0   \n2        1.631605e+09  1.631605e+09         1.0       1.0     1.0   1.0   \n3        1.631605e+09  1.631605e+09         1.0       1.0     1.0   1.0   \n4        1.631605e+09  1.631605e+09         1.0       1.0     1.0   1.0   \n..                ...           ...         ...       ...     ...   ...   \n17       1.631608e+09  1.631608e+09         1.0       1.0     1.0   1.0   \n18       1.631608e+09  1.631608e+09         1.0       1.0     1.0   1.0   \n19       1.631608e+09  1.631608e+09         1.0       1.0     1.0   1.0   \n20       1.631608e+09  1.631608e+09         1.0       1.0     1.0   1.0   \n21       1.631608e+09  1.631608e+09         1.0       1.0     1.0   1.0   \n\n    SC Max Size 0  SC Max Size 1  SC Max Size 2  SC Max Size 3  ...  \\\n0             1.0            1.0            1.0            1.0  ...   \n1             1.0            1.0            1.0            1.0  ...   \n2             1.0            1.0            1.0            1.0  ...   \n3             1.0            1.0            1.0            1.0  ...   \n4             1.0            1.0            1.0            1.0  ...   \n..            ...            ...            ...            ...  ...   \n17            1.0            1.0            1.0            1.0  ...   \n18            1.0            1.0            1.0            1.0  ...   \n19            1.0            1.0            1.0            1.0  ...   \n20            1.0            1.0            1.0            1.0  ...   \n21            1.0            1.0            1.0            1.0  ...   \n\n              26            27        28            29            30  \\\n0   1.868269e-14  1.126913e-25  0.000336  7.284748e-20  1.765799e-07   \n1   8.063528e-15  1.171934e-25  0.000074  3.068397e-20  6.367174e-08   \n2   1.996717e-14  1.051091e-25  0.000369  6.749539e-20  1.843755e-07   \n3   1.996717e-14  1.051091e-25  0.000369  6.749539e-20  1.843755e-07   \n4   1.996717e-14  1.051091e-25  0.000369  6.749539e-20  1.843755e-07   \n..           ...           ...       ...           ...           ...   \n17  8.063528e-15  1.171934e-25  0.000074  3.068397e-20  6.367174e-08   \n18  8.063528e-15  1.171934e-25  0.000074  3.068397e-20  6.367174e-08   \n19  8.063528e-15  1.171934e-25  0.000074  3.068397e-20  6.367174e-08   \n20  8.063528e-15  1.171934e-25  0.000074  3.068397e-20  6.367174e-08   \n21  8.063528e-15  1.171934e-25  0.000074  3.068397e-20  6.367174e-08   \n\n              31   32   33   34   35  \n0   4.547423e-09  NaN  NaN  NaN  NaN  \n1   1.774138e-09  NaN  NaN  NaN  NaN  \n2   4.700154e-09  NaN  NaN  NaN  NaN  \n3   4.700154e-09  NaN  NaN  NaN  NaN  \n4   4.700154e-09  NaN  NaN  NaN  NaN  \n..           ...  ...  ...  ...  ...  \n17  1.774138e-09  NaN  NaN  NaN  NaN  \n18  1.774138e-09  NaN  NaN  NaN  NaN  \n19  1.774138e-09  NaN  NaN  NaN  NaN  \n20  1.774138e-09  NaN  NaN  NaN  NaN  \n21  1.774138e-09  NaN  NaN  NaN  NaN  \n\n[1951 rows x 56 columns]",
      "text/html": "<div>\n<style scoped>\n    .dataframe tbody tr th:only-of-type {\n        vertical-align: middle;\n    }\n\n    .dataframe tbody tr th {\n        vertical-align: top;\n    }\n\n    .dataframe thead th {\n        text-align: right;\n    }\n</style>\n<table border=\"1\" class=\"dataframe\">\n  <thead>\n    <tr style=\"text-align: right;\">\n      <th></th>\n      <th>file_exploit_time</th>\n      <th>current_time</th>\n      <th>UnseenARGS</th>\n      <th>UnseenSC</th>\n      <th>Return</th>\n      <th>Freq</th>\n      <th>SC Max Size 0</th>\n      <th>SC Max Size 1</th>\n      <th>SC Max Size 2</th>\n      <th>SC Max Size 3</th>\n      <th>...</th>\n      <th>26</th>\n      <th>27</th>\n      <th>28</th>\n      <th>29</th>\n      <th>30</th>\n      <th>31</th>\n      <th>32</th>\n      <th>33</th>\n      <th>34</th>\n      <th>35</th>\n    </tr>\n  </thead>\n  <tbody>\n    <tr>\n      <th>0</th>\n      <td>1.631605e+09</td>\n      <td>1.631605e+09</td>\n      <td>1.0</td>\n      <td>1.0</td>\n      <td>1.0</td>\n      <td>1.0</td>\n      <td>1.0</td>\n      <td>1.0</td>\n      <td>1.0</td>\n      <td>1.0</td>\n      <td>...</td>\n      <td>1.868269e-14</td>\n      <td>1.126913e-25</td>\n      <td>0.000336</td>\n      <td>7.284748e-20</td>\n      <td>1.765799e-07</td>\n      <td>4.547423e-09</td>\n      <td>NaN</td>\n      <td>NaN</td>\n      <td>NaN</td>\n      <td>NaN</td>\n    </tr>\n    <tr>\n      <th>1</th>\n      <td>1.631605e+09</td>\n      <td>1.631605e+09</td>\n      <td>1.0</td>\n      <td>1.0</td>\n      <td>1.0</td>\n      <td>1.0</td>\n      <td>1.0</td>\n      <td>1.0</td>\n      <td>1.0</td>\n      <td>1.0</td>\n      <td>...</td>\n      <td>8.063528e-15</td>\n      <td>1.171934e-25</td>\n      <td>0.000074</td>\n      <td>3.068397e-20</td>\n      <td>6.367174e-08</td>\n      <td>1.774138e-09</td>\n      <td>NaN</td>\n      <td>NaN</td>\n      <td>NaN</td>\n      <td>NaN</td>\n    </tr>\n    <tr>\n      <th>2</th>\n      <td>1.631605e+09</td>\n      <td>1.631605e+09</td>\n      <td>1.0</td>\n      <td>1.0</td>\n      <td>1.0</td>\n      <td>1.0</td>\n      <td>1.0</td>\n      <td>1.0</td>\n      <td>1.0</td>\n      <td>1.0</td>\n      <td>...</td>\n      <td>1.996717e-14</td>\n      <td>1.051091e-25</td>\n      <td>0.000369</td>\n      <td>6.749539e-20</td>\n      <td>1.843755e-07</td>\n      <td>4.700154e-09</td>\n      <td>NaN</td>\n      <td>NaN</td>\n      <td>NaN</td>\n      <td>NaN</td>\n    </tr>\n    <tr>\n      <th>3</th>\n      <td>1.631605e+09</td>\n      <td>1.631605e+09</td>\n      <td>1.0</td>\n      <td>1.0</td>\n      <td>1.0</td>\n      <td>1.0</td>\n      <td>1.0</td>\n      <td>1.0</td>\n      <td>1.0</td>\n      <td>1.0</td>\n      <td>...</td>\n      <td>1.996717e-14</td>\n      <td>1.051091e-25</td>\n      <td>0.000369</td>\n      <td>6.749539e-20</td>\n      <td>1.843755e-07</td>\n      <td>4.700154e-09</td>\n      <td>NaN</td>\n      <td>NaN</td>\n      <td>NaN</td>\n      <td>NaN</td>\n    </tr>\n    <tr>\n      <th>4</th>\n      <td>1.631605e+09</td>\n      <td>1.631605e+09</td>\n      <td>1.0</td>\n      <td>1.0</td>\n      <td>1.0</td>\n      <td>1.0</td>\n      <td>1.0</td>\n      <td>1.0</td>\n      <td>1.0</td>\n      <td>1.0</td>\n      <td>...</td>\n      <td>1.996717e-14</td>\n      <td>1.051091e-25</td>\n      <td>0.000369</td>\n      <td>6.749539e-20</td>\n      <td>1.843755e-07</td>\n      <td>4.700154e-09</td>\n      <td>NaN</td>\n      <td>NaN</td>\n      <td>NaN</td>\n      <td>NaN</td>\n    </tr>\n    <tr>\n      <th>...</th>\n      <td>...</td>\n      <td>...</td>\n      <td>...</td>\n      <td>...</td>\n      <td>...</td>\n      <td>...</td>\n      <td>...</td>\n      <td>...</td>\n      <td>...</td>\n      <td>...</td>\n      <td>...</td>\n      <td>...</td>\n      <td>...</td>\n      <td>...</td>\n      <td>...</td>\n      <td>...</td>\n      <td>...</td>\n      <td>...</td>\n      <td>...</td>\n      <td>...</td>\n      <td>...</td>\n    </tr>\n    <tr>\n      <th>17</th>\n      <td>1.631608e+09</td>\n      <td>1.631608e+09</td>\n      <td>1.0</td>\n      <td>1.0</td>\n      <td>1.0</td>\n      <td>1.0</td>\n      <td>1.0</td>\n      <td>1.0</td>\n      <td>1.0</td>\n      <td>1.0</td>\n      <td>...</td>\n      <td>8.063528e-15</td>\n      <td>1.171934e-25</td>\n      <td>0.000074</td>\n      <td>3.068397e-20</td>\n      <td>6.367174e-08</td>\n      <td>1.774138e-09</td>\n      <td>NaN</td>\n      <td>NaN</td>\n      <td>NaN</td>\n      <td>NaN</td>\n    </tr>\n    <tr>\n      <th>18</th>\n      <td>1.631608e+09</td>\n      <td>1.631608e+09</td>\n      <td>1.0</td>\n      <td>1.0</td>\n      <td>1.0</td>\n      <td>1.0</td>\n      <td>1.0</td>\n      <td>1.0</td>\n      <td>1.0</td>\n      <td>1.0</td>\n      <td>...</td>\n      <td>8.063528e-15</td>\n      <td>1.171934e-25</td>\n      <td>0.000074</td>\n      <td>3.068397e-20</td>\n      <td>6.367174e-08</td>\n      <td>1.774138e-09</td>\n      <td>NaN</td>\n      <td>NaN</td>\n      <td>NaN</td>\n      <td>NaN</td>\n    </tr>\n    <tr>\n      <th>19</th>\n      <td>1.631608e+09</td>\n      <td>1.631608e+09</td>\n      <td>1.0</td>\n      <td>1.0</td>\n      <td>1.0</td>\n      <td>1.0</td>\n      <td>1.0</td>\n      <td>1.0</td>\n      <td>1.0</td>\n      <td>1.0</td>\n      <td>...</td>\n      <td>8.063528e-15</td>\n      <td>1.171934e-25</td>\n      <td>0.000074</td>\n      <td>3.068397e-20</td>\n      <td>6.367174e-08</td>\n      <td>1.774138e-09</td>\n      <td>NaN</td>\n      <td>NaN</td>\n      <td>NaN</td>\n      <td>NaN</td>\n    </tr>\n    <tr>\n      <th>20</th>\n      <td>1.631608e+09</td>\n      <td>1.631608e+09</td>\n      <td>1.0</td>\n      <td>1.0</td>\n      <td>1.0</td>\n      <td>1.0</td>\n      <td>1.0</td>\n      <td>1.0</td>\n      <td>1.0</td>\n      <td>1.0</td>\n      <td>...</td>\n      <td>8.063528e-15</td>\n      <td>1.171934e-25</td>\n      <td>0.000074</td>\n      <td>3.068397e-20</td>\n      <td>6.367174e-08</td>\n      <td>1.774138e-09</td>\n      <td>NaN</td>\n      <td>NaN</td>\n      <td>NaN</td>\n      <td>NaN</td>\n    </tr>\n    <tr>\n      <th>21</th>\n      <td>1.631608e+09</td>\n      <td>1.631608e+09</td>\n      <td>1.0</td>\n      <td>1.0</td>\n      <td>1.0</td>\n      <td>1.0</td>\n      <td>1.0</td>\n      <td>1.0</td>\n      <td>1.0</td>\n      <td>1.0</td>\n      <td>...</td>\n      <td>8.063528e-15</td>\n      <td>1.171934e-25</td>\n      <td>0.000074</td>\n      <td>3.068397e-20</td>\n      <td>6.367174e-08</td>\n      <td>1.774138e-09</td>\n      <td>NaN</td>\n      <td>NaN</td>\n      <td>NaN</td>\n      <td>NaN</td>\n    </tr>\n  </tbody>\n</table>\n<p>1951 rows × 56 columns</p>\n</div>"
     },
     "execution_count": 9,
     "metadata": {},
     "output_type": "execute_result"
    }
   ],
   "source": [
    "ndf"
   ],
   "metadata": {
    "collapsed": false,
    "ExecuteTime": {
     "end_time": "2024-02-16T02:09:34.656960Z",
     "start_time": "2024-02-16T02:09:34.627017700Z"
    }
   }
  },
  {
   "cell_type": "code",
   "execution_count": 10,
   "outputs": [
    {
     "data": {
      "text/plain": "    file_exploit_time  current_time  UnseenARGS  UnseenSC  Return  Freq  \\\n0        1.631605e+09  1.631605e+09         1.0       0.0     1.0   1.0   \n1        1.631605e+09  1.631605e+09         1.0       0.0     1.0   1.0   \n2        1.631605e+09  1.631605e+09         1.0       0.0     1.0   1.0   \n0        1.631610e+09  1.631610e+09         1.0       0.0     1.0   1.0   \n0        1.631610e+09  1.631610e+09         1.0       0.0     1.0   1.0   \n..                ...           ...         ...       ...     ...   ...   \n1        1.631607e+09  1.631607e+09         1.0       0.0     1.0   1.0   \n2        1.631607e+09  1.631607e+09         1.0       0.0     1.0   1.0   \n0        1.631608e+09  1.631608e+09         1.0       0.0     1.0   1.0   \n1        1.631608e+09  1.631608e+09         1.0       0.0     1.0   1.0   \n2        1.631608e+09  1.631608e+09         1.0       0.0     1.0   1.0   \n\n    SC Max Size 0  SC Max Size 1  SC Max Size 2  SC Max Size 3  ...  \\\n0             1.0            1.0            1.0            1.0  ...   \n1             1.0            1.0            1.0            1.0  ...   \n2             1.0            1.0            1.0            1.0  ...   \n0             1.0            1.0            1.0            1.0  ...   \n0             1.0            1.0            1.0            1.0  ...   \n..            ...            ...            ...            ...  ...   \n1             1.0            1.0            1.0            1.0  ...   \n2             1.0            1.0            1.0            1.0  ...   \n0             1.0            1.0            1.0            1.0  ...   \n1             1.0            1.0            1.0            1.0  ...   \n2             1.0            1.0            1.0            1.0  ...   \n\n              26            27        28            29            30  \\\n0   9.275395e-15  5.722292e-25  0.000195  6.197001e-20  9.246563e-08   \n1   9.275395e-15  5.722292e-25  0.000195  6.197001e-20  9.246563e-08   \n2   9.275395e-15  5.722292e-25  0.000195  6.197001e-20  9.246563e-08   \n0   1.286944e-14  3.117304e-26  0.000393  3.764144e-20  9.909382e-08   \n0   1.286944e-14  3.117304e-26  0.000393  3.764144e-20  9.909382e-08   \n..           ...           ...       ...           ...           ...   \n1   2.960719e-14  4.910000e-25  0.000161  2.169027e-20  2.532536e-07   \n2   2.960719e-14  4.910000e-25  0.000161  2.169027e-20  2.532536e-07   \n0   9.275395e-15  5.722292e-25  0.000195  6.197001e-20  9.246561e-08   \n1   9.275395e-15  5.722292e-25  0.000195  6.197001e-20  9.246561e-08   \n2   9.275395e-15  5.722292e-25  0.000195  6.197001e-20  9.246561e-08   \n\n              31   32   33   34   35  \n0   4.972371e-11  NaN  NaN  NaN  NaN  \n1   4.972371e-11  NaN  NaN  NaN  NaN  \n2   4.972371e-11  NaN  NaN  NaN  NaN  \n0   2.449170e-09  NaN  NaN  NaN  NaN  \n0   2.449170e-09  NaN  NaN  NaN  NaN  \n..           ...  ...  ...  ...  ...  \n1   9.851374e-10  NaN  NaN  NaN  NaN  \n2   9.851374e-10  NaN  NaN  NaN  NaN  \n0   4.972373e-11  NaN  NaN  NaN  NaN  \n1   4.972373e-11  NaN  NaN  NaN  NaN  \n2   4.972373e-11  NaN  NaN  NaN  NaN  \n\n[327 rows x 56 columns]",
      "text/html": "<div>\n<style scoped>\n    .dataframe tbody tr th:only-of-type {\n        vertical-align: middle;\n    }\n\n    .dataframe tbody tr th {\n        vertical-align: top;\n    }\n\n    .dataframe thead th {\n        text-align: right;\n    }\n</style>\n<table border=\"1\" class=\"dataframe\">\n  <thead>\n    <tr style=\"text-align: right;\">\n      <th></th>\n      <th>file_exploit_time</th>\n      <th>current_time</th>\n      <th>UnseenARGS</th>\n      <th>UnseenSC</th>\n      <th>Return</th>\n      <th>Freq</th>\n      <th>SC Max Size 0</th>\n      <th>SC Max Size 1</th>\n      <th>SC Max Size 2</th>\n      <th>SC Max Size 3</th>\n      <th>...</th>\n      <th>26</th>\n      <th>27</th>\n      <th>28</th>\n      <th>29</th>\n      <th>30</th>\n      <th>31</th>\n      <th>32</th>\n      <th>33</th>\n      <th>34</th>\n      <th>35</th>\n    </tr>\n  </thead>\n  <tbody>\n    <tr>\n      <th>0</th>\n      <td>1.631605e+09</td>\n      <td>1.631605e+09</td>\n      <td>1.0</td>\n      <td>0.0</td>\n      <td>1.0</td>\n      <td>1.0</td>\n      <td>1.0</td>\n      <td>1.0</td>\n      <td>1.0</td>\n      <td>1.0</td>\n      <td>...</td>\n      <td>9.275395e-15</td>\n      <td>5.722292e-25</td>\n      <td>0.000195</td>\n      <td>6.197001e-20</td>\n      <td>9.246563e-08</td>\n      <td>4.972371e-11</td>\n      <td>NaN</td>\n      <td>NaN</td>\n      <td>NaN</td>\n      <td>NaN</td>\n    </tr>\n    <tr>\n      <th>1</th>\n      <td>1.631605e+09</td>\n      <td>1.631605e+09</td>\n      <td>1.0</td>\n      <td>0.0</td>\n      <td>1.0</td>\n      <td>1.0</td>\n      <td>1.0</td>\n      <td>1.0</td>\n      <td>1.0</td>\n      <td>1.0</td>\n      <td>...</td>\n      <td>9.275395e-15</td>\n      <td>5.722292e-25</td>\n      <td>0.000195</td>\n      <td>6.197001e-20</td>\n      <td>9.246563e-08</td>\n      <td>4.972371e-11</td>\n      <td>NaN</td>\n      <td>NaN</td>\n      <td>NaN</td>\n      <td>NaN</td>\n    </tr>\n    <tr>\n      <th>2</th>\n      <td>1.631605e+09</td>\n      <td>1.631605e+09</td>\n      <td>1.0</td>\n      <td>0.0</td>\n      <td>1.0</td>\n      <td>1.0</td>\n      <td>1.0</td>\n      <td>1.0</td>\n      <td>1.0</td>\n      <td>1.0</td>\n      <td>...</td>\n      <td>9.275395e-15</td>\n      <td>5.722292e-25</td>\n      <td>0.000195</td>\n      <td>6.197001e-20</td>\n      <td>9.246563e-08</td>\n      <td>4.972371e-11</td>\n      <td>NaN</td>\n      <td>NaN</td>\n      <td>NaN</td>\n      <td>NaN</td>\n    </tr>\n    <tr>\n      <th>0</th>\n      <td>1.631610e+09</td>\n      <td>1.631610e+09</td>\n      <td>1.0</td>\n      <td>0.0</td>\n      <td>1.0</td>\n      <td>1.0</td>\n      <td>1.0</td>\n      <td>1.0</td>\n      <td>1.0</td>\n      <td>1.0</td>\n      <td>...</td>\n      <td>1.286944e-14</td>\n      <td>3.117304e-26</td>\n      <td>0.000393</td>\n      <td>3.764144e-20</td>\n      <td>9.909382e-08</td>\n      <td>2.449170e-09</td>\n      <td>NaN</td>\n      <td>NaN</td>\n      <td>NaN</td>\n      <td>NaN</td>\n    </tr>\n    <tr>\n      <th>0</th>\n      <td>1.631610e+09</td>\n      <td>1.631610e+09</td>\n      <td>1.0</td>\n      <td>0.0</td>\n      <td>1.0</td>\n      <td>1.0</td>\n      <td>1.0</td>\n      <td>1.0</td>\n      <td>1.0</td>\n      <td>1.0</td>\n      <td>...</td>\n      <td>1.286944e-14</td>\n      <td>3.117304e-26</td>\n      <td>0.000393</td>\n      <td>3.764144e-20</td>\n      <td>9.909382e-08</td>\n      <td>2.449170e-09</td>\n      <td>NaN</td>\n      <td>NaN</td>\n      <td>NaN</td>\n      <td>NaN</td>\n    </tr>\n    <tr>\n      <th>...</th>\n      <td>...</td>\n      <td>...</td>\n      <td>...</td>\n      <td>...</td>\n      <td>...</td>\n      <td>...</td>\n      <td>...</td>\n      <td>...</td>\n      <td>...</td>\n      <td>...</td>\n      <td>...</td>\n      <td>...</td>\n      <td>...</td>\n      <td>...</td>\n      <td>...</td>\n      <td>...</td>\n      <td>...</td>\n      <td>...</td>\n      <td>...</td>\n      <td>...</td>\n      <td>...</td>\n    </tr>\n    <tr>\n      <th>1</th>\n      <td>1.631607e+09</td>\n      <td>1.631607e+09</td>\n      <td>1.0</td>\n      <td>0.0</td>\n      <td>1.0</td>\n      <td>1.0</td>\n      <td>1.0</td>\n      <td>1.0</td>\n      <td>1.0</td>\n      <td>1.0</td>\n      <td>...</td>\n      <td>2.960719e-14</td>\n      <td>4.910000e-25</td>\n      <td>0.000161</td>\n      <td>2.169027e-20</td>\n      <td>2.532536e-07</td>\n      <td>9.851374e-10</td>\n      <td>NaN</td>\n      <td>NaN</td>\n      <td>NaN</td>\n      <td>NaN</td>\n    </tr>\n    <tr>\n      <th>2</th>\n      <td>1.631607e+09</td>\n      <td>1.631607e+09</td>\n      <td>1.0</td>\n      <td>0.0</td>\n      <td>1.0</td>\n      <td>1.0</td>\n      <td>1.0</td>\n      <td>1.0</td>\n      <td>1.0</td>\n      <td>1.0</td>\n      <td>...</td>\n      <td>2.960719e-14</td>\n      <td>4.910000e-25</td>\n      <td>0.000161</td>\n      <td>2.169027e-20</td>\n      <td>2.532536e-07</td>\n      <td>9.851374e-10</td>\n      <td>NaN</td>\n      <td>NaN</td>\n      <td>NaN</td>\n      <td>NaN</td>\n    </tr>\n    <tr>\n      <th>0</th>\n      <td>1.631608e+09</td>\n      <td>1.631608e+09</td>\n      <td>1.0</td>\n      <td>0.0</td>\n      <td>1.0</td>\n      <td>1.0</td>\n      <td>1.0</td>\n      <td>1.0</td>\n      <td>1.0</td>\n      <td>1.0</td>\n      <td>...</td>\n      <td>9.275395e-15</td>\n      <td>5.722292e-25</td>\n      <td>0.000195</td>\n      <td>6.197001e-20</td>\n      <td>9.246561e-08</td>\n      <td>4.972373e-11</td>\n      <td>NaN</td>\n      <td>NaN</td>\n      <td>NaN</td>\n      <td>NaN</td>\n    </tr>\n    <tr>\n      <th>1</th>\n      <td>1.631608e+09</td>\n      <td>1.631608e+09</td>\n      <td>1.0</td>\n      <td>0.0</td>\n      <td>1.0</td>\n      <td>1.0</td>\n      <td>1.0</td>\n      <td>1.0</td>\n      <td>1.0</td>\n      <td>1.0</td>\n      <td>...</td>\n      <td>9.275395e-15</td>\n      <td>5.722292e-25</td>\n      <td>0.000195</td>\n      <td>6.197001e-20</td>\n      <td>9.246561e-08</td>\n      <td>4.972373e-11</td>\n      <td>NaN</td>\n      <td>NaN</td>\n      <td>NaN</td>\n      <td>NaN</td>\n    </tr>\n    <tr>\n      <th>2</th>\n      <td>1.631608e+09</td>\n      <td>1.631608e+09</td>\n      <td>1.0</td>\n      <td>0.0</td>\n      <td>1.0</td>\n      <td>1.0</td>\n      <td>1.0</td>\n      <td>1.0</td>\n      <td>1.0</td>\n      <td>1.0</td>\n      <td>...</td>\n      <td>9.275395e-15</td>\n      <td>5.722292e-25</td>\n      <td>0.000195</td>\n      <td>6.197001e-20</td>\n      <td>9.246561e-08</td>\n      <td>4.972373e-11</td>\n      <td>NaN</td>\n      <td>NaN</td>\n      <td>NaN</td>\n      <td>NaN</td>\n    </tr>\n  </tbody>\n</table>\n<p>327 rows × 56 columns</p>\n</div>"
     },
     "execution_count": 10,
     "metadata": {},
     "output_type": "execute_result"
    }
   ],
   "source": [
    "edf"
   ],
   "metadata": {
    "collapsed": false,
    "ExecuteTime": {
     "end_time": "2024-02-16T02:09:34.670922700Z",
     "start_time": "2024-02-16T02:09:34.647959700Z"
    }
   }
  },
  {
   "cell_type": "code",
   "execution_count": 11,
   "outputs": [
    {
     "data": {
      "text/plain": "0    1.631605e+09\n0    1.631610e+09\n0    1.631610e+09\n0    1.631606e+09\n0    1.631605e+09\n         ...     \n0    1.631605e+09\n0    1.631609e+09\n0    1.631606e+09\n0    1.631607e+09\n0    1.631608e+09\nName: current_time, Length: 120, dtype: float64"
     },
     "execution_count": 11,
     "metadata": {},
     "output_type": "execute_result"
    }
   ],
   "source": [
    "edf['current_time'][0]"
   ],
   "metadata": {
    "collapsed": false,
    "ExecuteTime": {
     "end_time": "2024-02-16T02:09:34.679902500Z",
     "start_time": "2024-02-16T02:09:34.668904Z"
    }
   }
  },
  {
   "cell_type": "code",
   "execution_count": 12,
   "outputs": [],
   "source": [
    "from urllib.parse import urlparse\n",
    "from string import digits\n",
    "def process_path(file_path_i):\n",
    "    PATH_LENGTH = 3\n",
    "    if \"(\" in file_path_i and \")\" in file_path_i:\n",
    "        file_path_between_par = file_path_i[file_path_i.find(\"(\") + 1:file_path_i.find(\")\")]\n",
    "        file_path_before_par = file_path_i[:file_path_i.find(\"(\")]\n",
    "        file_path_max = max([file_path_between_par, file_path_before_par], key=len)\n",
    "\n",
    "        if file_path_i.count(\"/\") > PATH_LENGTH:\n",
    "            file_path_min = min([file_path_between_par, file_path_before_par], key=len)\n",
    "            file_path_i = file_path_max.replace(file_path_min, \"\")\n",
    "        else:\n",
    "            file_path_i = file_path_max\n",
    "\n",
    "    else:\n",
    "        if file_path_i.count(\"/\") > PATH_LENGTH:\n",
    "            full_path = urlparse(file_path_i)\n",
    "            file_path_i = os.path.dirname(full_path.path)\n",
    "\n",
    "    processed_file_path = file_path_i.rsplit('/')\n",
    "    path_last_element = processed_file_path[-1]\n",
    "    if '>' in processed_file_path[0]:\n",
    "        processed_file_path[0] = ''\n",
    "\n",
    "    # we clean the path from random characters and numbers\n",
    "    if path_last_element.islower():\n",
    "        processed_file_path[-1] = path_last_element.translate({ord(k): None for k in digits})\n",
    "        processed_file_paths = '/'.join(processed_file_path)\n",
    "    else:\n",
    "        processed_file_paths = '/'.join(processed_file_path[:-1])\n",
    "\n",
    "    return processed_file_paths"
   ],
   "metadata": {
    "collapsed": false,
    "ExecuteTime": {
     "end_time": "2024-02-16T02:09:34.733754900Z",
     "start_time": "2024-02-16T02:09:34.675884900Z"
    }
   }
  },
  {
   "cell_type": "code",
   "execution_count": 13,
   "outputs": [],
   "source": [
    "path = '/usr/lib/local/file/'\n",
    "tmp = path.split('/')"
   ],
   "metadata": {
    "collapsed": false,
    "ExecuteTime": {
     "end_time": "2024-02-16T02:09:34.733754900Z",
     "start_time": "2024-02-16T02:09:34.684861600Z"
    }
   }
  },
  {
   "cell_type": "code",
   "execution_count": 14,
   "outputs": [
    {
     "data": {
      "text/plain": "['', 'usr', 'lib', 'local', 'file', '']"
     },
     "execution_count": 14,
     "metadata": {},
     "output_type": "execute_result"
    }
   ],
   "source": [
    "tmp"
   ],
   "metadata": {
    "collapsed": false,
    "ExecuteTime": {
     "end_time": "2024-02-16T02:09:34.771657200Z",
     "start_time": "2024-02-16T02:09:34.688852Z"
    }
   }
  },
  {
   "cell_type": "code",
   "execution_count": 14,
   "outputs": [],
   "source": [],
   "metadata": {
    "collapsed": false,
    "ExecuteTime": {
     "end_time": "2024-02-16T02:09:34.771657200Z",
     "start_time": "2024-02-16T02:09:34.696829700Z"
    }
   }
  }
 ],
 "metadata": {
  "kernelspec": {
   "name": "ids",
   "language": "python",
   "display_name": "ids"
  },
  "language_info": {
   "codemirror_mode": {
    "name": "ipython",
    "version": 2
   },
   "file_extension": ".py",
   "mimetype": "text/x-python",
   "name": "python",
   "nbconvert_exporter": "python",
   "pygments_lexer": "ipython2",
   "version": "2.7.6"
  }
 },
 "nbformat": 4,
 "nbformat_minor": 0
}
