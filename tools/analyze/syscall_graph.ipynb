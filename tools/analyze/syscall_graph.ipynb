{
 "cells": [
  {
   "cell_type": "code",
   "execution_count": 1,
   "metadata": {
    "collapsed": true,
    "ExecuteTime": {
     "end_time": "2023-11-16T02:27:49.498823800Z",
     "start_time": "2023-11-16T02:27:44.882167700Z"
    }
   },
   "outputs": [],
   "source": [
    "import numpy as np\n",
    "import pandas as pd\n",
    "import json\n",
    "import os\n",
    "import zipfile\n",
    "import pickle\n",
    "import networkx as nx"
   ]
  },
  {
   "cell_type": "code",
   "execution_count": 36,
   "outputs": [],
   "source": [
    "apache2_scg = nx.read_multiline_adjlist(\"K:/hids/LID-DS-master/tools/out/CWE-89-SQL-injection/SCG_BOTH/mysqld_scg\", delimiter='|', create_using=nx.DiGraph)\n",
    "\n",
    "# with zipfile.ZipFile('K:/hids/dataSet/CWE-89-SQL-injection_raw/test/normal/handsome_herschel_1484.zip', 'r') as zipped:\n",
    "#     with zipped.open('handsome_herschel_1484' + '.sc') as unzipped:\n",
    "#         df = pd.read_csv(unzipped, delim_whitespace = True, index_col=False, names = ['time','UserID', 'PID', 'ProcessName', 'TID', 'syscall', 'DIR', 'ARGS'])"
   ],
   "metadata": {
    "collapsed": false,
    "ExecuteTime": {
     "end_time": "2023-07-18T13:13:12.671157100Z",
     "start_time": "2023-07-18T13:13:12.658165700Z"
    }
   }
  },
  {
   "cell_type": "code",
   "execution_count": 134,
   "outputs": [],
   "source": [
    "one_scg = nx.read_multiline_adjlist(\"K:/hids/dataSet/GP_DATA_DIR/CWE-89-SQL-injection/test_2s/abundant_taussig_9121/SCG/1631083491518251782_mysqld_scg\", delimiter='|', create_using=nx.DiGraph)"
   ],
   "metadata": {
    "collapsed": false,
    "ExecuteTime": {
     "end_time": "2023-07-18T14:31:42.712893700Z",
     "start_time": "2023-07-18T14:31:42.697907200Z"
    }
   }
  },
  {
   "cell_type": "code",
   "execution_count": 121,
   "outputs": [
    {
     "name": "stdout",
     "output_type": "stream",
     "text": [
      "mysqld has not age (33, 0) to (33, 0) wt 10\n",
      "mysqld has not age (33, 0) to (0, 0) wt 3\n",
      "mysqld has not age (51, 0) to (51, 1) wt 3\n",
      "mysqld has not age (0, 0) to (0, 0) wt 5\n",
      "mysqld has not age (10, 0) to (10, 0) wt 3\n",
      "mysqld has not age (49, 0) to (49, 1) wt 21\n",
      "mysqld has not age (49, 1) to (49, 0) wt 18\n",
      "mysqld has not age (33, 0) to (33, 0) wt 10\n",
      "mysqld has not age (33, 0) to (0, 0) wt 3\n",
      "mysqld has not age (51, 0) to (51, 1) wt 3\n",
      "mysqld has not age (0, 0) to (0, 0) wt 5\n",
      "mysqld has not age (10, 0) to (10, 0) wt 3\n",
      "mysqld has not age (49, 0) to (49, 1) wt 21\n",
      "mysqld has not age (49, 1) to (49, 0) wt 18\n",
      "mysqld has not age (33, 0) to (33, 0) wt 10\n",
      "mysqld has not age (33, 0) to (0, 0) wt 3\n",
      "mysqld has not age (51, 0) to (51, 1) wt 3\n",
      "mysqld has not age (0, 0) to (0, 0) wt 5\n",
      "mysqld has not age (10, 0) to (10, 0) wt 3\n",
      "mysqld has not age (49, 0) to (49, 1) wt 21\n",
      "mysqld has not age (49, 1) to (49, 0) wt 18\n",
      "mysqld has not age (33, 0) to (33, 0) wt 10\n",
      "mysqld has not age (33, 0) to (0, 0) wt 3\n",
      "mysqld has not age (51, 0) to (51, 1) wt 3\n",
      "mysqld has not age (0, 0) to (0, 0) wt 5\n",
      "mysqld has not age (10, 0) to (10, 0) wt 3\n",
      "mysqld has not age (49, 0) to (49, 1) wt 21\n",
      "mysqld has not age (49, 1) to (49, 0) wt 18\n",
      "mysqld has not age (33, 0) to (33, 0) wt 10\n",
      "mysqld has not age (33, 0) to (0, 0) wt 3\n",
      "mysqld has not age (51, 0) to (51, 1) wt 3\n",
      "mysqld has not age (0, 0) to (0, 0) wt 5\n",
      "mysqld has not age (10, 0) to (10, 0) wt 3\n",
      "mysqld has not age (49, 0) to (49, 1) wt 21\n",
      "mysqld has not age (49, 1) to (49, 0) wt 18\n",
      "mysqld has not age (33, 0) to (33, 0) wt 10\n",
      "mysqld has not age (33, 0) to (0, 0) wt 3\n",
      "mysqld has not age (51, 0) to (51, 1) wt 3\n",
      "mysqld has not age (0, 0) to (0, 0) wt 5\n",
      "mysqld has not age (10, 0) to (10, 0) wt 3\n",
      "mysqld has not age (49, 0) to (49, 1) wt 21\n",
      "mysqld has not age (49, 1) to (49, 0) wt 18\n",
      "mysqld has not age (33, 0) to (33, 0) wt 10\n",
      "mysqld has not age (33, 0) to (0, 0) wt 3\n",
      "mysqld has not age (51, 0) to (51, 1) wt 3\n",
      "mysqld has not age (0, 0) to (0, 0) wt 5\n",
      "mysqld has not age (10, 0) to (10, 0) wt 3\n",
      "mysqld has not age (49, 0) to (49, 1) wt 21\n",
      "mysqld has not age (49, 1) to (49, 0) wt 18\n",
      "mysqld has not age (33, 0) to (33, 0) wt 10\n",
      "mysqld has not age (33, 0) to (0, 0) wt 3\n",
      "mysqld has not age (51, 0) to (51, 1) wt 3\n",
      "mysqld has not age (0, 0) to (0, 0) wt 5\n",
      "mysqld has not age (10, 0) to (10, 0) wt 3\n",
      "mysqld has not age (49, 0) to (49, 1) wt 21\n",
      "mysqld has not age (49, 1) to (49, 0) wt 18\n",
      "mysqld has not age (33, 0) to (33, 0) wt 10\n",
      "mysqld has not age (33, 0) to (0, 0) wt 3\n",
      "mysqld has not age (51, 0) to (51, 1) wt 3\n",
      "mysqld has not age (0, 0) to (0, 0) wt 5\n",
      "mysqld has not age (10, 0) to (10, 0) wt 3\n",
      "mysqld has not age (49, 0) to (49, 1) wt 21\n",
      "mysqld has not age (49, 1) to (49, 0) wt 18\n",
      "mysqld has not age (33, 0) to (33, 0) wt 10\n",
      "mysqld has not age (33, 0) to (0, 0) wt 3\n",
      "mysqld has not age (51, 0) to (51, 1) wt 3\n",
      "mysqld has not age (0, 0) to (0, 0) wt 5\n",
      "mysqld has not age (10, 0) to (10, 0) wt 3\n",
      "mysqld has not age (49, 0) to (49, 1) wt 21\n",
      "mysqld has not age (49, 1) to (49, 0) wt 18\n",
      "mysqld has not age (53, 0) to (51, 0) wt 6\n",
      "mysqld has not age (43, 1) to (33, 0) wt 4\n",
      "mysqld has not age (33, 0) to (33, 0) wt 80\n",
      "mysqld has not age (33, 0) to (33, -2) wt 8\n",
      "mysqld has not age (33, 0) to (0, 0) wt 24\n",
      "mysqld has not age (33, 0) to (51, 0) wt 8\n",
      "mysqld has not age (12, 0) to (33, 0) wt 16\n",
      "mysqld has not age (12, 0) to (51, 0) wt 8\n",
      "mysqld has not age (51, 0) to (51, 1) wt 24\n",
      "mysqld has not age (33, -2) to (10, 0) wt 8\n",
      "mysqld has not age (0, 0) to (0, 0) wt 40\n",
      "mysqld has not age (0, 0) to (12, 0) wt 8\n",
      "mysqld has not age (0, 0) to (33, 0) wt 8\n",
      "mysqld has not age (0, 0) to (47, 0) wt 4\n",
      "mysqld has not age (0, 0) to (42, 0) wt 4\n",
      "mysqld has not age (10, 0) to (10, 0) wt 24\n",
      "mysqld has not age (10, 0) to (49, 0) wt 8\n",
      "mysqld has not age (10, 0) to (13, 0) wt 8\n",
      "mysqld has not age (10, 0) to (6, 0) wt 8\n",
      "mysqld has not age (49, 0) to (49, 1) wt 130\n",
      "mysqld has not age (13, 0) to (13, 1) wt 16\n",
      "mysqld has not age (13, 0) to (13, 0) wt 8\n",
      "mysqld has not age (13, 0) to (49, 0) wt 8\n",
      "mysqld has not age (6, 0) to (6, 0) wt 8\n",
      "mysqld has not age (6, 0) to (53, 0) wt 7\n",
      "mysqld has not age (49, 1) to (49, 0) wt 106\n",
      "mysqld has not age (49, 1) to (13, 0) wt 8\n",
      "mysqld has not age (49, 1) to (47, 0) wt 8\n",
      "mysqld has not age (49, 1) to (12, 0) wt 8\n",
      "mysqld has not age (13, 1) to (10, 0) wt 8\n",
      "mysqld has not age (13, 1) to (49, 0) wt 8\n",
      "mysqld has not age (47, 1) to (13, 0) wt 8\n",
      "mysqld has not age (47, 1) to (12, 0) wt 8\n",
      "mysqld has not age (51, 1) to (33, 0) wt 10\n",
      "mysqld has not age (51, 1) to (10, 0) wt 8\n",
      "mysqld has not age (51, 1) to (53, 0) wt 3\n",
      "mysqld has not age (53, 0) to (51, 0) wt 7\n",
      "mysqld has not age (43, 1) to (33, 0) wt 7\n",
      "mysqld has not age (33, 0) to (33, 0) wt 110\n",
      "mysqld has not age (33, 0) to (33, -2) wt 11\n",
      "mysqld has not age (33, 0) to (0, 0) wt 33\n",
      "mysqld has not age (33, 0) to (51, 0) wt 11\n",
      "mysqld has not age (10, 0) to (10, 0) wt 35\n",
      "mysqld has not age (10, 0) to (49, 0) wt 11\n",
      "mysqld has not age (10, 0) to (13, 0) wt 11\n",
      "mysqld has not age (10, 0) to (6, 0) wt 11\n",
      "mysqld has not age (12, 0) to (33, 0) wt 22\n",
      "mysqld has not age (12, 0) to (51, 0) wt 11\n",
      "mysqld has not age (51, 0) to (51, 1) wt 31\n",
      "mysqld has not age (33, -2) to (10, 0) wt 11\n",
      "mysqld has not age (0, 0) to (0, 0) wt 57\n",
      "mysqld has not age (0, 0) to (12, 0) wt 13\n",
      "mysqld has not age (0, 0) to (33, 0) wt 11\n",
      "mysqld has not age (0, 0) to (47, 0) wt 4\n",
      "mysqld has not age (0, 0) to (42, 0) wt 7\n",
      "mysqld has not age (49, 0) to (49, 1) wt 214\n",
      "mysqld has not age (13, 0) to (13, 1) wt 22\n",
      "mysqld has not age (13, 0) to (13, 0) wt 11\n",
      "mysqld has not age (13, 0) to (49, 0) wt 11\n",
      "mysqld has not age (6, 0) to (6, 0) wt 11\n",
      "mysqld has not age (6, 0) to (53, 0) wt 8\n",
      "mysqld has not age (49, 1) to (49, 0) wt 181\n",
      "mysqld has not age (49, 1) to (13, 0) wt 11\n",
      "mysqld has not age (49, 1) to (47, 0) wt 11\n",
      "mysqld has not age (49, 1) to (12, 0) wt 11\n",
      "mysqld has not age (13, 1) to (10, 0) wt 11\n",
      "mysqld has not age (13, 1) to (49, 0) wt 11\n",
      "mysqld has not age (47, 1) to (13, 0) wt 11\n",
      "mysqld has not age (47, 1) to (12, 0) wt 9\n",
      "mysqld has not age (51, 1) to (33, 0) wt 13\n",
      "mysqld has not age (51, 1) to (10, 0) wt 11\n",
      "mysqld has not age (51, 1) to (47, 0) wt 3\n",
      "mysqld has not age (51, 1) to (53, 0) wt 3\n",
      "mysqld has not age (53, 0) to (51, 0) wt 7\n",
      "mysqld has not age (43, 1) to (33, 0) wt 8\n",
      "mysqld has not age (33, 0) to (33, 0) wt 120\n",
      "mysqld has not age (33, 0) to (33, -2) wt 12\n",
      "mysqld has not age (33, 0) to (0, 0) wt 36\n",
      "mysqld has not age (33, 0) to (51, 0) wt 12\n",
      "mysqld has not age (10, 0) to (10, 0) wt 38\n",
      "mysqld has not age (10, 0) to (49, 0) wt 12\n",
      "mysqld has not age (10, 0) to (13, 0) wt 12\n",
      "mysqld has not age (10, 0) to (6, 0) wt 12\n",
      "mysqld has not age (12, 0) to (33, 0) wt 24\n",
      "mysqld has not age (12, 0) to (51, 0) wt 12\n",
      "mysqld has not age (51, 0) to (51, 1) wt 34\n",
      "mysqld has not age (33, -2) to (10, 0) wt 12\n",
      "mysqld has not age (0, 0) to (0, 0) wt 62\n",
      "mysqld has not age (0, 0) to (12, 0) wt 14\n",
      "mysqld has not age (0, 0) to (33, 0) wt 12\n",
      "mysqld has not age (0, 0) to (47, 0) wt 4\n",
      "mysqld has not age (0, 0) to (42, 0) wt 8\n",
      "mysqld has not age (49, 0) to (49, 1) wt 242\n",
      "mysqld has not age (13, 0) to (13, 1) wt 24\n",
      "mysqld has not age (13, 0) to (13, 0) wt 12\n",
      "mysqld has not age (13, 0) to (49, 0) wt 12\n",
      "mysqld has not age (6, 0) to (6, 0) wt 12\n",
      "mysqld has not age (6, 0) to (53, 0) wt 8\n",
      "mysqld has not age (49, 1) to (49, 0) wt 206\n",
      "mysqld has not age (49, 1) to (13, 0) wt 12\n",
      "mysqld has not age (49, 1) to (47, 0) wt 12\n",
      "mysqld has not age (49, 1) to (12, 0) wt 12\n",
      "mysqld has not age (13, 1) to (10, 0) wt 12\n",
      "mysqld has not age (13, 1) to (49, 0) wt 12\n",
      "mysqld has not age (47, 1) to (13, 0) wt 12\n",
      "mysqld has not age (47, 1) to (12, 0) wt 10\n",
      "mysqld has not age (51, 1) to (33, 0) wt 14\n",
      "mysqld has not age (51, 1) to (10, 0) wt 12\n",
      "mysqld has not age (51, 1) to (47, 0) wt 4\n",
      "mysqld has not age (51, 1) to (53, 0) wt 3\n",
      "mysqld has not age (53, 0) to (51, 0) wt 7\n",
      "mysqld has not age (43, 1) to (33, 0) wt 8\n",
      "mysqld has not age (33, 0) to (33, 0) wt 120\n",
      "mysqld has not age (33, 0) to (33, -2) wt 12\n",
      "mysqld has not age (33, 0) to (0, 0) wt 36\n",
      "mysqld has not age (33, 0) to (51, 0) wt 12\n",
      "mysqld has not age (10, 0) to (10, 0) wt 38\n",
      "mysqld has not age (10, 0) to (49, 0) wt 12\n",
      "mysqld has not age (10, 0) to (13, 0) wt 12\n",
      "mysqld has not age (10, 0) to (6, 0) wt 12\n",
      "mysqld has not age (12, 0) to (33, 0) wt 24\n",
      "mysqld has not age (12, 0) to (51, 0) wt 12\n",
      "mysqld has not age (51, 0) to (51, 1) wt 34\n",
      "mysqld has not age (33, -2) to (10, 0) wt 12\n",
      "mysqld has not age (0, 0) to (0, 0) wt 62\n",
      "mysqld has not age (0, 0) to (12, 0) wt 14\n",
      "mysqld has not age (0, 0) to (33, 0) wt 12\n",
      "mysqld has not age (0, 0) to (47, 0) wt 4\n",
      "mysqld has not age (0, 0) to (42, 0) wt 8\n",
      "mysqld has not age (49, 0) to (49, 1) wt 242\n",
      "mysqld has not age (13, 0) to (13, 1) wt 24\n",
      "mysqld has not age (13, 0) to (13, 0) wt 12\n",
      "mysqld has not age (13, 0) to (49, 0) wt 12\n",
      "mysqld has not age (6, 0) to (6, 0) wt 12\n",
      "mysqld has not age (6, 0) to (53, 0) wt 8\n",
      "mysqld has not age (49, 1) to (49, 0) wt 206\n",
      "mysqld has not age (49, 1) to (13, 0) wt 12\n",
      "mysqld has not age (49, 1) to (47, 0) wt 12\n",
      "mysqld has not age (49, 1) to (12, 0) wt 12\n",
      "mysqld has not age (13, 1) to (10, 0) wt 12\n",
      "mysqld has not age (13, 1) to (49, 0) wt 12\n",
      "mysqld has not age (47, 1) to (13, 0) wt 12\n",
      "mysqld has not age (47, 1) to (12, 0) wt 10\n",
      "mysqld has not age (51, 1) to (33, 0) wt 14\n",
      "mysqld has not age (51, 1) to (10, 0) wt 12\n",
      "mysqld has not age (51, 1) to (47, 0) wt 4\n",
      "mysqld has not age (51, 1) to (53, 0) wt 3\n",
      "mysqld has not age (53, 0) to (51, 0) wt 7\n",
      "mysqld has not age (43, 1) to (33, 0) wt 8\n",
      "mysqld has not age (33, 0) to (33, 0) wt 120\n",
      "mysqld has not age (33, 0) to (33, -2) wt 12\n",
      "mysqld has not age (33, 0) to (0, 0) wt 36\n",
      "mysqld has not age (33, 0) to (51, 0) wt 12\n",
      "mysqld has not age (10, 0) to (10, 0) wt 38\n",
      "mysqld has not age (10, 0) to (49, 0) wt 12\n",
      "mysqld has not age (10, 0) to (13, 0) wt 12\n",
      "mysqld has not age (10, 0) to (6, 0) wt 12\n",
      "mysqld has not age (12, 0) to (33, 0) wt 24\n",
      "mysqld has not age (12, 0) to (51, 0) wt 12\n",
      "mysqld has not age (51, 0) to (51, 1) wt 34\n",
      "mysqld has not age (33, -2) to (10, 0) wt 12\n",
      "mysqld has not age (0, 0) to (0, 0) wt 62\n",
      "mysqld has not age (0, 0) to (12, 0) wt 14\n",
      "mysqld has not age (0, 0) to (33, 0) wt 12\n",
      "mysqld has not age (0, 0) to (47, 0) wt 4\n",
      "mysqld has not age (0, 0) to (42, 0) wt 8\n",
      "mysqld has not age (49, 0) to (49, 1) wt 242\n",
      "mysqld has not age (13, 0) to (13, 1) wt 24\n",
      "mysqld has not age (13, 0) to (13, 0) wt 12\n",
      "mysqld has not age (13, 0) to (49, 0) wt 12\n",
      "mysqld has not age (6, 0) to (6, 0) wt 12\n",
      "mysqld has not age (6, 0) to (53, 0) wt 8\n",
      "mysqld has not age (49, 1) to (49, 0) wt 206\n",
      "mysqld has not age (49, 1) to (13, 0) wt 12\n",
      "mysqld has not age (49, 1) to (47, 0) wt 12\n",
      "mysqld has not age (49, 1) to (12, 0) wt 12\n",
      "mysqld has not age (13, 1) to (10, 0) wt 12\n",
      "mysqld has not age (13, 1) to (49, 0) wt 12\n",
      "mysqld has not age (47, 1) to (13, 0) wt 12\n",
      "mysqld has not age (47, 1) to (12, 0) wt 10\n",
      "mysqld has not age (51, 1) to (33, 0) wt 14\n",
      "mysqld has not age (51, 1) to (10, 0) wt 12\n",
      "mysqld has not age (51, 1) to (47, 0) wt 4\n",
      "mysqld has not age (51, 1) to (53, 0) wt 3\n",
      "mysqld has not age (53, 0) to (51, 0) wt 7\n",
      "mysqld has not age (43, 1) to (33, 0) wt 8\n",
      "mysqld has not age (33, 0) to (33, 0) wt 120\n",
      "mysqld has not age (33, 0) to (33, -2) wt 12\n",
      "mysqld has not age (33, 0) to (0, 0) wt 36\n",
      "mysqld has not age (33, 0) to (51, 0) wt 12\n",
      "mysqld has not age (10, 0) to (10, 0) wt 38\n",
      "mysqld has not age (10, 0) to (49, 0) wt 12\n",
      "mysqld has not age (10, 0) to (13, 0) wt 12\n",
      "mysqld has not age (10, 0) to (6, 0) wt 12\n",
      "mysqld has not age (12, 0) to (33, 0) wt 24\n",
      "mysqld has not age (12, 0) to (51, 0) wt 12\n",
      "mysqld has not age (51, 0) to (51, 1) wt 34\n",
      "mysqld has not age (33, -2) to (10, 0) wt 12\n",
      "mysqld has not age (0, 0) to (0, 0) wt 62\n",
      "mysqld has not age (0, 0) to (12, 0) wt 14\n",
      "mysqld has not age (0, 0) to (33, 0) wt 12\n",
      "mysqld has not age (0, 0) to (47, 0) wt 4\n",
      "mysqld has not age (0, 0) to (42, 0) wt 8\n",
      "mysqld has not age (49, 0) to (49, 1) wt 242\n",
      "mysqld has not age (13, 0) to (13, 1) wt 24\n",
      "mysqld has not age (13, 0) to (13, 0) wt 12\n",
      "mysqld has not age (13, 0) to (49, 0) wt 12\n",
      "mysqld has not age (6, 0) to (6, 0) wt 12\n",
      "mysqld has not age (6, 0) to (53, 0) wt 8\n",
      "mysqld has not age (49, 1) to (49, 0) wt 206\n",
      "mysqld has not age (49, 1) to (13, 0) wt 12\n",
      "mysqld has not age (49, 1) to (47, 0) wt 12\n",
      "mysqld has not age (49, 1) to (12, 0) wt 12\n",
      "mysqld has not age (13, 1) to (10, 0) wt 12\n",
      "mysqld has not age (13, 1) to (49, 0) wt 12\n",
      "mysqld has not age (47, 1) to (13, 0) wt 12\n",
      "mysqld has not age (47, 1) to (12, 0) wt 10\n",
      "mysqld has not age (51, 1) to (33, 0) wt 14\n",
      "mysqld has not age (51, 1) to (10, 0) wt 12\n",
      "mysqld has not age (51, 1) to (47, 0) wt 4\n",
      "mysqld has not age (51, 1) to (53, 0) wt 3\n",
      "mysqld has not age (53, 0) to (51, 0) wt 7\n",
      "mysqld has not age (43, 1) to (33, 0) wt 8\n",
      "mysqld has not age (33, 0) to (33, 0) wt 120\n",
      "mysqld has not age (33, 0) to (33, -2) wt 12\n",
      "mysqld has not age (33, 0) to (0, 0) wt 36\n",
      "mysqld has not age (33, 0) to (51, 0) wt 12\n",
      "mysqld has not age (10, 0) to (10, 0) wt 38\n",
      "mysqld has not age (10, 0) to (49, 0) wt 12\n",
      "mysqld has not age (10, 0) to (13, 0) wt 12\n",
      "mysqld has not age (10, 0) to (6, 0) wt 12\n",
      "mysqld has not age (12, 0) to (33, 0) wt 24\n",
      "mysqld has not age (12, 0) to (51, 0) wt 12\n",
      "mysqld has not age (51, 0) to (51, 1) wt 34\n",
      "mysqld has not age (33, -2) to (10, 0) wt 12\n",
      "mysqld has not age (0, 0) to (0, 0) wt 62\n",
      "mysqld has not age (0, 0) to (12, 0) wt 14\n",
      "mysqld has not age (0, 0) to (33, 0) wt 12\n",
      "mysqld has not age (0, 0) to (47, 0) wt 4\n",
      "mysqld has not age (0, 0) to (42, 0) wt 8\n",
      "mysqld has not age (49, 0) to (49, 1) wt 242\n",
      "mysqld has not age (13, 0) to (13, 1) wt 24\n",
      "mysqld has not age (13, 0) to (13, 0) wt 12\n",
      "mysqld has not age (13, 0) to (49, 0) wt 12\n",
      "mysqld has not age (6, 0) to (6, 0) wt 12\n",
      "mysqld has not age (6, 0) to (53, 0) wt 8\n",
      "mysqld has not age (49, 1) to (49, 0) wt 206\n",
      "mysqld has not age (49, 1) to (13, 0) wt 12\n",
      "mysqld has not age (49, 1) to (47, 0) wt 12\n",
      "mysqld has not age (49, 1) to (12, 0) wt 12\n",
      "mysqld has not age (13, 1) to (10, 0) wt 12\n",
      "mysqld has not age (13, 1) to (49, 0) wt 12\n",
      "mysqld has not age (47, 1) to (13, 0) wt 12\n",
      "mysqld has not age (47, 1) to (12, 0) wt 10\n",
      "mysqld has not age (51, 1) to (33, 0) wt 14\n",
      "mysqld has not age (51, 1) to (10, 0) wt 12\n",
      "mysqld has not age (51, 1) to (47, 0) wt 4\n",
      "mysqld has not age (51, 1) to (53, 0) wt 3\n",
      "mysqld has not age (53, 0) to (51, 0) wt 7\n",
      "mysqld has not age (43, 1) to (33, 0) wt 8\n",
      "mysqld has not age (33, 0) to (33, 0) wt 120\n",
      "mysqld has not age (33, 0) to (33, -2) wt 12\n",
      "mysqld has not age (33, 0) to (0, 0) wt 36\n",
      "mysqld has not age (33, 0) to (51, 0) wt 12\n",
      "mysqld has not age (10, 0) to (10, 0) wt 38\n",
      "mysqld has not age (10, 0) to (49, 0) wt 12\n",
      "mysqld has not age (10, 0) to (13, 0) wt 12\n",
      "mysqld has not age (10, 0) to (6, 0) wt 12\n",
      "mysqld has not age (12, 0) to (33, 0) wt 24\n",
      "mysqld has not age (12, 0) to (51, 0) wt 12\n",
      "mysqld has not age (51, 0) to (51, 1) wt 34\n",
      "mysqld has not age (33, -2) to (10, 0) wt 12\n",
      "mysqld has not age (0, 0) to (0, 0) wt 62\n",
      "mysqld has not age (0, 0) to (12, 0) wt 14\n",
      "mysqld has not age (0, 0) to (33, 0) wt 12\n",
      "mysqld has not age (0, 0) to (47, 0) wt 4\n",
      "mysqld has not age (0, 0) to (42, 0) wt 8\n",
      "mysqld has not age (49, 0) to (49, 1) wt 242\n",
      "mysqld has not age (13, 0) to (13, 1) wt 24\n",
      "mysqld has not age (13, 0) to (13, 0) wt 12\n",
      "mysqld has not age (13, 0) to (49, 0) wt 12\n",
      "mysqld has not age (6, 0) to (6, 0) wt 12\n",
      "mysqld has not age (6, 0) to (53, 0) wt 8\n",
      "mysqld has not age (49, 1) to (49, 0) wt 206\n",
      "mysqld has not age (49, 1) to (13, 0) wt 12\n",
      "mysqld has not age (49, 1) to (47, 0) wt 12\n",
      "mysqld has not age (49, 1) to (12, 0) wt 12\n",
      "mysqld has not age (13, 1) to (10, 0) wt 12\n",
      "mysqld has not age (13, 1) to (49, 0) wt 12\n",
      "mysqld has not age (47, 1) to (13, 0) wt 12\n",
      "mysqld has not age (47, 1) to (12, 0) wt 10\n",
      "mysqld has not age (51, 1) to (33, 0) wt 14\n",
      "mysqld has not age (51, 1) to (10, 0) wt 12\n",
      "mysqld has not age (51, 1) to (47, 0) wt 4\n",
      "mysqld has not age (51, 1) to (53, 0) wt 3\n",
      "mysqld has not age (43, 1) to (33, 0) wt 4\n",
      "mysqld has not age (33, 0) to (33, 0) wt 40\n",
      "mysqld has not age (33, 0) to (33, -2) wt 4\n",
      "mysqld has not age (33, 0) to (0, 0) wt 12\n",
      "mysqld has not age (33, 0) to (51, 0) wt 4\n",
      "mysqld has not age (10, 0) to (10, 0) wt 14\n",
      "mysqld has not age (10, 0) to (49, 0) wt 4\n",
      "mysqld has not age (10, 0) to (13, 0) wt 4\n",
      "mysqld has not age (10, 0) to (6, 0) wt 4\n",
      "mysqld has not age (12, 0) to (33, 0) wt 8\n",
      "mysqld has not age (12, 0) to (51, 0) wt 4\n",
      "mysqld has not age (51, 0) to (51, 1) wt 10\n",
      "mysqld has not age (33, -2) to (10, 0) wt 4\n",
      "mysqld has not age (0, 0) to (0, 0) wt 22\n",
      "mysqld has not age (0, 0) to (12, 0) wt 6\n",
      "mysqld has not age (0, 0) to (33, 0) wt 4\n",
      "mysqld has not age (0, 0) to (42, 0) wt 4\n",
      "mysqld has not age (49, 0) to (49, 1) wt 112\n",
      "mysqld has not age (13, 0) to (13, 1) wt 8\n",
      "mysqld has not age (13, 0) to (13, 0) wt 4\n",
      "mysqld has not age (13, 0) to (49, 0) wt 4\n",
      "mysqld has not age (6, 0) to (6, 0) wt 4\n",
      "mysqld has not age (49, 1) to (49, 0) wt 100\n",
      "mysqld has not age (49, 1) to (13, 0) wt 4\n",
      "mysqld has not age (49, 1) to (47, 0) wt 4\n",
      "mysqld has not age (49, 1) to (12, 0) wt 4\n",
      "mysqld has not age (13, 1) to (10, 0) wt 4\n",
      "mysqld has not age (13, 1) to (49, 0) wt 4\n",
      "mysqld has not age (47, 1) to (13, 0) wt 4\n",
      "mysqld has not age (51, 1) to (33, 0) wt 4\n",
      "mysqld has not age (51, 1) to (10, 0) wt 4\n",
      "mysqld has not age (43, 1) to (33, 0) wt 3\n",
      "mysqld has not age (33, 0) to (33, 0) wt 30\n",
      "mysqld has not age (33, 0) to (33, -2) wt 3\n",
      "mysqld has not age (33, 0) to (0, 0) wt 9\n",
      "mysqld has not age (33, 0) to (51, 0) wt 3\n",
      "mysqld has not age (12, 0) to (33, 0) wt 6\n",
      "mysqld has not age (12, 0) to (51, 0) wt 3\n",
      "mysqld has not age (51, 0) to (51, 1) wt 8\n",
      "mysqld has not age (33, -2) to (10, 0) wt 3\n",
      "mysqld has not age (0, 0) to (0, 0) wt 15\n",
      "mysqld has not age (0, 0) to (12, 0) wt 3\n",
      "mysqld has not age (0, 0) to (33, 0) wt 3\n",
      "mysqld has not age (0, 0) to (42, 0) wt 3\n",
      "mysqld has not age (10, 0) to (10, 0) wt 9\n",
      "mysqld has not age (10, 0) to (49, 0) wt 3\n",
      "mysqld has not age (10, 0) to (13, 0) wt 3\n",
      "mysqld has not age (10, 0) to (6, 0) wt 3\n",
      "mysqld has not age (49, 0) to (49, 1) wt 84\n",
      "mysqld has not age (13, 0) to (13, 1) wt 6\n",
      "mysqld has not age (13, 0) to (13, 0) wt 3\n",
      "mysqld has not age (13, 0) to (49, 0) wt 3\n",
      "mysqld has not age (6, 0) to (6, 0) wt 3\n",
      "mysqld has not age (49, 1) to (49, 0) wt 75\n",
      "mysqld has not age (49, 1) to (13, 0) wt 3\n",
      "mysqld has not age (49, 1) to (47, 0) wt 3\n",
      "mysqld has not age (49, 1) to (12, 0) wt 3\n",
      "mysqld has not age (13, 1) to (10, 0) wt 3\n",
      "mysqld has not age (13, 1) to (49, 0) wt 3\n",
      "mysqld has not age (47, 1) to (13, 0) wt 3\n",
      "mysqld has not age (51, 1) to (33, 0) wt 3\n",
      "mysqld has not age (51, 1) to (10, 0) wt 3\n"
     ]
    }
   ],
   "source": [
    "result_df = pd.DataFrame(columns=['time', 'Amax1', 'Amax2', 'Amax3', 'Amax4', 'Amax5', 'max1', 'max2', 'max3', 'max4', 'max5', '1', '2', '3', '4', '5'])\n",
    "#dir = 'K:/hids/dataSet/GP_DATA_DIR/CWE-89-SQL-injection/training/abundant_taussig_9121/SCG'\n",
    "dir = 'K:/hids/dataSet/GP_DATA_DIR/CWE-89-SQL-injection/test_2s/abundant_taussig_9121/SCG'\n",
    "for item in os.scandir(dir):\n",
    "    if 'mysqld' in item.name:\n",
    "        one_scg = nx.read_multiline_adjlist(os.path.join(dir, item.name), delimiter='|', create_using=nx.DiGraph)\n",
    "        edge_df = pd.DataFrame(columns=[0, 1])\n",
    "        for (u, v, wt) in one_scg.edges.data('f'):\n",
    "            if wt > 2:\n",
    "                if apache2_scg.has_edge(u, v):\n",
    "                    edge_df.loc[len(edge_df.index)] = [apache2_scg.edges[u, v][\"f\"], wt]\n",
    "                else:\n",
    "                    print(f'mysqld has not age {u} to {v} wt {wt}')\n",
    "\n",
    "        largest = 5 if len(edge_df) > 5 else len(edge_df)\n",
    "        new_line = [item.name]\n",
    "\n",
    "        if largest > 0:\n",
    "            a = [0] * 5\n",
    "            b = edge_df[0].astype(int).nlargest(largest).tolist()\n",
    "            for i in range(largest):\n",
    "                a[i] = b[i]\n",
    "            new_line.extend(a)\n",
    "\n",
    "            a = [0] * 5\n",
    "            b = edge_df[1].astype(int).nlargest(largest).tolist()\n",
    "            for i in range(largest):\n",
    "                a[i] = b[i]\n",
    "            new_line.extend(a)\n",
    "\n",
    "            a = [0] * 5\n",
    "            b = list(edge_df[0].astype(int).nlargest(5).index == edge_df[1].astype(int).nlargest(5).index)\n",
    "            for i in range(largest):\n",
    "                a[i] = b[i]\n",
    "            new_line.extend(a)\n",
    "\n",
    "            result_df.loc[len(result_df.index)] =  new_line\n"
   ],
   "metadata": {
    "collapsed": false,
    "ExecuteTime": {
     "end_time": "2023-07-18T14:29:45.334972200Z",
     "start_time": "2023-07-18T14:29:39.730048600Z"
    }
   }
  },
  {
   "cell_type": "code",
   "execution_count": 122,
   "outputs": [
    {
     "data": {
      "text/plain": "                               time   Amax1   Amax2   Amax3   Amax4   Amax5  \\\n0    1631083490806378308_mysqld_scg  736112  460090  302238  294457  243717   \n1    1631083491018191952_mysqld_scg  736112  460090  302238  294457  243717   \n2    1631083491257636584_mysqld_scg  736112  460090  302238  294457  243717   \n3    1631083491518251782_mysqld_scg  736112  460090  302238  294457  243717   \n4    1631083491752021515_mysqld_scg  736112  460090  302238  294457  243717   \n..                              ...     ...     ...     ...     ...     ...   \n118  1631083520023054379_mysqld_scg  736112  460090  302238  294457  243717   \n119  1631083520272479840_mysqld_scg  736112  460090  302238  294457  243717   \n120  1631083520523228566_mysqld_scg  736112  460090  302238  294457  243717   \n121  1631083520752160479_mysqld_scg  736112  460090  302238  294457  243717   \n122  1631083520981141669_mysqld_scg  736112  460090  302238  294457  243717   \n\n    max1 max2 max3 max4 max5     1      2      3      4      5  \n0    240  156  101   96   81  True   True   True   True   True  \n1    240  156  101   96   81  True   True   True   True   True  \n2    240  156  101   96   81  True   True   True   True   True  \n3    340  214  140  136  107  True   True   True   True  False  \n4    360  228  149  144  114  True   True   True   True  False  \n..   ...  ...  ...  ...  ...   ...    ...    ...    ...    ...  \n118  100   71   60   41   40  True  False  False  False  False  \n119  100   71   60   41   40  True  False  False  False  False  \n120  100   71   60   41   40  True  False  False  False  False  \n121  160   96   70   65   64  True   True  False  False  False  \n122  160   98   71   66   64  True   True  False  False  False  \n\n[123 rows x 16 columns]",
      "text/html": "<div>\n<style scoped>\n    .dataframe tbody tr th:only-of-type {\n        vertical-align: middle;\n    }\n\n    .dataframe tbody tr th {\n        vertical-align: top;\n    }\n\n    .dataframe thead th {\n        text-align: right;\n    }\n</style>\n<table border=\"1\" class=\"dataframe\">\n  <thead>\n    <tr style=\"text-align: right;\">\n      <th></th>\n      <th>time</th>\n      <th>Amax1</th>\n      <th>Amax2</th>\n      <th>Amax3</th>\n      <th>Amax4</th>\n      <th>Amax5</th>\n      <th>max1</th>\n      <th>max2</th>\n      <th>max3</th>\n      <th>max4</th>\n      <th>max5</th>\n      <th>1</th>\n      <th>2</th>\n      <th>3</th>\n      <th>4</th>\n      <th>5</th>\n    </tr>\n  </thead>\n  <tbody>\n    <tr>\n      <th>0</th>\n      <td>1631083490806378308_mysqld_scg</td>\n      <td>736112</td>\n      <td>460090</td>\n      <td>302238</td>\n      <td>294457</td>\n      <td>243717</td>\n      <td>240</td>\n      <td>156</td>\n      <td>101</td>\n      <td>96</td>\n      <td>81</td>\n      <td>True</td>\n      <td>True</td>\n      <td>True</td>\n      <td>True</td>\n      <td>True</td>\n    </tr>\n    <tr>\n      <th>1</th>\n      <td>1631083491018191952_mysqld_scg</td>\n      <td>736112</td>\n      <td>460090</td>\n      <td>302238</td>\n      <td>294457</td>\n      <td>243717</td>\n      <td>240</td>\n      <td>156</td>\n      <td>101</td>\n      <td>96</td>\n      <td>81</td>\n      <td>True</td>\n      <td>True</td>\n      <td>True</td>\n      <td>True</td>\n      <td>True</td>\n    </tr>\n    <tr>\n      <th>2</th>\n      <td>1631083491257636584_mysqld_scg</td>\n      <td>736112</td>\n      <td>460090</td>\n      <td>302238</td>\n      <td>294457</td>\n      <td>243717</td>\n      <td>240</td>\n      <td>156</td>\n      <td>101</td>\n      <td>96</td>\n      <td>81</td>\n      <td>True</td>\n      <td>True</td>\n      <td>True</td>\n      <td>True</td>\n      <td>True</td>\n    </tr>\n    <tr>\n      <th>3</th>\n      <td>1631083491518251782_mysqld_scg</td>\n      <td>736112</td>\n      <td>460090</td>\n      <td>302238</td>\n      <td>294457</td>\n      <td>243717</td>\n      <td>340</td>\n      <td>214</td>\n      <td>140</td>\n      <td>136</td>\n      <td>107</td>\n      <td>True</td>\n      <td>True</td>\n      <td>True</td>\n      <td>True</td>\n      <td>False</td>\n    </tr>\n    <tr>\n      <th>4</th>\n      <td>1631083491752021515_mysqld_scg</td>\n      <td>736112</td>\n      <td>460090</td>\n      <td>302238</td>\n      <td>294457</td>\n      <td>243717</td>\n      <td>360</td>\n      <td>228</td>\n      <td>149</td>\n      <td>144</td>\n      <td>114</td>\n      <td>True</td>\n      <td>True</td>\n      <td>True</td>\n      <td>True</td>\n      <td>False</td>\n    </tr>\n    <tr>\n      <th>...</th>\n      <td>...</td>\n      <td>...</td>\n      <td>...</td>\n      <td>...</td>\n      <td>...</td>\n      <td>...</td>\n      <td>...</td>\n      <td>...</td>\n      <td>...</td>\n      <td>...</td>\n      <td>...</td>\n      <td>...</td>\n      <td>...</td>\n      <td>...</td>\n      <td>...</td>\n      <td>...</td>\n    </tr>\n    <tr>\n      <th>118</th>\n      <td>1631083520023054379_mysqld_scg</td>\n      <td>736112</td>\n      <td>460090</td>\n      <td>302238</td>\n      <td>294457</td>\n      <td>243717</td>\n      <td>100</td>\n      <td>71</td>\n      <td>60</td>\n      <td>41</td>\n      <td>40</td>\n      <td>True</td>\n      <td>False</td>\n      <td>False</td>\n      <td>False</td>\n      <td>False</td>\n    </tr>\n    <tr>\n      <th>119</th>\n      <td>1631083520272479840_mysqld_scg</td>\n      <td>736112</td>\n      <td>460090</td>\n      <td>302238</td>\n      <td>294457</td>\n      <td>243717</td>\n      <td>100</td>\n      <td>71</td>\n      <td>60</td>\n      <td>41</td>\n      <td>40</td>\n      <td>True</td>\n      <td>False</td>\n      <td>False</td>\n      <td>False</td>\n      <td>False</td>\n    </tr>\n    <tr>\n      <th>120</th>\n      <td>1631083520523228566_mysqld_scg</td>\n      <td>736112</td>\n      <td>460090</td>\n      <td>302238</td>\n      <td>294457</td>\n      <td>243717</td>\n      <td>100</td>\n      <td>71</td>\n      <td>60</td>\n      <td>41</td>\n      <td>40</td>\n      <td>True</td>\n      <td>False</td>\n      <td>False</td>\n      <td>False</td>\n      <td>False</td>\n    </tr>\n    <tr>\n      <th>121</th>\n      <td>1631083520752160479_mysqld_scg</td>\n      <td>736112</td>\n      <td>460090</td>\n      <td>302238</td>\n      <td>294457</td>\n      <td>243717</td>\n      <td>160</td>\n      <td>96</td>\n      <td>70</td>\n      <td>65</td>\n      <td>64</td>\n      <td>True</td>\n      <td>True</td>\n      <td>False</td>\n      <td>False</td>\n      <td>False</td>\n    </tr>\n    <tr>\n      <th>122</th>\n      <td>1631083520981141669_mysqld_scg</td>\n      <td>736112</td>\n      <td>460090</td>\n      <td>302238</td>\n      <td>294457</td>\n      <td>243717</td>\n      <td>160</td>\n      <td>98</td>\n      <td>71</td>\n      <td>66</td>\n      <td>64</td>\n      <td>True</td>\n      <td>True</td>\n      <td>False</td>\n      <td>False</td>\n      <td>False</td>\n    </tr>\n  </tbody>\n</table>\n<p>123 rows × 16 columns</p>\n</div>"
     },
     "execution_count": 122,
     "metadata": {},
     "output_type": "execute_result"
    }
   ],
   "source": [
    "# result_df.to_csv(os.path.join(dir, 'result_df'))\n",
    "result_df"
   ],
   "metadata": {
    "collapsed": false,
    "ExecuteTime": {
     "end_time": "2023-07-18T14:29:46.242052500Z",
     "start_time": "2023-07-18T14:29:46.202159900Z"
    }
   }
  },
  {
   "cell_type": "code",
   "execution_count": 123,
   "outputs": [
    {
     "data": {
      "text/plain": "1     2      3      4      5    \nTrue  True   True   True   True     25\n                           False    14\n             False  True   False    10\n      False  False  False  False     5\n      True   False  False  False     1\n      False  False  True   False     1\ndtype: int64"
     },
     "execution_count": 123,
     "metadata": {},
     "output_type": "execute_result"
    }
   ],
   "source": [
    "result_df[:56][['1','2','3','4', '5']].value_counts()"
   ],
   "metadata": {
    "collapsed": false,
    "ExecuteTime": {
     "end_time": "2023-07-18T14:30:09.141225900Z",
     "start_time": "2023-07-18T14:30:09.111305600Z"
    }
   }
  },
  {
   "cell_type": "code",
   "execution_count": 124,
   "outputs": [
    {
     "data": {
      "text/plain": "1     2      3      4      5    \nTrue  True   True   True   False    29\n                           True     20\n             False  False  False    10\n      False  False  False  False     6\n      True   False  False  True      2\ndtype: int64"
     },
     "execution_count": 124,
     "metadata": {},
     "output_type": "execute_result"
    }
   ],
   "source": [
    "result_df[56:][['1','2','3','4', '5']].value_counts()"
   ],
   "metadata": {
    "collapsed": false,
    "ExecuteTime": {
     "end_time": "2023-07-18T14:30:09.592027200Z",
     "start_time": "2023-07-18T14:30:09.565092300Z"
    }
   }
  },
  {
   "cell_type": "code",
   "execution_count": 135,
   "outputs": [
    {
     "data": {
      "text/plain": "22"
     },
     "execution_count": 135,
     "metadata": {},
     "output_type": "execute_result"
    }
   ],
   "source": [
    "one_scg.number_of_nodes()"
   ],
   "metadata": {
    "collapsed": false,
    "ExecuteTime": {
     "end_time": "2023-07-18T14:31:51.276333900Z",
     "start_time": "2023-07-18T14:31:51.257357300Z"
    }
   }
  },
  {
   "cell_type": "code",
   "execution_count": 136,
   "outputs": [
    {
     "data": {
      "text/plain": "OutEdgeDataView([('(2, 0)', '(2, 0)', {'f': 12}), ('(1, 0)', '(1, 0)', {'f': 71}), ('(36, 1)', '(22, 0)', {'f': 34}), ('(36, 1)', '(43, 0)', {'f': 107}), ('(22, 0)', '(22, 2)', {'f': 34}), ('(22, 0)', '(22, 0)', {'f': 340}), ('(22, 0)', '(20, 0)', {'f': 34}), ('(22, 0)', '(38, 0)', {'f': 34}), ('(43, 0)', '(43, -11)', {'f': 107}), ('(43, 0)', '(43, 1)', {'f': 214}), ('(22, 2)', '(22, 0)', {'f': 34}), ('(20, 0)', '(20, 0)', {'f': 34}), ('(20, 0)', '(22, 0)', {'f': 34}), ('(38, 0)', '(38, 0)', {'f': 136}), ('(38, 0)', '(39, 0)', {'f': 34}), ('(38, 0)', '(42, 0)', {'f': 34}), ('(39, 0)', '(39, 1)', {'f': 34}), ('(39, 0)', '(39, 0)', {'f': 106}), ('(39, 0)', '(40, 0)', {'f': 34}), ('(39, 0)', '(39, -110)', {'f': 2}), ('(42, 0)', '(42, 1)', {'f': 107}), ('(39, 1)', '(36, 0)', {'f': 34}), ('(40, 0)', '(40, 0)', {'f': 34}), ('(40, 0)', '(41, 0)', {'f': 34}), ('(39, -110)', '(39, 0)', {'f': 4}), ('(36, 0)', '(36, 1)', {'f': 140}), ('(41, 0)', '(41, 0)', {'f': 34}), ('(41, 0)', '(38, 0)', {'f': 34}), ('(42, 1)', '(43, 0)', {'f': 107}), ('(43, -11)', '(36, 0)', {'f': 107}), ('(43, 1)', '(43, 0)', {'f': 107}), ('(43, 1)', '(42, 0)', {'f': 37}), ('(43, 1)', '(32, 0)', {'f': 34}), ('(43, 1)', '(45, 0)', {'f': 34}), ('(43, 1)', '(53, 0)', {'f': 2}), ('(32, 0)', '(32, 0)', {'f': 34}), ('(32, 0)', '(42, 0)', {'f': 34}), ('(45, 0)', '(45, 0)', {'f': 34}), ('(45, 0)', '(12, 0)', {'f': 34}), ('(53, 0)', '(53, 0)', {'f': 4}), ('(53, 0)', '(42, 0)', {'f': 2}), ('(12, 0)', '(12, 0)', {'f': 34}), ('(12, 0)', '(39, 0)', {'f': 34})])"
     },
     "execution_count": 136,
     "metadata": {},
     "output_type": "execute_result"
    }
   ],
   "source": [
    "one_scg.edges().data()"
   ],
   "metadata": {
    "collapsed": false,
    "ExecuteTime": {
     "end_time": "2023-07-18T14:31:51.503697900Z",
     "start_time": "2023-07-18T14:31:51.489736900Z"
    }
   }
  },
  {
   "cell_type": "code",
   "execution_count": 137,
   "outputs": [
    {
     "data": {
      "text/plain": "OutEdgeDataView([('(1, 0)', '(1, 0)', {'f': 169967}), ('(1, 0)', '(39, 0)', {'f': 36}), ('(1, 0)', '(56, 0)', {'f': 102}), ('(1, 0)', '(7, 0)', {'f': 3}), ('(1, 0)', '(55, 0)', {'f': 2}), ('(39, 0)', '(39, 1)', {'f': 74177}), ('(39, 0)', '(39, 0)', {'f': 243717}), ('(39, 0)', '(40, 0)', {'f': 73414}), ('(39, 0)', '(39, -11)', {'f': 432}), ('(39, 0)', '(39, -110)', {'f': 9958}), ('(39, 0)', '(32, 0)', {'f': 252}), ('(39, 0)', '(55, 0)', {'f': 76}), ('(39, 0)', '(1, 0)', {'f': 24}), ('(39, 0)', '(2, 0)', {'f': 108}), ('(39, 0)', '(42, 0)', {'f': 256}), ('(39, 0)', '(53, 0)', {'f': 30}), ('(39, 0)', '(45, 0)', {'f': 25}), ('(39, 0)', '(22, 0)', {'f': 18}), ('(39, 0)', '(38, 0)', {'f': 24}), ('(39, 0)', '(60, 0)', {'f': 13}), ('(39, 0)', '(23, 0)', {'f': 14}), ('(39, 0)', '(36, 1)', {'f': 14}), ('(39, 0)', '(43, 0)', {'f': 4}), ('(39, 0)', '(36, 0)', {'f': 8}), ('(39, 0)', '(41, 0)', {'f': 4}), ('(39, 0)', '(39, 2)', {'f': 1}), ('(39, 0)', '(56, 0)', {'f': 1}), ('(56, 0)', '(56, 0)', {'f': 415}), ('(56, 0)', '(47, 0)', {'f': 38}), ('(56, 0)', '(39, 0)', {'f': 146}), ('(56, 0)', '(60, 0)', {'f': 43}), ('(7, 0)', '(7, 1)', {'f': 208}), ('(55, 0)', '(55, 0)', {'f': 568}), ('(55, 0)', '(39, 0)', {'f': 186}), ('(55, 0)', '(56, 0)', {'f': 2}), ('(36, 1)', '(22, 0)', {'f': 73613}), ('(36, 1)', '(43, 0)', {'f': 228736}), ('(22, 0)', '(22, 2)', {'f': 73613}), ('(22, 0)', '(22, 0)', {'f': 736112}), ('(22, 0)', '(20, 0)', {'f': 73613}), ('(22, 0)', '(38, 0)', {'f': 73613}), ('(22, 0)', '(39, 0)', {'f': 18}), ('(43, 0)', '(43, -11)', {'f': 228744}), ('(43, 0)', '(43, 1)', {'f': 460090}), ('(22, 2)', '(22, 0)', {'f': 73613}), ('(20, 0)', '(20, 0)', {'f': 73613}), ('(20, 0)', '(22, 0)', {'f': 73613}), ('(20, 0)', '(36, 1)', {'f': 1}), ('(38, 0)', '(38, 0)', {'f': 294457}), ('(38, 0)', '(39, 0)', {'f': 73499}), ('(38, 0)', '(42, 0)', {'f': 73618}), ('(38, 0)', '(7, 0)', {'f': 114}), ('(42, 0)', '(42, 1)', {'f': 230052}), ('(42, 0)', '(43, 0)', {'f': 1}), ('(39, 1)', '(36, 0)', {'f': 73500}), ('(39, 1)', '(32, 0)', {'f': 15}), ('(39, 1)', '(47, 0)', {'f': 38}), ('(39, 1)', '(39, 0)', {'f': 448}), ('(39, 1)', '(1, 0)', {'f': 118}), ('(39, 1)', '(42, 0)', {'f': 46}), ('(39, 1)', '(53, 0)', {'f': 3}), ('(39, 1)', '(38, 0)', {'f': 7}), ('(39, 1)', '(40, 0)', {'f': 1}), ('(39, 1)', '(2, 0)', {'f': 1}), ('(40, 0)', '(40, 0)', {'f': 73618}), ('(40, 0)', '(41, 0)', {'f': 73618}), ('(39, -11)', '(39, 0)', {'f': 432}), ('(39, -110)', '(39, 0)', {'f': 10532}), ('(32, 0)', '(32, 0)', {'f': 73619}), ('(32, 0)', '(42, 0)', {'f': 73467}), ('(32, 0)', '(32, -2)', {'f': 50}), ('(32, 0)', '(39, 0)', {'f': 152}), ('(2, 0)', '(2, 0)', {'f': 33395}), ('(2, 0)', '(47, 0)', {'f': 43}), ('(2, 0)', '(60, 0)', {'f': 65}), ('(2, 0)', '(55, 0)', {'f': 1}), ('(53, 0)', '(53, 0)', {'f': 4906}), ('(53, 0)', '(42, 0)', {'f': 2568}), ('(53, 0)', '(39, 0)', {'f': 94}), ('(45, 0)', '(45, 0)', {'f': 73610}), ('(45, 0)', '(12, 0)', {'f': 73611}), ('(60, 0)', '(60, 0)', {'f': 1039}), ('(60, 0)', '(55, 0)', {'f': 108}), ('(60, 0)', '(39, 0)', {'f': 13}), ('(23, 0)', '(23, 0)', {'f': 50}), ('(23, 0)', '(32, 0)', {'f': 50}), ('(36, 0)', '(36, 1)', {'f': 302238}), ('(36, 0)', '(39, 0)', {'f': 21}), ('(36, 0)', '(20, 0)', {'f': 1}), ('(41, 0)', '(41, 0)', {'f': 73618}), ('(41, 0)', '(38, 0)', {'f': 73587}), ('(41, 0)', '(39, 0)', {'f': 34}), ('(41, 0)', '(36, 1)', {'f': 1}), ('(39, 2)', '(1, 0)', {'f': 1}), ('(47, 0)', '(47, 1)', {'f': 119}), ('(42, 1)', '(43, 0)', {'f': 230048}), ('(42, 1)', '(39, 0)', {'f': 4}), ('(43, -11)', '(36, 0)', {'f': 228744}), ('(43, 1)', '(43, 0)', {'f': 230045}), ('(43, 1)', '(42, 0)', {'f': 80089}), ('(43, 1)', '(32, 0)', {'f': 73352}), ('(43, 1)', '(45, 0)', {'f': 73586}), ('(43, 1)', '(53, 0)', {'f': 2497}), ('(43, 1)', '(23, 0)', {'f': 36}), ('(43, 1)', '(39, 0)', {'f': 484}), ('(43, 1)', '(55, 0)', {'f': 1}), ('(32, -2)', '(53, 0)', {'f': 38}), ('(32, -2)', '(39, 0)', {'f': 3}), ('(32, -2)', '(42, 0)', {'f': 9}), ('(12, 0)', '(12, 0)', {'f': 73611}), ('(12, 0)', '(39, 0)', {'f': 73428}), ('(12, 0)', '(53, 0)', {'f': 94}), ('(12, 0)', '(40, 0)', {'f': 89}), ('(7, 1)', '(46, 0)', {'f': 114}), ('(7, 1)', '(40, 0)', {'f': 85}), ('(7, 1)', '(15, 0)', {'f': 6}), ('(7, 1)', '(56, 0)', {'f': 3}), ('(46, 0)', '(46, 0)', {'f': 114}), ('(46, 0)', '(3, 0)', {'f': 114}), ('(15, 0)', '(15, 0)', {'f': 6}), ('(15, 0)', '(7, 0)', {'f': 3}), ('(15, 0)', '(40, 0)', {'f': 3}), ('(3, 0)', '(3, 1)', {'f': 114}), ('(3, 0)', '(4, 0)', {'f': 114}), ('(3, 1)', '(39, 0)', {'f': 9}), ('(3, 1)', '(36, 0)', {'f': 105}), ('(4, 0)', '(4, 0)', {'f': 114}), ('(4, 0)', '(7, 0)', {'f': 88}), ('(4, 0)', '(40, 0)', {'f': 26}), ('(47, 1)', '(56, 0)', {'f': 119})])"
     },
     "execution_count": 137,
     "metadata": {},
     "output_type": "execute_result"
    }
   ],
   "source": [
    "apache2_scg.edges().data()"
   ],
   "metadata": {
    "collapsed": false,
    "ExecuteTime": {
     "end_time": "2023-07-18T14:31:51.730127600Z",
     "start_time": "2023-07-18T14:31:51.713139200Z"
    }
   }
  },
  {
   "cell_type": "code",
   "execution_count": 143,
   "outputs": [
    {
     "name": "stdout",
     "output_type": "stream",
     "text": [
      "33395 One 12\n",
      "169967 One 71\n",
      "73613 One 34\n",
      "228736 One 107\n",
      "73613 One 34\n",
      "736112 One 340\n",
      "73613 One 34\n",
      "73613 One 34\n",
      "228744 One 107\n",
      "460090 One 214\n",
      "73613 One 34\n",
      "73613 One 34\n",
      "73613 One 34\n",
      "294457 One 136\n",
      "73499 One 34\n",
      "73618 One 34\n",
      "74177 One 34\n",
      "243717 One 106\n",
      "73414 One 34\n",
      "230052 One 107\n",
      "73500 One 34\n",
      "73618 One 34\n",
      "73618 One 34\n",
      "10532 One 4\n",
      "302238 One 140\n",
      "73618 One 34\n",
      "73587 One 34\n",
      "230048 One 107\n",
      "228744 One 107\n",
      "230045 One 107\n",
      "80089 One 37\n",
      "73352 One 34\n",
      "73586 One 34\n",
      "73619 One 34\n",
      "73467 One 34\n",
      "73610 One 34\n",
      "73611 One 34\n",
      "4906 One 4\n",
      "73611 One 34\n",
      "73428 One 34\n"
     ]
    }
   ],
   "source": [
    "edge_df = pd.DataFrame(columns=['all', 'in', 'out', 'res', 'one', 'in_', 'out_', 'res_'])\n",
    "for (u, v, wt) in one_scg.edges.data('f'):\n",
    "    if wt > 2:\n",
    "        if apache2_scg.has_edge(u, v):\n",
    "            edge_df.loc[len(edge_df.index)] = [apache2_scg.edges[u, v][\"f\"], apache2_scg.in_degree(u),  apache2_scg.out_degree(v), apache2_scg.edges[u, v][\"f\"] / apache2_scg.in_degree(u),\n",
    "                                               wt, one_scg.in_degree(u),  one_scg.out_degree(v), one_scg.edges[u, v][\"f\"] / one_scg.in_degree(u)]\n",
    "            print(f'{ apache2_scg.edges[u, v][\"f\"] } One {wt}')"
   ],
   "metadata": {
    "collapsed": false,
    "ExecuteTime": {
     "end_time": "2023-07-18T14:32:39.743053800Z",
     "start_time": "2023-07-18T14:32:39.600408800Z"
    }
   }
  },
  {
   "cell_type": "code",
   "execution_count": 144,
   "outputs": [
    {
     "data": {
      "text/plain": "         all    in   out            res    one  in_  out_        res_\n0    33395.0   3.0   4.0   11131.666667   12.0  1.0   1.0   12.000000\n1   169967.0   4.0   5.0   42491.750000   71.0  1.0   1.0   71.000000\n2    73613.0   4.0   5.0   18403.250000   34.0  1.0   4.0   34.000000\n3   228736.0   4.0   2.0   57184.000000  107.0  1.0   2.0  107.000000\n4    73613.0   5.0   1.0   14722.600000   34.0  4.0   1.0    8.500000\n5   736112.0   5.0   5.0  147222.400000  340.0  4.0   4.0   85.000000\n6    73613.0   5.0   3.0   14722.600000   34.0  4.0   2.0    8.500000\n7    73613.0   5.0   4.0   14722.600000   34.0  4.0   3.0    8.500000\n8   228744.0   5.0   1.0   45748.800000  107.0  3.0   1.0   35.666667\n9   460090.0   5.0   8.0   92018.000000  214.0  3.0   5.0   71.333333\n10   73613.0   1.0   5.0   73613.000000   34.0  1.0   4.0   34.000000\n11   73613.0   3.0   3.0   24537.666667   34.0  2.0   2.0   17.000000\n12   73613.0   3.0   5.0   24537.666667   34.0  2.0   4.0   17.000000\n13  294457.0   5.0   4.0   58891.400000  136.0  3.0   3.0   45.333333\n14   73499.0   5.0  22.0   14699.800000   34.0  3.0   4.0   11.333333\n15   73618.0   5.0   2.0   14723.600000   34.0  3.0   1.0   11.333333\n16   74177.0  19.0  10.0    3904.052632   34.0  4.0   1.0    8.500000\n17  243717.0  19.0  22.0   12827.210526  106.0  4.0   4.0   26.500000\n18   73414.0  19.0   2.0    3863.894737   34.0  4.0   2.0    8.500000\n19  230052.0   7.0   2.0   32864.571429  107.0  4.0   1.0   26.750000\n20   73500.0   1.0   3.0   73500.000000   34.0  1.0   1.0   34.000000\n21   73618.0   7.0   2.0   10516.857143   34.0  2.0   2.0   17.000000\n22   73618.0   7.0   4.0   10516.857143   34.0  2.0   2.0   17.000000\n23   10532.0   1.0  22.0   10532.000000    4.0  1.0   4.0    4.000000\n24  302238.0   4.0   2.0   75559.500000  140.0  2.0   2.0   70.000000\n25   73618.0   3.0   4.0   24539.333333   34.0  2.0   2.0   17.000000\n26   73587.0   3.0   4.0   24529.000000   34.0  2.0   3.0   17.000000\n27  230048.0   1.0   2.0  230048.000000  107.0  1.0   2.0  107.000000\n28  228744.0   1.0   3.0  228744.000000  107.0  1.0   1.0  107.000000\n29  230045.0   1.0   2.0  230045.000000  107.0  1.0   2.0  107.000000\n30   80089.0   1.0   2.0   80089.000000   37.0  1.0   1.0   37.000000\n31   73352.0   1.0   4.0   73352.000000   34.0  1.0   2.0   34.000000\n32   73586.0   1.0   2.0   73586.000000   34.0  1.0   2.0   34.000000\n33   73619.0   5.0   4.0   14723.800000   34.0  2.0   2.0   17.000000\n34   73467.0   5.0   2.0   14693.400000   34.0  2.0   1.0   17.000000\n35   73610.0   3.0   2.0   24536.666667   34.0  2.0   2.0   17.000000\n36   73611.0   3.0   4.0   24537.000000   34.0  2.0   2.0   17.000000\n37    4906.0   6.0   3.0     817.666667    4.0  2.0   2.0    2.000000\n38   73611.0   2.0   4.0   36805.500000   34.0  2.0   2.0   17.000000\n39   73428.0   2.0  22.0   36714.000000   34.0  2.0   4.0   17.000000",
      "text/html": "<div>\n<style scoped>\n    .dataframe tbody tr th:only-of-type {\n        vertical-align: middle;\n    }\n\n    .dataframe tbody tr th {\n        vertical-align: top;\n    }\n\n    .dataframe thead th {\n        text-align: right;\n    }\n</style>\n<table border=\"1\" class=\"dataframe\">\n  <thead>\n    <tr style=\"text-align: right;\">\n      <th></th>\n      <th>all</th>\n      <th>in</th>\n      <th>out</th>\n      <th>res</th>\n      <th>one</th>\n      <th>in_</th>\n      <th>out_</th>\n      <th>res_</th>\n    </tr>\n  </thead>\n  <tbody>\n    <tr>\n      <th>0</th>\n      <td>33395.0</td>\n      <td>3.0</td>\n      <td>4.0</td>\n      <td>11131.666667</td>\n      <td>12.0</td>\n      <td>1.0</td>\n      <td>1.0</td>\n      <td>12.000000</td>\n    </tr>\n    <tr>\n      <th>1</th>\n      <td>169967.0</td>\n      <td>4.0</td>\n      <td>5.0</td>\n      <td>42491.750000</td>\n      <td>71.0</td>\n      <td>1.0</td>\n      <td>1.0</td>\n      <td>71.000000</td>\n    </tr>\n    <tr>\n      <th>2</th>\n      <td>73613.0</td>\n      <td>4.0</td>\n      <td>5.0</td>\n      <td>18403.250000</td>\n      <td>34.0</td>\n      <td>1.0</td>\n      <td>4.0</td>\n      <td>34.000000</td>\n    </tr>\n    <tr>\n      <th>3</th>\n      <td>228736.0</td>\n      <td>4.0</td>\n      <td>2.0</td>\n      <td>57184.000000</td>\n      <td>107.0</td>\n      <td>1.0</td>\n      <td>2.0</td>\n      <td>107.000000</td>\n    </tr>\n    <tr>\n      <th>4</th>\n      <td>73613.0</td>\n      <td>5.0</td>\n      <td>1.0</td>\n      <td>14722.600000</td>\n      <td>34.0</td>\n      <td>4.0</td>\n      <td>1.0</td>\n      <td>8.500000</td>\n    </tr>\n    <tr>\n      <th>5</th>\n      <td>736112.0</td>\n      <td>5.0</td>\n      <td>5.0</td>\n      <td>147222.400000</td>\n      <td>340.0</td>\n      <td>4.0</td>\n      <td>4.0</td>\n      <td>85.000000</td>\n    </tr>\n    <tr>\n      <th>6</th>\n      <td>73613.0</td>\n      <td>5.0</td>\n      <td>3.0</td>\n      <td>14722.600000</td>\n      <td>34.0</td>\n      <td>4.0</td>\n      <td>2.0</td>\n      <td>8.500000</td>\n    </tr>\n    <tr>\n      <th>7</th>\n      <td>73613.0</td>\n      <td>5.0</td>\n      <td>4.0</td>\n      <td>14722.600000</td>\n      <td>34.0</td>\n      <td>4.0</td>\n      <td>3.0</td>\n      <td>8.500000</td>\n    </tr>\n    <tr>\n      <th>8</th>\n      <td>228744.0</td>\n      <td>5.0</td>\n      <td>1.0</td>\n      <td>45748.800000</td>\n      <td>107.0</td>\n      <td>3.0</td>\n      <td>1.0</td>\n      <td>35.666667</td>\n    </tr>\n    <tr>\n      <th>9</th>\n      <td>460090.0</td>\n      <td>5.0</td>\n      <td>8.0</td>\n      <td>92018.000000</td>\n      <td>214.0</td>\n      <td>3.0</td>\n      <td>5.0</td>\n      <td>71.333333</td>\n    </tr>\n    <tr>\n      <th>10</th>\n      <td>73613.0</td>\n      <td>1.0</td>\n      <td>5.0</td>\n      <td>73613.000000</td>\n      <td>34.0</td>\n      <td>1.0</td>\n      <td>4.0</td>\n      <td>34.000000</td>\n    </tr>\n    <tr>\n      <th>11</th>\n      <td>73613.0</td>\n      <td>3.0</td>\n      <td>3.0</td>\n      <td>24537.666667</td>\n      <td>34.0</td>\n      <td>2.0</td>\n      <td>2.0</td>\n      <td>17.000000</td>\n    </tr>\n    <tr>\n      <th>12</th>\n      <td>73613.0</td>\n      <td>3.0</td>\n      <td>5.0</td>\n      <td>24537.666667</td>\n      <td>34.0</td>\n      <td>2.0</td>\n      <td>4.0</td>\n      <td>17.000000</td>\n    </tr>\n    <tr>\n      <th>13</th>\n      <td>294457.0</td>\n      <td>5.0</td>\n      <td>4.0</td>\n      <td>58891.400000</td>\n      <td>136.0</td>\n      <td>3.0</td>\n      <td>3.0</td>\n      <td>45.333333</td>\n    </tr>\n    <tr>\n      <th>14</th>\n      <td>73499.0</td>\n      <td>5.0</td>\n      <td>22.0</td>\n      <td>14699.800000</td>\n      <td>34.0</td>\n      <td>3.0</td>\n      <td>4.0</td>\n      <td>11.333333</td>\n    </tr>\n    <tr>\n      <th>15</th>\n      <td>73618.0</td>\n      <td>5.0</td>\n      <td>2.0</td>\n      <td>14723.600000</td>\n      <td>34.0</td>\n      <td>3.0</td>\n      <td>1.0</td>\n      <td>11.333333</td>\n    </tr>\n    <tr>\n      <th>16</th>\n      <td>74177.0</td>\n      <td>19.0</td>\n      <td>10.0</td>\n      <td>3904.052632</td>\n      <td>34.0</td>\n      <td>4.0</td>\n      <td>1.0</td>\n      <td>8.500000</td>\n    </tr>\n    <tr>\n      <th>17</th>\n      <td>243717.0</td>\n      <td>19.0</td>\n      <td>22.0</td>\n      <td>12827.210526</td>\n      <td>106.0</td>\n      <td>4.0</td>\n      <td>4.0</td>\n      <td>26.500000</td>\n    </tr>\n    <tr>\n      <th>18</th>\n      <td>73414.0</td>\n      <td>19.0</td>\n      <td>2.0</td>\n      <td>3863.894737</td>\n      <td>34.0</td>\n      <td>4.0</td>\n      <td>2.0</td>\n      <td>8.500000</td>\n    </tr>\n    <tr>\n      <th>19</th>\n      <td>230052.0</td>\n      <td>7.0</td>\n      <td>2.0</td>\n      <td>32864.571429</td>\n      <td>107.0</td>\n      <td>4.0</td>\n      <td>1.0</td>\n      <td>26.750000</td>\n    </tr>\n    <tr>\n      <th>20</th>\n      <td>73500.0</td>\n      <td>1.0</td>\n      <td>3.0</td>\n      <td>73500.000000</td>\n      <td>34.0</td>\n      <td>1.0</td>\n      <td>1.0</td>\n      <td>34.000000</td>\n    </tr>\n    <tr>\n      <th>21</th>\n      <td>73618.0</td>\n      <td>7.0</td>\n      <td>2.0</td>\n      <td>10516.857143</td>\n      <td>34.0</td>\n      <td>2.0</td>\n      <td>2.0</td>\n      <td>17.000000</td>\n    </tr>\n    <tr>\n      <th>22</th>\n      <td>73618.0</td>\n      <td>7.0</td>\n      <td>4.0</td>\n      <td>10516.857143</td>\n      <td>34.0</td>\n      <td>2.0</td>\n      <td>2.0</td>\n      <td>17.000000</td>\n    </tr>\n    <tr>\n      <th>23</th>\n      <td>10532.0</td>\n      <td>1.0</td>\n      <td>22.0</td>\n      <td>10532.000000</td>\n      <td>4.0</td>\n      <td>1.0</td>\n      <td>4.0</td>\n      <td>4.000000</td>\n    </tr>\n    <tr>\n      <th>24</th>\n      <td>302238.0</td>\n      <td>4.0</td>\n      <td>2.0</td>\n      <td>75559.500000</td>\n      <td>140.0</td>\n      <td>2.0</td>\n      <td>2.0</td>\n      <td>70.000000</td>\n    </tr>\n    <tr>\n      <th>25</th>\n      <td>73618.0</td>\n      <td>3.0</td>\n      <td>4.0</td>\n      <td>24539.333333</td>\n      <td>34.0</td>\n      <td>2.0</td>\n      <td>2.0</td>\n      <td>17.000000</td>\n    </tr>\n    <tr>\n      <th>26</th>\n      <td>73587.0</td>\n      <td>3.0</td>\n      <td>4.0</td>\n      <td>24529.000000</td>\n      <td>34.0</td>\n      <td>2.0</td>\n      <td>3.0</td>\n      <td>17.000000</td>\n    </tr>\n    <tr>\n      <th>27</th>\n      <td>230048.0</td>\n      <td>1.0</td>\n      <td>2.0</td>\n      <td>230048.000000</td>\n      <td>107.0</td>\n      <td>1.0</td>\n      <td>2.0</td>\n      <td>107.000000</td>\n    </tr>\n    <tr>\n      <th>28</th>\n      <td>228744.0</td>\n      <td>1.0</td>\n      <td>3.0</td>\n      <td>228744.000000</td>\n      <td>107.0</td>\n      <td>1.0</td>\n      <td>1.0</td>\n      <td>107.000000</td>\n    </tr>\n    <tr>\n      <th>29</th>\n      <td>230045.0</td>\n      <td>1.0</td>\n      <td>2.0</td>\n      <td>230045.000000</td>\n      <td>107.0</td>\n      <td>1.0</td>\n      <td>2.0</td>\n      <td>107.000000</td>\n    </tr>\n    <tr>\n      <th>30</th>\n      <td>80089.0</td>\n      <td>1.0</td>\n      <td>2.0</td>\n      <td>80089.000000</td>\n      <td>37.0</td>\n      <td>1.0</td>\n      <td>1.0</td>\n      <td>37.000000</td>\n    </tr>\n    <tr>\n      <th>31</th>\n      <td>73352.0</td>\n      <td>1.0</td>\n      <td>4.0</td>\n      <td>73352.000000</td>\n      <td>34.0</td>\n      <td>1.0</td>\n      <td>2.0</td>\n      <td>34.000000</td>\n    </tr>\n    <tr>\n      <th>32</th>\n      <td>73586.0</td>\n      <td>1.0</td>\n      <td>2.0</td>\n      <td>73586.000000</td>\n      <td>34.0</td>\n      <td>1.0</td>\n      <td>2.0</td>\n      <td>34.000000</td>\n    </tr>\n    <tr>\n      <th>33</th>\n      <td>73619.0</td>\n      <td>5.0</td>\n      <td>4.0</td>\n      <td>14723.800000</td>\n      <td>34.0</td>\n      <td>2.0</td>\n      <td>2.0</td>\n      <td>17.000000</td>\n    </tr>\n    <tr>\n      <th>34</th>\n      <td>73467.0</td>\n      <td>5.0</td>\n      <td>2.0</td>\n      <td>14693.400000</td>\n      <td>34.0</td>\n      <td>2.0</td>\n      <td>1.0</td>\n      <td>17.000000</td>\n    </tr>\n    <tr>\n      <th>35</th>\n      <td>73610.0</td>\n      <td>3.0</td>\n      <td>2.0</td>\n      <td>24536.666667</td>\n      <td>34.0</td>\n      <td>2.0</td>\n      <td>2.0</td>\n      <td>17.000000</td>\n    </tr>\n    <tr>\n      <th>36</th>\n      <td>73611.0</td>\n      <td>3.0</td>\n      <td>4.0</td>\n      <td>24537.000000</td>\n      <td>34.0</td>\n      <td>2.0</td>\n      <td>2.0</td>\n      <td>17.000000</td>\n    </tr>\n    <tr>\n      <th>37</th>\n      <td>4906.0</td>\n      <td>6.0</td>\n      <td>3.0</td>\n      <td>817.666667</td>\n      <td>4.0</td>\n      <td>2.0</td>\n      <td>2.0</td>\n      <td>2.000000</td>\n    </tr>\n    <tr>\n      <th>38</th>\n      <td>73611.0</td>\n      <td>2.0</td>\n      <td>4.0</td>\n      <td>36805.500000</td>\n      <td>34.0</td>\n      <td>2.0</td>\n      <td>2.0</td>\n      <td>17.000000</td>\n    </tr>\n    <tr>\n      <th>39</th>\n      <td>73428.0</td>\n      <td>2.0</td>\n      <td>22.0</td>\n      <td>36714.000000</td>\n      <td>34.0</td>\n      <td>2.0</td>\n      <td>4.0</td>\n      <td>17.000000</td>\n    </tr>\n  </tbody>\n</table>\n</div>"
     },
     "execution_count": 144,
     "metadata": {},
     "output_type": "execute_result"
    }
   ],
   "source": [
    "edge_df"
   ],
   "metadata": {
    "collapsed": false,
    "ExecuteTime": {
     "end_time": "2023-07-18T14:32:40.389056500Z",
     "start_time": "2023-07-18T14:32:40.345203Z"
    }
   }
  },
  {
   "cell_type": "code",
   "execution_count": 145,
   "outputs": [
    {
     "data": {
      "text/plain": "5     736112\n9     460090\n24    302238\n13    294457\n17    243717\nName: all, dtype: int32"
     },
     "execution_count": 145,
     "metadata": {},
     "output_type": "execute_result"
    }
   ],
   "source": [
    "edge_df['all'].astype(int).nlargest(5)"
   ],
   "metadata": {
    "collapsed": false,
    "ExecuteTime": {
     "end_time": "2023-07-18T14:32:41.075223900Z",
     "start_time": "2023-07-18T14:32:41.049292200Z"
    }
   }
  },
  {
   "cell_type": "code",
   "execution_count": 146,
   "outputs": [
    {
     "data": {
      "text/plain": "3     107\n27    107\n28    107\n29    107\n5      85\nName: res_, dtype: int32"
     },
     "execution_count": 146,
     "metadata": {},
     "output_type": "execute_result"
    }
   ],
   "source": [
    "edge_df['res_'].astype(int).nlargest(5)"
   ],
   "metadata": {
    "collapsed": false,
    "ExecuteTime": {
     "end_time": "2023-07-18T14:32:41.460194400Z",
     "start_time": "2023-07-18T14:32:41.434261900Z"
    }
   }
  },
  {
   "cell_type": "code",
   "execution_count": 110,
   "outputs": [
    {
     "data": {
      "text/plain": "5     588889\n9     276054\n27    230048\n29    230045\n28    228744\nName: res, dtype: int32"
     },
     "execution_count": 110,
     "metadata": {},
     "output_type": "execute_result"
    }
   ],
   "source": [
    "edge_df['res'].astype(int).nlargest(5)"
   ],
   "metadata": {
    "collapsed": false,
    "ExecuteTime": {
     "end_time": "2023-07-18T14:01:40.261713500Z",
     "start_time": "2023-07-18T14:01:40.242917Z"
    }
   }
  },
  {
   "cell_type": "code",
   "execution_count": 50,
   "outputs": [],
   "source": [
    "edge_df[0] = edge_df[0] / edge_df[0].sum()\n",
    "edge_df[1] = edge_df[1] / edge_df[1].sum()"
   ],
   "metadata": {
    "collapsed": false,
    "ExecuteTime": {
     "end_time": "2023-07-18T13:18:03.375697900Z",
     "start_time": "2023-07-18T13:18:03.360739600Z"
    }
   }
  },
  {
   "cell_type": "code",
   "execution_count": 51,
   "outputs": [
    {
     "data": {
      "text/plain": "                0          1\ncount   16.000000  16.000000\nunique  14.000000  13.000000\ntop      0.027262   0.051546\nfreq     3.000000   2.000000",
      "text/html": "<div>\n<style scoped>\n    .dataframe tbody tr th:only-of-type {\n        vertical-align: middle;\n    }\n\n    .dataframe tbody tr th {\n        vertical-align: top;\n    }\n\n    .dataframe thead th {\n        text-align: right;\n    }\n</style>\n<table border=\"1\" class=\"dataframe\">\n  <thead>\n    <tr style=\"text-align: right;\">\n      <th></th>\n      <th>0</th>\n      <th>1</th>\n    </tr>\n  </thead>\n  <tbody>\n    <tr>\n      <th>count</th>\n      <td>16.000000</td>\n      <td>16.000000</td>\n    </tr>\n    <tr>\n      <th>unique</th>\n      <td>14.000000</td>\n      <td>13.000000</td>\n    </tr>\n    <tr>\n      <th>top</th>\n      <td>0.027262</td>\n      <td>0.051546</td>\n    </tr>\n    <tr>\n      <th>freq</th>\n      <td>3.000000</td>\n      <td>2.000000</td>\n    </tr>\n  </tbody>\n</table>\n</div>"
     },
     "execution_count": 51,
     "metadata": {},
     "output_type": "execute_result"
    }
   ],
   "source": [
    "edge_df.describe()"
   ],
   "metadata": {
    "collapsed": false,
    "ExecuteTime": {
     "end_time": "2023-07-18T13:18:03.701826500Z",
     "start_time": "2023-07-18T13:18:03.685869400Z"
    }
   }
  },
  {
   "cell_type": "code",
   "execution_count": 14,
   "outputs": [
    {
     "data": {
      "text/plain": "0.011499586812322415"
     },
     "execution_count": 14,
     "metadata": {},
     "output_type": "execute_result"
    }
   ],
   "source": [
    "edge_df[0].std()\n",
    "edge_df[1].std()"
   ],
   "metadata": {
    "collapsed": false,
    "ExecuteTime": {
     "end_time": "2023-07-18T09:33:31.793498200Z",
     "start_time": "2023-07-18T09:33:31.769565600Z"
    }
   }
  },
  {
   "cell_type": "code",
   "execution_count": 24,
   "outputs": [
    {
     "name": "stdout",
     "output_type": "stream",
     "text": [
      "{'f': 122}\n",
      "{'f': 1}\n",
      "{'f': 12}\n",
      "{'f': 1}\n"
     ]
    }
   ],
   "source": [
    "print(apache2_scg.edges['(2, 0)', '(3, 0)'])\n",
    "print(one_scg.edges['(2, 0)', '(3, 0)'])\n",
    "print(apache2_scg.edges['(3, 0)', '(3, 466)'])\n",
    "print(one_scg.edges['(3, 0)', '(3, 466)'])"
   ],
   "metadata": {
    "collapsed": false,
    "ExecuteTime": {
     "end_time": "2023-07-15T03:52:31.432378800Z",
     "start_time": "2023-07-15T03:52:31.417420Z"
    }
   }
  },
  {
   "cell_type": "code",
   "execution_count": 22,
   "outputs": [
    {
     "name": "stdout",
     "output_type": "stream",
     "text": [
      "0\n",
      "0\n"
     ]
    }
   ],
   "source": [
    "# 聚集系数\n",
    "print(nx.clustering(apache2_scg,'(2, 0)'))\n",
    "print(nx.clustering(one_scg,'(2, 0)'))"
   ],
   "metadata": {
    "collapsed": false,
    "ExecuteTime": {
     "end_time": "2023-07-15T03:50:14.998826300Z",
     "start_time": "2023-07-15T03:50:14.949956200Z"
    }
   }
  },
  {
   "cell_type": "code",
   "execution_count": 23,
   "outputs": [
    {
     "name": "stdout",
     "output_type": "stream",
     "text": [
      "Out Degree\n",
      "4\n",
      "1\n",
      "In Degree\n",
      "2\n",
      "1\n"
     ]
    }
   ],
   "source": [
    "print('2,0')\n",
    "print('Out Degree')\n",
    "print(apache2_scg.out_degree('(2, 0)'))\n",
    "print(one_scg.out_degree('(2, 0)'))\n",
    "\n",
    "print('In Degree')\n",
    "print(apache2_scg.in_degree('(2, 0)'))\n",
    "print(one_scg.in_degree('(2, 0)'))"
   ],
   "metadata": {
    "collapsed": false,
    "ExecuteTime": {
     "end_time": "2023-07-15T03:52:00.347133800Z",
     "start_time": "2023-07-15T03:52:00.299289700Z"
    }
   }
  },
  {
   "cell_type": "code",
   "execution_count": 25,
   "outputs": [
    {
     "name": "stdout",
     "output_type": "stream",
     "text": [
      "3,0\n",
      "Out Degree\n",
      "48\n",
      "3\n",
      "In Degree\n",
      "45\n",
      "2\n"
     ]
    }
   ],
   "source": [
    "print('3,0')\n",
    "print('Out Degree')\n",
    "print(apache2_scg.out_degree('(3, 0)'))\n",
    "print(one_scg.out_degree('(3, 0)'))\n",
    "\n",
    "print('In Degree')\n",
    "print(apache2_scg.in_degree('(3, 0)'))\n",
    "print(one_scg.in_degree('(3, 0)'))"
   ],
   "metadata": {
    "collapsed": false,
    "ExecuteTime": {
     "end_time": "2023-07-15T03:53:04.018109300Z",
     "start_time": "2023-07-15T03:53:04.000787900Z"
    }
   }
  },
  {
   "cell_type": "code",
   "execution_count": 2,
   "outputs": [],
   "source": [
    "scg = nx.read_graphml('K:/hids/GP_DATA_DIR/EPS_CWE-434/SCG/gs.xml')"
   ],
   "metadata": {
    "collapsed": false,
    "ExecuteTime": {
     "end_time": "2023-11-16T02:28:05.419499100Z",
     "start_time": "2023-11-16T02:28:05.308795800Z"
    }
   }
  },
  {
   "cell_type": "code",
   "execution_count": 3,
   "outputs": [
    {
     "data": {
      "text/plain": "OutEdgeView([('(7.0, 0.0)', '(11.0, 0.0)'), ('(11.0, 0.0)', '(13.0, 0.0)'), ('(13.0, 0.0)', '(14.0, -1.0)'), ('(13.0, 0.0)', '(13.0, 0.0)'), ('(13.0, 0.0)', '(42.0, 0.0)'), ('(13.0, 0.0)', '(17.0, 0.0)'), ('(13.0, 0.0)', '(12.0, 0.0)'), ('(13.0, 0.0)', '(3.0, 0.0)'), ('(13.0, 0.0)', '(4.0, -1.0)'), ('(13.0, 0.0)', '(26.0, 0.0)'), ('(14.0, -1.0)', '(14.0, -1.0)'), ('(14.0, -1.0)', '(4.0, 0.0)'), ('(14.0, -1.0)', '(12.0, 0.0)'), ('(4.0, 0.0)', '(16.0, 0.0)'), ('(4.0, 0.0)', '(12.0, 0.0)'), ('(4.0, 0.0)', '(40.0, 0.0)'), ('(4.0, 0.0)', '(13.0, 0.0)'), ('(16.0, 0.0)', '(17.0, 0.0)'), ('(16.0, 0.0)', '(12.0, 0.0)'), ('(16.0, 0.0)', '(44.0, 0.0)'), ('(16.0, 0.0)', '(25.0, 0.0)'), ('(16.0, 0.0)', '(27.0, 0.0)'), ('(16.0, 0.0)', '(2.0, 0.0)'), ('(16.0, 0.0)', '(23.0, 0.0)'), ('(17.0, 0.0)', '(3.0, 0.0)'), ('(17.0, 0.0)', '(17.0, 0.0)'), ('(17.0, 0.0)', '(18.0, 0.0)'), ('(17.0, 0.0)', '(14.0, -1.0)'), ('(17.0, 0.0)', '(22.0, 0.0)'), ('(17.0, 0.0)', '(4.0, 0.0)'), ('(17.0, 0.0)', '(12.0, 0.0)'), ('(17.0, 0.0)', '(13.0, 0.0)'), ('(17.0, 0.0)', '(26.0, 0.0)'), ('(3.0, 0.0)', '(14.0, -1.0)'), ('(3.0, 0.0)', '(17.0, 0.0)'), ('(3.0, 0.0)', '(43.0, 0.0)'), ('(3.0, 0.0)', '(4.0, 0.0)'), ('(3.0, 0.0)', '(12.0, 0.0)'), ('(3.0, 0.0)', '(3.0, 0.0)'), ('(3.0, 0.0)', '(4.0, -1.0)'), ('(3.0, 0.0)', '(13.0, 0.0)'), ('(3.0, 0.0)', '(23.0, 0.0)'), ('(3.0, 0.0)', '(26.0, 0.0)'), ('(3.0, 0.0)', '(16.0, 0.0)'), ('(3.0, 0.0)', '(11.0, 0.0)'), ('(12.0, 0.0)', '(16.0, 0.0)'), ('(12.0, 0.0)', '(12.0, 0.0)'), ('(12.0, 0.0)', '(3.0, 0.0)'), ('(12.0, 0.0)', '(4.0, -1.0)'), ('(12.0, 0.0)', '(13.0, 0.0)'), ('(12.0, 0.0)', '(4.0, 0.0)'), ('(12.0, 0.0)', '(17.0, 0.0)'), ('(12.0, 0.0)', '(23.0, 0.0)'), ('(12.0, 0.0)', '(25.0, 0.0)'), ('(12.0, 0.0)', '(45.0, 0.0)'), ('(12.0, 0.0)', '(26.0, 0.0)'), ('(18.0, 0.0)', '(17.0, 0.0)'), ('(18.0, 0.0)', '(18.0, 0.0)'), ('(18.0, 0.0)', '(26.0, 0.0)'), ('(18.0, 0.0)', '(3.0, 0.0)'), ('(18.0, 0.0)', '(12.0, 0.0)'), ('(18.0, 0.0)', '(4.0, -1.0)'), ('(22.0, 0.0)', '(18.0, 0.0)'), ('(26.0, 0.0)', '(28.0, 0.0)'), ('(26.0, 0.0)', '(26.0, 0.0)'), ('(26.0, 0.0)', '(16.0, 0.0)'), ('(26.0, 0.0)', '(13.0, 0.0)'), ('(26.0, 0.0)', '(3.0, 0.0)'), ('(26.0, 0.0)', '(12.0, 0.0)'), ('(28.0, 0.0)', '(8.0, 0.0)'), ('(28.0, 0.0)', '(12.0, 0.0)'), ('(8.0, 0.0)', '(9.0, 0.0)'), ('(9.0, 0.0)', '(9.0, 0.0)'), ('(9.0, 0.0)', '(29.0, 0.0)'), ('(29.0, 0.0)', '(30.0, 0.0)'), ('(30.0, 0.0)', '(13.0, 0.0)'), ('(42.0, 0.0)', '(42.0, 0.0)'), ('(42.0, 0.0)', '(4.0, 0.0)'), ('(43.0, 0.0)', '(4.0, 0.0)'), ('(40.0, 0.0)', '(40.0, 0.0)'), ('(40.0, 0.0)', '(16.0, 0.0)'), ('(44.0, 0.0)', '(12.0, 0.0)'), ('(4.0, -1.0)', '(13.0, 0.0)'), ('(4.0, -1.0)', '(4.0, -1.0)'), ('(4.0, -1.0)', '(23.0, -1.0)'), ('(4.0, -1.0)', '(12.0, 0.0)'), ('(4.0, -1.0)', '(4.0, 0.0)'), ('(4.0, -1.0)', '(23.0, 0.0)'), ('(4.0, -1.0)', '(17.0, 0.0)'), ('(4.0, -1.0)', '(16.0, 0.0)'), ('(25.0, 0.0)', '(16.0, 0.0)'), ('(25.0, 0.0)', '(12.0, 0.0)'), ('(25.0, 0.0)', '(3.0, 0.0)'), ('(25.0, 0.0)', '(25.0, 0.0)'), ('(25.0, 0.0)', '(17.0, 0.0)'), ('(25.0, 0.0)', '(13.0, 0.0)'), ('(23.0, 0.0)', '(12.0, 0.0)'), ('(23.0, 0.0)', '(27.0, 0.0)'), ('(23.0, 0.0)', '(4.0, 0.0)'), ('(23.0, 0.0)', '(23.0, 0.0)'), ('(23.0, -1.0)', '(4.0, -1.0)'), ('(23.0, -1.0)', '(3.0, 0.0)'), ('(27.0, 0.0)', '(23.0, 0.0)'), ('(27.0, 0.0)', '(3.0, 0.0)'), ('(45.0, 0.0)', '(17.0, 0.0)'), ('(2.0, 0.0)', '(3.0, 0.0)')])"
     },
     "execution_count": 3,
     "metadata": {},
     "output_type": "execute_result"
    }
   ],
   "source": [
    "scg.edges"
   ],
   "metadata": {
    "collapsed": false,
    "ExecuteTime": {
     "end_time": "2023-11-16T02:28:05.775547300Z",
     "start_time": "2023-11-16T02:28:05.734656400Z"
    }
   }
  },
  {
   "cell_type": "code",
   "execution_count": 4,
   "outputs": [
    {
     "name": "stdout",
     "output_type": "stream",
     "text": [
      "(7.0, 0.0)\n",
      "(3.0, 0.0)\n"
     ]
    }
   ],
   "source": [
    "for node in list(scg.predecessors('(11.0, 0.0)')):\n",
    "    print(node)"
   ],
   "metadata": {
    "collapsed": false,
    "ExecuteTime": {
     "end_time": "2023-11-16T02:28:06.933599100Z",
     "start_time": "2023-11-16T02:28:06.917642200Z"
    }
   }
  },
  {
   "cell_type": "code",
   "execution_count": 18,
   "outputs": [
    {
     "name": "stdout",
     "output_type": "stream",
     "text": [
      "sum_out 43073441\n",
      "(7.0, 0.0) Weight 0\n",
      "(11.0, 0.0) Weight 0.0004955954180674815\n",
      "(13.0, 0.0) Weight 0.13109345037003195\n",
      "(14.0, -1.0) Weight 0.02285190078034397\n",
      "(4.0, 0.0) Weight 0.05853946054600096\n",
      "(16.0, 0.0) Weight 0.09422390934590064\n",
      "(17.0, 0.0) Weight 0.06406843604624018\n",
      "(3.0, 0.0) Weight 0.058528688246662255\n",
      "(12.0, 0.0) Weight 0.26725923754268904\n",
      "(18.0, 0.0) Weight 0.04421095588810747\n",
      "(22.0, 0.0) Weight 0.0004967330100235085\n",
      "(26.0, 0.0) Weight 0.004935640038602905\n",
      "(28.0, 0.0) Weight 0.0004966401453740368\n",
      "(8.0, 0.0) Weight 0.0004966169292116689\n",
      "(9.0, 0.0) Weight 0.0009932338584233379\n",
      "(29.0, 0.0) Weight 0.0004966169292116689\n",
      "(30.0, 0.0) Weight 0.0004966169292116689\n",
      "(42.0, 0.0) Weight 0.0009932338584233379\n",
      "(43.0, 0.0) Weight 0.0004966169292116689\n",
      "(40.0, 0.0) Weight 0.0009932338584233379\n",
      "(44.0, 0.0) Weight 0.0004966169292116689\n",
      "(4.0, -1.0) Weight 0.15862728496662248\n",
      "(25.0, 0.0) Weight 0.07632188011169111\n",
      "(23.0, 0.0) Weight 0.00445952298076209\n",
      "(23.0, -1.0) Weight 0.005948398689577645\n",
      "(27.0, 0.0) Weight 0.0009912372684596988\n",
      "(45.0, 0.0) Weight 0.0004949685816835484\n",
      "(2.0, 0.0) Weight 0.0004932738018306919\n"
     ]
    }
   ],
   "source": [
    "sum_out = 0\n",
    "for source_node in scg.nodes:\n",
    "    # sum_out = 0\n",
    "    for s,t,data in scg.out_edges(nbunch=source_node,data=True):\n",
    "        f=data[\"f\"]\n",
    "        sum_out += f\n",
    "print(f'sum_out {sum_out}')\n",
    "\n",
    "for source_node in scg.nodes:\n",
    "    for s,t,data in scg.out_edges(nbunch=source_node,data=True):\n",
    "        f=data[\"f\"]\n",
    "        scg.add_edge(s,t,f=f,p=f/sum_out)\n",
    "\n",
    "for source_node in scg.nodes:\n",
    "    node_weight = 0\n",
    "    for node in list(scg.predecessors(source_node)):\n",
    "        f = scg[node][source_node]['f']\n",
    "        p = scg[node][source_node]['p']\n",
    "        node_weight += p\n",
    "    scg.nodes[source_node]['Weight'] = node_weight\n",
    "    print(f'{source_node} Weight {node_weight}')"
   ],
   "metadata": {
    "collapsed": false,
    "ExecuteTime": {
     "end_time": "2023-11-16T06:23:43.227151200Z",
     "start_time": "2023-11-16T06:23:43.192245600Z"
    }
   }
  },
  {
   "cell_type": "code",
   "execution_count": 20,
   "outputs": [
    {
     "name": "stdout",
     "output_type": "stream",
     "text": [
      "(7.0, 0.0) Weight 0\n",
      "(11.0, 0.0) Weight 0.0004955954180674815\n",
      "(13.0, 0.0) Weight 0.13109345037003195\n",
      "(14.0, -1.0) Weight 0.02285190078034397\n",
      "(4.0, 0.0) Weight 0.05853946054600096\n",
      "(16.0, 0.0) Weight 0.09422390934590064\n",
      "(17.0, 0.0) Weight 0.06406843604624018\n",
      "(3.0, 0.0) Weight 0.058528688246662255\n",
      "(12.0, 0.0) Weight 0.26725923754268904\n",
      "(18.0, 0.0) Weight 0.04421095588810747\n",
      "(22.0, 0.0) Weight 0.0004967330100235085\n",
      "(26.0, 0.0) Weight 0.004935640038602905\n",
      "(28.0, 0.0) Weight 0.0004966401453740368\n",
      "(8.0, 0.0) Weight 0.0004966169292116689\n",
      "(9.0, 0.0) Weight 0.0009932338584233379\n",
      "(29.0, 0.0) Weight 0.0004966169292116689\n",
      "(30.0, 0.0) Weight 0.0004966169292116689\n",
      "(42.0, 0.0) Weight 0.0009932338584233379\n",
      "(43.0, 0.0) Weight 0.0004966169292116689\n",
      "(40.0, 0.0) Weight 0.0009932338584233379\n",
      "(44.0, 0.0) Weight 0.0004966169292116689\n",
      "(4.0, -1.0) Weight 0.15862728496662248\n",
      "(25.0, 0.0) Weight 0.07632188011169111\n",
      "(23.0, 0.0) Weight 0.00445952298076209\n",
      "(23.0, -1.0) Weight 0.005948398689577645\n",
      "(27.0, 0.0) Weight 0.0009912372684596988\n",
      "(45.0, 0.0) Weight 0.0004949685816835484\n",
      "(2.0, 0.0) Weight 0.0004932738018306919\n"
     ]
    }
   ],
   "source": [
    "for source_node in scg.nodes:\n",
    "    w = scg.nodes[source_node]['Weight']\n",
    "    print(f'{source_node} Weight {w}')"
   ],
   "metadata": {
    "collapsed": false,
    "ExecuteTime": {
     "end_time": "2023-11-16T06:24:51.826020400Z",
     "start_time": "2023-11-16T06:24:51.810063Z"
    }
   }
  },
  {
   "cell_type": "code",
   "execution_count": null,
   "outputs": [],
   "source": [],
   "metadata": {
    "collapsed": false
   }
  }
 ],
 "metadata": {
  "kernelspec": {
   "name": "ids",
   "language": "python",
   "display_name": "ids"
  },
  "language_info": {
   "codemirror_mode": {
    "name": "ipython",
    "version": 2
   },
   "file_extension": ".py",
   "mimetype": "text/x-python",
   "name": "python",
   "nbconvert_exporter": "python",
   "pygments_lexer": "ipython2",
   "version": "2.7.6"
  }
 },
 "nbformat": 4,
 "nbformat_minor": 0
}
