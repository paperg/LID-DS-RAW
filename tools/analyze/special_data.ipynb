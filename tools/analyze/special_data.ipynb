{
 "cells": [
  {
   "cell_type": "code",
   "execution_count": 1,
   "metadata": {
    "collapsed": true,
    "ExecuteTime": {
     "end_time": "2023-08-21T13:35:46.941904400Z",
     "start_time": "2023-08-21T13:35:46.248761600Z"
    }
   },
   "outputs": [],
   "source": [
    "import numpy as np\n",
    "import pandas as pd\n",
    "import json\n",
    "import os\n",
    "import matplotlib.pyplot as plt\n",
    "import glob\n",
    "import pickle\n",
    "import zipfile"
   ]
  },
  {
   "cell_type": "code",
   "execution_count": 4,
   "outputs": [],
   "source": [
    "\n",
    "arr = np.load('L:\\\\hids\\\\dataSet\\\\GP_DATA_DIR\\\\CVE-2017-7529\\\\test\\\\normal_and_attack\\\\damaged_curran_2372\\\\array.npy', allow_pickle=True)\n",
    "\n",
    "with open('L:\\\\hids\\\\dataSet\\\\GP_DATA_DIR\\\\CVE-2017-7529\\\\test\\\\normal_and_attack\\\\damaged_curran_2372\\\\df_all.pkl', 'rb') as f:\n",
    "    df_all =  pickle.load(f)\n"
   ],
   "metadata": {
    "collapsed": false,
    "ExecuteTime": {
     "end_time": "2023-08-21T13:07:39.654761400Z",
     "start_time": "2023-08-21T13:07:39.645785200Z"
    }
   }
  },
  {
   "cell_type": "code",
   "execution_count": 5,
   "outputs": [
    {
     "data": {
      "text/plain": "array([[0, '1631175132729381173', 0.9984871406959153,\n        0.012102874432677761, 0.0, 0.0, 0.0, 0.0, 0.0, 0.0, 0.0, 0.0,\n        0.0, 0.0015128593040847202, 0.0, 0.0015128593040847202, 0.0, 0.0,\n        0.0, 0.0, 0.0, 0.0, 0.0, 0.0, 0.0, 0.0, 0.0, 0.0, 0.0, 0.0, 0.0,\n        0.0, 0.0, 0.0, 0.0015128593040847202, 0.0, 0.0015128593040847202,\n        0.0015128593040847202, 0.0015128593040847202, 0.0, 0.0, 1, 1, 1,\n        1, 0, 0],\n       [1, '1631175132729381173', 0.9655172413793104,\n        0.034482758620689655, 0.0, 0.0, 0.0, 0.0, 0.0, 0.0, 0.0, 0.0,\n        0.0, 0.0, 0.0, 0.0, 0.0, 0.0, 0.0, 0.0, 0.0, 0.0, 0.0, 0.0, 0.0,\n        0.0, 0.0, 0.0, 0.0, 0.0, 0.0, 0.0, 0.0, 0.0, 0.0, 0.0,\n        0.034482758620689655, 0.0, 0.034482758620689655, 0.0, 0.0, 1, 1,\n        1, 1, 0, 0],\n       [2, '1631175133875330042', 0.9913793103448276,\n        0.02586206896551724, 0.008620689655172414, 0.0, 0.0, 0.0, 0.0,\n        0.0, 0.0, 0.008620689655172414, 0.0, 0.0, 0.0, 0.0, 0.0, 0.0,\n        0.0, 0.0, 0.0, 0.0, 0.008620689655172414, 0.0, 0.0, 0.0, 0.0,\n        0.0, 0.0, 0.0, 0.0, 0.0, 0.0, 0.0, 0.0, 0.0, 0.0, 0.0, 0.0, 0.0,\n        0.0, 1, 1, 1, 1, 0, 0],\n       [3, '1631175133875330042', 0.9913793103448276,\n        0.02586206896551724, 0.008620689655172414, 0.0, 0.0, 0.0, 0.0,\n        0.0, 0.0, 0.008620689655172414, 0.0, 0.0, 0.0, 0.0, 0.0, 0.0,\n        0.0, 0.0, 0.0, 0.0, 0.008620689655172414, 0.0, 0.0, 0.0, 0.0,\n        0.0, 0.0, 0.0, 0.0, 0.0, 0.0, 0.0, 0.0, 0.0, 0.0, 0.0, 0.0, 0.0,\n        0.0, 1, 1, 1, 1, 0, 0],\n       [4, '1631175133875330042', 0.9913793103448276,\n        0.02586206896551724, 0.008620689655172414, 0.0, 0.0, 0.0, 0.0,\n        0.0, 0.0, 0.008620689655172414, 0.0, 0.0, 0.0, 0.0, 0.0, 0.0,\n        0.0, 0.0, 0.0, 0.0, 0.008620689655172414, 0.0, 0.0, 0.0, 0.0,\n        0.0, 0.0, 0.0, 0.0, 0.0, 0.0, 0.0, 0.0, 0.0, 0.0, 0.0, 0.0, 0.0,\n        0.0, 1, 1, 1, 1, 0, 0],\n       [5, '1631175133875330042', 0.9913793103448276,\n        0.02586206896551724, 0.008620689655172414, 0.0, 0.0, 0.0, 0.0,\n        0.0, 0.0, 0.008620689655172414, 0.0, 0.0, 0.0, 0.0, 0.0, 0.0,\n        0.0, 0.0, 0.0, 0.0, 0.008620689655172414, 0.0, 0.0, 0.0, 0.0,\n        0.0, 0.0, 0.0, 0.0, 0.0, 0.0, 0.0, 0.0, 0.0, 0.0, 0.0, 0.0, 0.0,\n        0.0, 1, 1, 1, 1, 0, 0],\n       [6, '1631175133875330042', 0.9913793103448276,\n        0.02586206896551724, 0.008620689655172414, 0.0, 0.0, 0.0, 0.0,\n        0.0, 0.0, 0.008620689655172414, 0.0, 0.0, 0.0, 0.0, 0.0, 0.0,\n        0.0, 0.0, 0.0, 0.0, 0.008620689655172414, 0.0, 0.0, 0.0, 0.0,\n        0.0, 0.0, 0.0, 0.0, 0.0, 0.0, 0.0, 0.0, 0.0, 0.0, 0.0, 0.0, 0.0,\n        0.0, 1, 1, 1, 1, 0, 0]], dtype=object)"
     },
     "execution_count": 5,
     "metadata": {},
     "output_type": "execute_result"
    }
   ],
   "source": [
    "arr\n",
    "1631175142.373634"
   ],
   "metadata": {
    "collapsed": false,
    "ExecuteTime": {
     "end_time": "2023-08-21T13:07:44.134349600Z",
     "start_time": "2023-08-21T13:07:44.129176600Z"
    }
   }
  },
  {
   "cell_type": "code",
   "execution_count": 11,
   "outputs": [
    {
     "data": {
      "text/plain": "array([['1631175132729381173', 0.9984871406959153, 0.012102874432677761,\n        0.0],\n       ['1631175132729381173', 0.9655172413793104, 0.034482758620689655,\n        0.0],\n       ['1631175133875330042', 0.9913793103448276, 0.02586206896551724,\n        0.008620689655172414],\n       ['1631175133875330042', 0.9913793103448276, 0.02586206896551724,\n        0.008620689655172414],\n       ['1631175133875330042', 0.9913793103448276, 0.02586206896551724,\n        0.008620689655172414],\n       ['1631175133875330042', 0.9913793103448276, 0.02586206896551724,\n        0.008620689655172414],\n       ['1631175133875330042', 0.9913793103448276, 0.02586206896551724,\n        0.008620689655172414]], dtype=object)"
     },
     "execution_count": 11,
     "metadata": {},
     "output_type": "execute_result"
    }
   ],
   "source": [
    "arr[:, 1:5]"
   ],
   "metadata": {
    "collapsed": false,
    "ExecuteTime": {
     "end_time": "2023-08-21T13:15:13.726524300Z",
     "start_time": "2023-08-21T13:15:13.710567800Z"
    }
   }
  },
  {
   "cell_type": "code",
   "execution_count": 16,
   "outputs": [
    {
     "data": {
      "text/plain": "{0:                      time  UserID      PID ProcessName      TID     syscall  \\\n 0     1631175132171356201   65534  2398371       nginx  2398371  epoll_wait   \n 2     1631175132171372610   65534  2398371       nginx  2398371      accept   \n 4     1631175132171383704   65534  2398371       nginx  2398371   epoll_ctl   \n 6     1631175132171524560   65534  2398371       nginx  2398371  epoll_wait   \n 8     1631175132171531330   65534  2398371       nginx  2398371    recvfrom   \n ...                   ...     ...      ...         ...      ...         ...   \n 1340  1631175132729308147   65534  2398371       nginx  2398371        open   \n 1342  1631175132729322167   65534  2398371       nginx  2398371       write   \n 1344  1631175132729362368   65534  2398371       nginx  2398371      writev   \n 1346  1631175132729376167   65534  2398371       nginx  2398371       write   \n 1348  1631175132729381173   65534  2398371       nginx  2398371    recvfrom   \n \n      DIR                                         RET  \\\n 0      <                                       res=1   \n 2      <  fd=14(<4t>172.18.0.4:55116->172.18.0.6:80)   \n 4      <                                         NaN   \n 6      <                                       res=1   \n 8      <                                     res=425   \n ...   ..                                         ...   \n 1340   <                               fd=-2(ENOENT)   \n 1342   <                                     res=254   \n 1344   <                                     res=724   \n 1346   <                                     res=215   \n 1348   <                             res=-11(EAGAIN)   \n \n                                                    ARGS  syscallInt   Ret  \\\n 0                                                   NaN         1.0   1.0   \n 2                 tuple=172.18.0.4:55116->172.18.0.6:80         2.0   0.0   \n 4                                                   NaN         3.0   0.0   \n 6                                                   NaN         1.0   1.0   \n 8     data=R0VUIC8gSFRUUC8xLjENCkhvc3Q6IGNhMDI3MGJhY...         4.0   1.0   \n ...                                                 ...         ...   ...   \n 1340                   name=/etc/nginx/html/favicon.ico         6.0   0.0   \n 1342  data=MjAyMS8wOS8wOSAwODoxMjoxMiBbZXJyb3JdIDEwI...        10.0   1.0   \n 1344  data=SFRUUC8xLjEgNDA0IE5vdCBGb3VuZA0KU2VydmVyO...         8.0   1.0   \n 1346  data=MTcyLjE4LjAuNCAtIC0gWzA5L1NlcC8yMDIxOjA4O...        10.0   1.0   \n 1348                                              data=         4.0 -11.0   \n \n       RetReal           Params  \n 0         1.0              NaN  \n 2        14.0              NaN  \n 4         0.0              NaN  \n 6         1.0              NaN  \n 8       425.0              NaN  \n ...       ...              ...  \n 1340     -2.0  /etc/nginx/html  \n 1342    254.0              NaN  \n 1344    724.0              NaN  \n 1346    215.0              NaN  \n 1348    -11.0              NaN  \n \n [675 rows x 13 columns],\n 1:                      time  UserID      PID ProcessName      TID     syscall  \\\n 1286  1631175132439273832   65534  2398371       nginx  2398371  epoll_wait   \n 1288  1631175132439282316   65534  2398371       nginx  2398371    recvfrom   \n 1290  1631175132439316145   65534  2398371       nginx  2398371        open   \n 1292  1631175132439320773   65534  2398371       nginx  2398371       fstat   \n 1294  1631175132439357248   65534  2398371       nginx  2398371      writev   \n 1296  1631175132439514961   65534  2398371       nginx  2398371    sendfile   \n 1298  1631175132439529939   65534  2398371       nginx  2398371       write   \n 1300  1631175132439531585   65534  2398371       nginx  2398371       close   \n 1302  1631175132439537742   65534  2398371       nginx  2398371    recvfrom   \n 1304  1631175132440915966   65534  2398371       nginx  2398371  epoll_wait   \n 1306  1631175132440921304   65534  2398371       nginx  2398371    recvfrom   \n 1308  1631175132440943811   65534  2398371       nginx  2398371        open   \n 1310  1631175132440947631   65534  2398371       nginx  2398371       fstat   \n 1312  1631175132440981950   65534  2398371       nginx  2398371      writev   \n 1314  1631175132441114528   65534  2398371       nginx  2398371    sendfile   \n 1316  1631175132441125601   65534  2398371       nginx  2398371       write   \n 1318  1631175132441127094   65534  2398371       nginx  2398371       close   \n 1320  1631175132441131909   65534  2398371       nginx  2398371    recvfrom   \n 1322  1631175132616161528   65534  2398371       nginx  2398371  epoll_wait   \n 1324  1631175132616169954   65534  2398371       nginx  2398371    recvfrom   \n 1326  1631175132616194536   65534  2398371       nginx  2398371        open   \n 1328  1631175132616207883   65534  2398371       nginx  2398371       write   \n 1330  1631175132616248517   65534  2398371       nginx  2398371      writev   \n 1332  1631175132616260019   65534  2398371       nginx  2398371       write   \n 1334  1631175132616264186   65534  2398371       nginx  2398371    recvfrom   \n 1336  1631175132729266458   65534  2398371       nginx  2398371  epoll_wait   \n 1338  1631175132729276381   65534  2398371       nginx  2398371    recvfrom   \n 1340  1631175132729308147   65534  2398371       nginx  2398371        open   \n 1342  1631175132729322167   65534  2398371       nginx  2398371       write   \n 1344  1631175132729362368   65534  2398371       nginx  2398371      writev   \n 1346  1631175132729376167   65534  2398371       nginx  2398371       write   \n 1348  1631175132729381173   65534  2398371       nginx  2398371    recvfrom   \n \n      DIR                                                RET  \\\n 1286   <                                              res=1   \n 1288   <                                            res=376   \n 1290   <  fd=26(<f>/etc/nginx/html/fonts/icomoon/icomoon...   \n 1292   <                                              res=0   \n 1294   <                                            res=257   \n 1296   <                                         res=193276   \n 1298   <                                            res=252   \n 1300   <                                              res=0   \n 1302   <                                    res=-11(EAGAIN)   \n 1304   <                                              res=1   \n 1306   <                                            res=376   \n 1308   <  fd=26(<f>/etc/nginx/html/fonts/icomoon/icomoon...   \n 1310   <                                              res=0   \n 1312   <                                            res=257   \n 1314   <                                         res=193276   \n 1316   <                                            res=252   \n 1318   <                                              res=0   \n 1320   <                                    res=-11(EAGAIN)   \n 1322   <                                              res=1   \n 1324   <                                            res=370   \n 1326   <                                      fd=-2(ENOENT)   \n 1328   <                                            res=253   \n 1330   <                                            res=724   \n 1332   <                                            res=215   \n 1334   <                                    res=-11(EAGAIN)   \n 1336   <                                              res=1   \n 1338   <                                            res=370   \n 1340   <                                      fd=-2(ENOENT)   \n 1342   <                                            res=254   \n 1344   <                                            res=724   \n 1346   <                                            res=215   \n 1348   <                                    res=-11(EAGAIN)   \n \n                                                    ARGS  syscallInt   Ret  \\\n 1286                                                NaN         1.0   1.0   \n 1288  data=R0VUIC9mb250cy9pY29tb29uL2ljb21vb24udHRmP...         4.0   1.0   \n 1290     name=/etc/nginx/html/fonts/icomoon/icomoon.ttf         6.0   0.0   \n 1292                                                NaN         7.0   0.0   \n 1294  data=SFRUUC8xLjEgMjAwIE9LDQpTZXJ2ZXI6IG5naW54L...         8.0   1.0   \n 1296                                      offset=193276         9.0   1.0   \n 1298  data=MTcyLjE4LjAuMyAtIC0gWzA5L1NlcC8yMDIxOjA4O...        10.0   1.0   \n 1300                                                NaN        11.0   0.0   \n 1302                                              data=         4.0 -11.0   \n 1304                                                NaN         1.0   1.0   \n 1306  data=R0VUIC9mb250cy9pY29tb29uL2ljb21vb24udHRmP...         4.0   1.0   \n 1308     name=/etc/nginx/html/fonts/icomoon/icomoon.ttf         6.0   0.0   \n 1310                                                NaN         7.0   0.0   \n 1312  data=SFRUUC8xLjEgMjAwIE9LDQpTZXJ2ZXI6IG5naW54L...         8.0   1.0   \n 1314                                      offset=193276         9.0   1.0   \n 1316  data=MTcyLjE4LjAuNCAtIC0gWzA5L1NlcC8yMDIxOjA4O...        10.0   1.0   \n 1318                                                NaN        11.0   0.0   \n 1320                                              data=         4.0 -11.0   \n 1322                                                NaN         1.0   1.0   \n 1324  data=R0VUIC9mYXZpY29uLmljbyBIVFRQLzEuMQ0KSG9zd...         4.0   1.0   \n 1326                   name=/etc/nginx/html/favicon.ico         6.0   0.0   \n 1328  data=MjAyMS8wOS8wOSAwODoxMjoxMiBbZXJyb3JdIDEwI...        10.0   1.0   \n 1330  data=SFRUUC8xLjEgNDA0IE5vdCBGb3VuZA0KU2VydmVyO...         8.0   1.0   \n 1332  data=MTcyLjE4LjAuMyAtIC0gWzA5L1NlcC8yMDIxOjA4O...        10.0   1.0   \n 1334                                              data=         4.0 -11.0   \n 1336                                                NaN         1.0   1.0   \n 1338  data=R0VUIC9mYXZpY29uLmljbyBIVFRQLzEuMQ0KSG9zd...         4.0   1.0   \n 1340                   name=/etc/nginx/html/favicon.ico         6.0   0.0   \n 1342  data=MjAyMS8wOS8wOSAwODoxMjoxMiBbZXJyb3JdIDEwI...        10.0   1.0   \n 1344  data=SFRUUC8xLjEgNDA0IE5vdCBGb3VuZA0KU2VydmVyO...         8.0   1.0   \n 1346  data=MTcyLjE4LjAuNCAtIC0gWzA5L1NlcC8yMDIxOjA4O...        10.0   1.0   \n 1348                                              data=         4.0 -11.0   \n \n        RetReal                         Params  \n 1286       1.0                            NaN  \n 1288     376.0                            NaN  \n 1290      26.0  /etc/nginx/html/fonts/icomoon  \n 1292       0.0                            NaN  \n 1294     257.0                            NaN  \n 1296  193276.0                            NaN  \n 1298     252.0                            NaN  \n 1300       0.0                            NaN  \n 1302     -11.0                            NaN  \n 1304       1.0                            NaN  \n 1306     376.0                            NaN  \n 1308      26.0  /etc/nginx/html/fonts/icomoon  \n 1310       0.0                            NaN  \n 1312     257.0                            NaN  \n 1314  193276.0                            NaN  \n 1316     252.0                            NaN  \n 1318       0.0                            NaN  \n 1320     -11.0                            NaN  \n 1322       1.0                            NaN  \n 1324     370.0                            NaN  \n 1326      -2.0                /etc/nginx/html  \n 1328     253.0                            NaN  \n 1330     724.0                            NaN  \n 1332     215.0                            NaN  \n 1334     -11.0                            NaN  \n 1336       1.0                            NaN  \n 1338     370.0                            NaN  \n 1340      -2.0                /etc/nginx/html  \n 1342     254.0                            NaN  \n 1344     724.0                            NaN  \n 1346     215.0                            NaN  \n 1348     -11.0                            NaN  ,\n 2:                      time  UserID      PID ProcessName      TID     syscall  \\\n 1350  1631175133836091522   65534  2398371       nginx  2398371  epoll_wait   \n 1352  1631175133836105726   65534  2398371       nginx  2398371    recvfrom   \n 1354  1631175133836138423   65534  2398371       nginx  2398371        open   \n 1356  1631175133836142266   65534  2398371       nginx  2398371       fstat   \n 1358  1631175133836176314   65534  2398371       nginx  2398371      writev   \n ...                   ...     ...      ...         ...      ...         ...   \n 1584  1631175133875238626   65534  2398371       nginx  2398371      writev   \n 1586  1631175133875311001   65534  2398371       nginx  2398371    sendfile   \n 1588  1631175133875322823   65534  2398371       nginx  2398371       write   \n 1590  1631175133875324220   65534  2398371       nginx  2398371       close   \n 1592  1631175133875330042   65534  2398371       nginx  2398371    recvfrom   \n \n      DIR                                  RET  \\\n 1350   <                                res=1   \n 1352   <                              res=469   \n 1354   <  fd=26(<f>/etc/nginx/html/shop.html)   \n 1356   <                                res=0   \n 1358   <                              res=240   \n ...   ..                                  ...   \n 1584   <                              res=242   \n 1586   <                            res=94501   \n 1588   <                              res=233   \n 1590   <                                res=0   \n 1592   <                      res=-11(EAGAIN)   \n \n                                                    ARGS  syscallInt   Ret  \\\n 1350                                                NaN         1.0   1.0   \n 1352  data=R0VUIC9zaG9wLmh0bWwgSFRUUC8xLjENCkhvc3Q6I...         4.0   1.0   \n 1354                     name=/etc/nginx/html/shop.html         6.0   0.0   \n 1356                                                NaN         7.0   0.0   \n 1358  data=SFRUUC8xLjEgMjAwIE9LDQpTZXJ2ZXI6IG5naW54L...         8.0   1.0   \n ...                                                 ...         ...   ...   \n 1584  data=SFRUUC8xLjEgMjAwIE9LDQpTZXJ2ZXI6IG5naW54L...         8.0   1.0   \n 1586                                       offset=94501         9.0   1.0   \n 1588  data=MTcyLjE4LjAuMiAtIC0gWzA5L1NlcC8yMDIxOjA4O...        10.0   1.0   \n 1590                                                NaN        11.0   0.0   \n 1592                                              data=         4.0 -11.0   \n \n       RetReal           Params  \n 1350      1.0              NaN  \n 1352    469.0              NaN  \n 1354     26.0  /etc/nginx/html  \n 1356      0.0              NaN  \n 1358    240.0              NaN  \n ...       ...              ...  \n 1584    242.0              NaN  \n 1586  94501.0              NaN  \n 1588    233.0              NaN  \n 1590      0.0              NaN  \n 1592    -11.0              NaN  \n \n [122 rows x 13 columns],\n 3:                      time  UserID      PID ProcessName      TID     syscall  \\\n 1350  1631175133836091522   65534  2398371       nginx  2398371  epoll_wait   \n 1352  1631175133836105726   65534  2398371       nginx  2398371    recvfrom   \n 1354  1631175133836138423   65534  2398371       nginx  2398371        open   \n 1356  1631175133836142266   65534  2398371       nginx  2398371       fstat   \n 1358  1631175133836176314   65534  2398371       nginx  2398371      writev   \n ...                   ...     ...      ...         ...      ...         ...   \n 1584  1631175133875238626   65534  2398371       nginx  2398371      writev   \n 1586  1631175133875311001   65534  2398371       nginx  2398371    sendfile   \n 1588  1631175133875322823   65534  2398371       nginx  2398371       write   \n 1590  1631175133875324220   65534  2398371       nginx  2398371       close   \n 1592  1631175133875330042   65534  2398371       nginx  2398371    recvfrom   \n \n      DIR                                  RET  \\\n 1350   <                                res=1   \n 1352   <                              res=469   \n 1354   <  fd=26(<f>/etc/nginx/html/shop.html)   \n 1356   <                                res=0   \n 1358   <                              res=240   \n ...   ..                                  ...   \n 1584   <                              res=242   \n 1586   <                            res=94501   \n 1588   <                              res=233   \n 1590   <                                res=0   \n 1592   <                      res=-11(EAGAIN)   \n \n                                                    ARGS  syscallInt   Ret  \\\n 1350                                                NaN         1.0   1.0   \n 1352  data=R0VUIC9zaG9wLmh0bWwgSFRUUC8xLjENCkhvc3Q6I...         4.0   1.0   \n 1354                     name=/etc/nginx/html/shop.html         6.0   0.0   \n 1356                                                NaN         7.0   0.0   \n 1358  data=SFRUUC8xLjEgMjAwIE9LDQpTZXJ2ZXI6IG5naW54L...         8.0   1.0   \n ...                                                 ...         ...   ...   \n 1584  data=SFRUUC8xLjEgMjAwIE9LDQpTZXJ2ZXI6IG5naW54L...         8.0   1.0   \n 1586                                       offset=94501         9.0   1.0   \n 1588  data=MTcyLjE4LjAuMiAtIC0gWzA5L1NlcC8yMDIxOjA4O...        10.0   1.0   \n 1590                                                NaN        11.0   0.0   \n 1592                                              data=         4.0 -11.0   \n \n       RetReal           Params  \n 1350      1.0              NaN  \n 1352    469.0              NaN  \n 1354     26.0  /etc/nginx/html  \n 1356      0.0              NaN  \n 1358    240.0              NaN  \n ...       ...              ...  \n 1584    242.0              NaN  \n 1586  94501.0              NaN  \n 1588    233.0              NaN  \n 1590      0.0              NaN  \n 1592    -11.0              NaN  \n \n [122 rows x 13 columns],\n 4:                      time  UserID      PID ProcessName      TID     syscall  \\\n 1350  1631175133836091522   65534  2398371       nginx  2398371  epoll_wait   \n 1352  1631175133836105726   65534  2398371       nginx  2398371    recvfrom   \n 1354  1631175133836138423   65534  2398371       nginx  2398371        open   \n 1356  1631175133836142266   65534  2398371       nginx  2398371       fstat   \n 1358  1631175133836176314   65534  2398371       nginx  2398371      writev   \n ...                   ...     ...      ...         ...      ...         ...   \n 1584  1631175133875238626   65534  2398371       nginx  2398371      writev   \n 1586  1631175133875311001   65534  2398371       nginx  2398371    sendfile   \n 1588  1631175133875322823   65534  2398371       nginx  2398371       write   \n 1590  1631175133875324220   65534  2398371       nginx  2398371       close   \n 1592  1631175133875330042   65534  2398371       nginx  2398371    recvfrom   \n \n      DIR                                  RET  \\\n 1350   <                                res=1   \n 1352   <                              res=469   \n 1354   <  fd=26(<f>/etc/nginx/html/shop.html)   \n 1356   <                                res=0   \n 1358   <                              res=240   \n ...   ..                                  ...   \n 1584   <                              res=242   \n 1586   <                            res=94501   \n 1588   <                              res=233   \n 1590   <                                res=0   \n 1592   <                      res=-11(EAGAIN)   \n \n                                                    ARGS  syscallInt   Ret  \\\n 1350                                                NaN         1.0   1.0   \n 1352  data=R0VUIC9zaG9wLmh0bWwgSFRUUC8xLjENCkhvc3Q6I...         4.0   1.0   \n 1354                     name=/etc/nginx/html/shop.html         6.0   0.0   \n 1356                                                NaN         7.0   0.0   \n 1358  data=SFRUUC8xLjEgMjAwIE9LDQpTZXJ2ZXI6IG5naW54L...         8.0   1.0   \n ...                                                 ...         ...   ...   \n 1584  data=SFRUUC8xLjEgMjAwIE9LDQpTZXJ2ZXI6IG5naW54L...         8.0   1.0   \n 1586                                       offset=94501         9.0   1.0   \n 1588  data=MTcyLjE4LjAuMiAtIC0gWzA5L1NlcC8yMDIxOjA4O...        10.0   1.0   \n 1590                                                NaN        11.0   0.0   \n 1592                                              data=         4.0 -11.0   \n \n       RetReal           Params  \n 1350      1.0              NaN  \n 1352    469.0              NaN  \n 1354     26.0  /etc/nginx/html  \n 1356      0.0              NaN  \n 1358    240.0              NaN  \n ...       ...              ...  \n 1584    242.0              NaN  \n 1586  94501.0              NaN  \n 1588    233.0              NaN  \n 1590      0.0              NaN  \n 1592    -11.0              NaN  \n \n [122 rows x 13 columns],\n 5:                      time  UserID      PID ProcessName      TID     syscall  \\\n 1350  1631175133836091522   65534  2398371       nginx  2398371  epoll_wait   \n 1352  1631175133836105726   65534  2398371       nginx  2398371    recvfrom   \n 1354  1631175133836138423   65534  2398371       nginx  2398371        open   \n 1356  1631175133836142266   65534  2398371       nginx  2398371       fstat   \n 1358  1631175133836176314   65534  2398371       nginx  2398371      writev   \n ...                   ...     ...      ...         ...      ...         ...   \n 1584  1631175133875238626   65534  2398371       nginx  2398371      writev   \n 1586  1631175133875311001   65534  2398371       nginx  2398371    sendfile   \n 1588  1631175133875322823   65534  2398371       nginx  2398371       write   \n 1590  1631175133875324220   65534  2398371       nginx  2398371       close   \n 1592  1631175133875330042   65534  2398371       nginx  2398371    recvfrom   \n \n      DIR                                  RET  \\\n 1350   <                                res=1   \n 1352   <                              res=469   \n 1354   <  fd=26(<f>/etc/nginx/html/shop.html)   \n 1356   <                                res=0   \n 1358   <                              res=240   \n ...   ..                                  ...   \n 1584   <                              res=242   \n 1586   <                            res=94501   \n 1588   <                              res=233   \n 1590   <                                res=0   \n 1592   <                      res=-11(EAGAIN)   \n \n                                                    ARGS  syscallInt   Ret  \\\n 1350                                                NaN         1.0   1.0   \n 1352  data=R0VUIC9zaG9wLmh0bWwgSFRUUC8xLjENCkhvc3Q6I...         4.0   1.0   \n 1354                     name=/etc/nginx/html/shop.html         6.0   0.0   \n 1356                                                NaN         7.0   0.0   \n 1358  data=SFRUUC8xLjEgMjAwIE9LDQpTZXJ2ZXI6IG5naW54L...         8.0   1.0   \n ...                                                 ...         ...   ...   \n 1584  data=SFRUUC8xLjEgMjAwIE9LDQpTZXJ2ZXI6IG5naW54L...         8.0   1.0   \n 1586                                       offset=94501         9.0   1.0   \n 1588  data=MTcyLjE4LjAuMiAtIC0gWzA5L1NlcC8yMDIxOjA4O...        10.0   1.0   \n 1590                                                NaN        11.0   0.0   \n 1592                                              data=         4.0 -11.0   \n \n       RetReal           Params  \n 1350      1.0              NaN  \n 1352    469.0              NaN  \n 1354     26.0  /etc/nginx/html  \n 1356      0.0              NaN  \n 1358    240.0              NaN  \n ...       ...              ...  \n 1584    242.0              NaN  \n 1586  94501.0              NaN  \n 1588    233.0              NaN  \n 1590      0.0              NaN  \n 1592    -11.0              NaN  \n \n [122 rows x 13 columns],\n 6:                      time  UserID      PID ProcessName      TID     syscall  \\\n 1350  1631175133836091522   65534  2398371       nginx  2398371  epoll_wait   \n 1352  1631175133836105726   65534  2398371       nginx  2398371    recvfrom   \n 1354  1631175133836138423   65534  2398371       nginx  2398371        open   \n 1356  1631175133836142266   65534  2398371       nginx  2398371       fstat   \n 1358  1631175133836176314   65534  2398371       nginx  2398371      writev   \n ...                   ...     ...      ...         ...      ...         ...   \n 1584  1631175133875238626   65534  2398371       nginx  2398371      writev   \n 1586  1631175133875311001   65534  2398371       nginx  2398371    sendfile   \n 1588  1631175133875322823   65534  2398371       nginx  2398371       write   \n 1590  1631175133875324220   65534  2398371       nginx  2398371       close   \n 1592  1631175133875330042   65534  2398371       nginx  2398371    recvfrom   \n \n      DIR                                  RET  \\\n 1350   <                                res=1   \n 1352   <                              res=469   \n 1354   <  fd=26(<f>/etc/nginx/html/shop.html)   \n 1356   <                                res=0   \n 1358   <                              res=240   \n ...   ..                                  ...   \n 1584   <                              res=242   \n 1586   <                            res=94501   \n 1588   <                              res=233   \n 1590   <                                res=0   \n 1592   <                      res=-11(EAGAIN)   \n \n                                                    ARGS  syscallInt   Ret  \\\n 1350                                                NaN         1.0   1.0   \n 1352  data=R0VUIC9zaG9wLmh0bWwgSFRUUC8xLjENCkhvc3Q6I...         4.0   1.0   \n 1354                     name=/etc/nginx/html/shop.html         6.0   0.0   \n 1356                                                NaN         7.0   0.0   \n 1358  data=SFRUUC8xLjEgMjAwIE9LDQpTZXJ2ZXI6IG5naW54L...         8.0   1.0   \n ...                                                 ...         ...   ...   \n 1584  data=SFRUUC8xLjEgMjAwIE9LDQpTZXJ2ZXI6IG5naW54L...         8.0   1.0   \n 1586                                       offset=94501         9.0   1.0   \n 1588  data=MTcyLjE4LjAuMiAtIC0gWzA5L1NlcC8yMDIxOjA4O...        10.0   1.0   \n 1590                                                NaN        11.0   0.0   \n 1592                                              data=         4.0 -11.0   \n \n       RetReal           Params  \n 1350      1.0              NaN  \n 1352    469.0              NaN  \n 1354     26.0  /etc/nginx/html  \n 1356      0.0              NaN  \n 1358    240.0              NaN  \n ...       ...              ...  \n 1584    242.0              NaN  \n 1586  94501.0              NaN  \n 1588    233.0              NaN  \n 1590      0.0              NaN  \n 1592    -11.0              NaN  \n \n [122 rows x 13 columns]}"
     },
     "execution_count": 16,
     "metadata": {},
     "output_type": "execute_result"
    }
   ],
   "source": [
    "df_all"
   ],
   "metadata": {
    "collapsed": false,
    "ExecuteTime": {
     "end_time": "2023-08-21T13:18:50.717724100Z",
     "start_time": "2023-08-21T13:18:50.663868200Z"
    }
   }
  },
  {
   "cell_type": "code",
   "execution_count": 2,
   "outputs": [],
   "source": [
    "with zipfile.ZipFile('L:\\\\hids\\\\dataSet\\\\CVE-2017-7529\\\\test\\\\normal_and_attack\\\\damaged_curran_2372.zip', 'r') as zipped:\n",
    "    with zipped.open('damaged_curran_2372.sc') as unzipped:\n",
    "        raw_df = pd.read_csv(unzipped, delim_whitespace = True, index_col=False, names = ['time','UserID', 'PID', 'ProcessName', 'TID', 'syscall', 'DIR', 'RET', 'ARGS'])"
   ],
   "metadata": {
    "collapsed": false,
    "ExecuteTime": {
     "end_time": "2023-08-21T13:35:56.453092Z",
     "start_time": "2023-08-21T13:35:55.951165100Z"
    }
   }
  },
  {
   "cell_type": "code",
   "execution_count": 3,
   "outputs": [],
   "source": [
    "raw_df = raw_df[raw_df['DIR'] == '<'].copy()"
   ],
   "metadata": {
    "collapsed": false,
    "ExecuteTime": {
     "end_time": "2023-08-21T13:35:58.074179600Z",
     "start_time": "2023-08-21T13:35:57.556799800Z"
    }
   }
  },
  {
   "cell_type": "code",
   "execution_count": 10,
   "outputs": [
    {
     "name": "stdout",
     "output_type": "stream",
     "text": [
      "1631175132729381173 Has Len 675\n",
      "1631175132729381173 Has Len 32\n",
      "1631175132729381173 less 30\n",
      "0 less 30\n",
      "1631175133875330042 Has Len 122\n",
      "1631175133875330042 Has Len 122\n",
      "1631175133875330042 Has Len 122\n",
      "1631175133875330042 Has Len 122\n",
      "1631175133875330042 Has Len 122\n",
      "0 less 30\n",
      "0 less 30\n",
      "0 less 30\n",
      "1631175135484699697 less 30\n",
      "1631175135484699697 less 30\n",
      "1631175135833450844 less 30\n",
      "1631175135833450844 less 30\n",
      "1631175135833450844 less 30\n",
      "1631175135833450844 less 30\n",
      "1631175136751480356 less 30\n",
      "1631175136751480356 less 30\n",
      "1631175137119929605 less 30\n",
      "1631175137119929605 less 30\n",
      "1631175137119929605 less 30\n",
      "1631175137119929605 less 30\n",
      "1631175137119929605 less 30\n",
      "0 less 30\n",
      "0 less 30\n",
      "0 less 30\n",
      "0 less 30\n",
      "0 less 30\n",
      "0 less 30\n",
      "0 less 30\n",
      "0 less 30\n",
      "0 less 30\n",
      "0 less 30\n",
      "0 less 30\n",
      "0 less 30\n",
      "0 less 30\n",
      "0 less 30\n",
      "0 less 30\n",
      "0 less 30\n",
      "0 less 30\n",
      "0 less 30\n",
      "0 less 30\n",
      "0 less 30\n",
      "0 less 30\n",
      "0 less 30\n"
     ]
    }
   ],
   "source": [
    "\n",
    "start_time = raw_df.iloc[0]['time']\n",
    "end_time = start_time + 1000000000\n",
    "\n",
    "while raw_df.iloc[-1]['time'] > end_time:\n",
    "    if start_time > 1631175142373619859:\n",
    "        print(start_time)\n",
    "    # handle 1 S period data\n",
    "    df = raw_df[(raw_df['time'] >= start_time) & (raw_df['time'] < end_time)]\n",
    "    last_time = 0\n",
    "    if len(df) > 0:\n",
    "        last_time = df.iloc[-1]['time']\n",
    "    if len(df) < 30:\n",
    "        start_time += 200000000\n",
    "        end_time = start_time + 1000000000\n",
    "\n",
    "        print(f'{last_time} less 30')\n",
    "        continue\n",
    "    print(f'{last_time} Has Len {len(df)}')\n",
    "    start_time += 200000000\n",
    "    end_time = start_time + 1000000000"
   ],
   "metadata": {
    "collapsed": false
   }
  },
  {
   "cell_type": "code",
   "execution_count": 9,
   "outputs": [
    {
     "data": {
      "text/plain": "1631175142564091010"
     },
     "execution_count": 9,
     "metadata": {},
     "output_type": "execute_result"
    }
   ],
   "source": [
    "raw_df.iloc[-1]['time']"
   ],
   "metadata": {
    "collapsed": false,
    "ExecuteTime": {
     "end_time": "2023-08-21T13:42:01.566898300Z",
     "start_time": "2023-08-21T13:42:01.548097300Z"
    }
   }
  },
  {
   "cell_type": "code",
   "execution_count": null,
   "outputs": [],
   "source": [],
   "metadata": {
    "collapsed": false
   }
  }
 ],
 "metadata": {
  "kernelspec": {
   "name": "ids",
   "language": "python",
   "display_name": "ids"
  },
  "language_info": {
   "codemirror_mode": {
    "name": "ipython",
    "version": 2
   },
   "file_extension": ".py",
   "mimetype": "text/x-python",
   "name": "python",
   "nbconvert_exporter": "python",
   "pygments_lexer": "ipython2",
   "version": "2.7.6"
  }
 },
 "nbformat": 4,
 "nbformat_minor": 0
}
