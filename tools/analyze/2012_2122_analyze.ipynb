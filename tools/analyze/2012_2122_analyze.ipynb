{
 "cells": [
  {
   "cell_type": "code",
   "execution_count": 44,
   "metadata": {
    "collapsed": true,
    "ExecuteTime": {
     "end_time": "2024-01-17T06:39:13.168592800Z",
     "start_time": "2024-01-17T06:39:13.144656600Z"
    }
   },
   "outputs": [],
   "source": [
    "import numpy as np\n",
    "import pandas as pd\n",
    "import json\n",
    "import os\n",
    "import matplotlib.pyplot as plt\n",
    "import glob\n"
   ]
  },
  {
   "cell_type": "code",
   "execution_count": 11,
   "outputs": [],
   "source": [
    "path[:8]"
   ],
   "metadata": {
    "collapsed": false
   }
  },
  {
   "cell_type": "code",
   "execution_count": 45,
   "outputs": [],
   "source": [
    "USE_TIME_DELTA = False\n",
    "USE_PTID = False\n",
    "USE_USA = True\n",
    "USE_USS = True\n",
    "USE_FREQ = True\n",
    "USE_SC_MAX_SIZE = True\n",
    "USE_RET = True\n",
    "\n",
    "err_files = glob.glob('K:\\\\hids\\\\dataAnalyze\\\\*_exploit.pkl')\n",
    "nor_files = glob.glob('K:\\\\hids\\\\dataAnalyze\\\\*_normal.pkl')\n",
    "\n",
    "columns = ['file_exploit_time', 'current_time']\n",
    "if USE_TIME_DELTA:\n",
    "    columns.extend(['Time_result'])\n",
    "\n",
    "if USE_PTID:\n",
    "    columns.extend(['PID_SW_Freq', 'PID_Number', 'TID_SW_Freq', 'TID_Number'])\n",
    "\n",
    "if USE_USA:\n",
    "    columns.extend(['UnseenARGS'])\n",
    "\n",
    "if USE_USS:\n",
    "    columns.extend(['UnseenSC'])\n",
    "\n",
    "if USE_RET:\n",
    "    columns.extend(['Return'])\n",
    "\n",
    "if USE_FREQ:\n",
    "    columns.extend(['Freq'])\n",
    "\n",
    "if USE_SC_MAX_SIZE:\n",
    "    columns.extend(['SC Max Size ' + str(i) for i in range(14)])\n",
    "\n",
    "input_dim = 39 * USE_TIME_DELTA + USE_PTID * 4 + USE_RET + USE_USA + USE_USS + USE_FREQ + USE_SC_MAX_SIZE * 14\n",
    "\n",
    "edf = pd.DataFrame(columns = columns + [i for i in range(input_dim * 2)])\n",
    "ndf = pd.DataFrame(columns = columns + [i for i in range(input_dim * 2)])"
   ],
   "metadata": {
    "collapsed": false,
    "ExecuteTime": {
     "end_time": "2024-01-17T06:39:13.213472700Z",
     "start_time": "2024-01-17T06:39:13.169590500Z"
    }
   }
  },
  {
   "cell_type": "code",
   "execution_count": 45,
   "outputs": [],
   "source": [],
   "metadata": {
    "collapsed": false,
    "ExecuteTime": {
     "end_time": "2024-01-17T06:39:13.604428600Z",
     "start_time": "2024-01-17T06:39:13.215468Z"
    }
   }
  },
  {
   "cell_type": "code",
   "execution_count": 46,
   "outputs": [],
   "source": [
    "for file in err_files:\n",
    "    df_tmp = pd.read_pickle(file)\n",
    "    edf = edf.append(df_tmp)\n",
    "\n",
    "for file in nor_files:\n",
    "    df_tmp = pd.read_pickle(file)\n",
    "    ndf = ndf.append(df_tmp)"
   ],
   "metadata": {
    "collapsed": false,
    "ExecuteTime": {
     "end_time": "2024-01-17T06:39:14.139265900Z",
     "start_time": "2024-01-17T06:39:13.231425Z"
    }
   }
  },
  {
   "cell_type": "code",
   "execution_count": 47,
   "outputs": [
    {
     "data": {
      "text/plain": "    file_exploit_time  current_time  UnseenARGS  UnseenSC  Return  Freq  \\\n0        1.640101e+09  1.640101e+09         1.0       1.0     1.0   1.0   \n1        1.640101e+09  1.640101e+09         1.0       1.0     1.0   1.0   \n2        1.640101e+09  1.640101e+09         1.0       1.0     1.0   1.0   \n3        1.640101e+09  1.640101e+09         1.0       1.0     1.0   1.0   \n4        1.640101e+09  1.640101e+09         1.0       1.0     1.0   1.0   \n..                ...           ...         ...       ...     ...   ...   \n31       1.631701e+09  1.631701e+09         1.0       1.0     1.0   1.0   \n32       1.631701e+09  1.631701e+09         1.0       1.0     1.0   1.0   \n33       1.631701e+09  1.631701e+09         1.0       1.0     1.0   1.0   \n34       1.631701e+09  1.631701e+09         1.0       1.0     1.0   1.0   \n35       1.631701e+09  1.631701e+09         1.0       1.0     1.0   1.0   \n\n    SC Max Size 0  SC Max Size 1  SC Max Size 2  SC Max Size 3  ...  \\\n0             1.0            1.0            1.0            1.0  ...   \n1             1.0            1.0            1.0            1.0  ...   \n2             1.0            1.0            1.0            1.0  ...   \n3             1.0            1.0            1.0            1.0  ...   \n4             1.0            1.0            1.0            1.0  ...   \n..            ...            ...            ...            ...  ...   \n31            1.0            1.0            1.0            1.0  ...   \n32            1.0            1.0            1.0            1.0  ...   \n33            1.0            1.0            1.0            1.0  ...   \n34            1.0            1.0            1.0            1.0  ...   \n35            1.0            1.0            1.0            1.0  ...   \n\n              26        27        28            29            30  \\\n0   5.287037e-06  0.000037  0.000002  2.553995e-08  1.353306e-10   \n1   8.173490e-07  0.000013  0.000007  5.314645e-07  5.803618e-09   \n2   1.558047e-05  0.000009  0.000006  4.643798e-07  6.782224e-09   \n3   1.558047e-05  0.000009  0.000006  4.643798e-07  6.782224e-09   \n4   1.558047e-05  0.000009  0.000006  4.643798e-07  6.782224e-09   \n..           ...       ...       ...           ...           ...   \n31  8.657172e-05  0.000005  0.000012  7.770378e-07  7.174132e-09   \n32  8.657172e-05  0.000005  0.000012  7.770378e-07  7.174132e-09   \n33  8.657172e-05  0.000005  0.000012  7.770378e-07  7.174132e-09   \n34  8.657172e-05  0.000005  0.000012  7.770378e-07  7.174132e-09   \n35  8.657172e-05  0.000005  0.000012  7.770378e-07  7.174132e-09   \n\n              31   32   33   34   35  \n0   2.042780e-09  NaN  NaN  NaN  NaN  \n1   2.213188e-07  NaN  NaN  NaN  NaN  \n2   2.153753e-07  NaN  NaN  NaN  NaN  \n3   2.153753e-07  NaN  NaN  NaN  NaN  \n4   2.153753e-07  NaN  NaN  NaN  NaN  \n..           ...  ...  ...  ...  ...  \n31  4.236487e-07  NaN  NaN  NaN  NaN  \n32  4.236487e-07  NaN  NaN  NaN  NaN  \n33  4.236487e-07  NaN  NaN  NaN  NaN  \n34  4.236487e-07  NaN  NaN  NaN  NaN  \n35  4.236487e-07  NaN  NaN  NaN  NaN  \n\n[7107 rows x 56 columns]",
      "text/html": "<div>\n<style scoped>\n    .dataframe tbody tr th:only-of-type {\n        vertical-align: middle;\n    }\n\n    .dataframe tbody tr th {\n        vertical-align: top;\n    }\n\n    .dataframe thead th {\n        text-align: right;\n    }\n</style>\n<table border=\"1\" class=\"dataframe\">\n  <thead>\n    <tr style=\"text-align: right;\">\n      <th></th>\n      <th>file_exploit_time</th>\n      <th>current_time</th>\n      <th>UnseenARGS</th>\n      <th>UnseenSC</th>\n      <th>Return</th>\n      <th>Freq</th>\n      <th>SC Max Size 0</th>\n      <th>SC Max Size 1</th>\n      <th>SC Max Size 2</th>\n      <th>SC Max Size 3</th>\n      <th>...</th>\n      <th>26</th>\n      <th>27</th>\n      <th>28</th>\n      <th>29</th>\n      <th>30</th>\n      <th>31</th>\n      <th>32</th>\n      <th>33</th>\n      <th>34</th>\n      <th>35</th>\n    </tr>\n  </thead>\n  <tbody>\n    <tr>\n      <th>0</th>\n      <td>1.640101e+09</td>\n      <td>1.640101e+09</td>\n      <td>1.0</td>\n      <td>1.0</td>\n      <td>1.0</td>\n      <td>1.0</td>\n      <td>1.0</td>\n      <td>1.0</td>\n      <td>1.0</td>\n      <td>1.0</td>\n      <td>...</td>\n      <td>5.287037e-06</td>\n      <td>0.000037</td>\n      <td>0.000002</td>\n      <td>2.553995e-08</td>\n      <td>1.353306e-10</td>\n      <td>2.042780e-09</td>\n      <td>NaN</td>\n      <td>NaN</td>\n      <td>NaN</td>\n      <td>NaN</td>\n    </tr>\n    <tr>\n      <th>1</th>\n      <td>1.640101e+09</td>\n      <td>1.640101e+09</td>\n      <td>1.0</td>\n      <td>1.0</td>\n      <td>1.0</td>\n      <td>1.0</td>\n      <td>1.0</td>\n      <td>1.0</td>\n      <td>1.0</td>\n      <td>1.0</td>\n      <td>...</td>\n      <td>8.173490e-07</td>\n      <td>0.000013</td>\n      <td>0.000007</td>\n      <td>5.314645e-07</td>\n      <td>5.803618e-09</td>\n      <td>2.213188e-07</td>\n      <td>NaN</td>\n      <td>NaN</td>\n      <td>NaN</td>\n      <td>NaN</td>\n    </tr>\n    <tr>\n      <th>2</th>\n      <td>1.640101e+09</td>\n      <td>1.640101e+09</td>\n      <td>1.0</td>\n      <td>1.0</td>\n      <td>1.0</td>\n      <td>1.0</td>\n      <td>1.0</td>\n      <td>1.0</td>\n      <td>1.0</td>\n      <td>1.0</td>\n      <td>...</td>\n      <td>1.558047e-05</td>\n      <td>0.000009</td>\n      <td>0.000006</td>\n      <td>4.643798e-07</td>\n      <td>6.782224e-09</td>\n      <td>2.153753e-07</td>\n      <td>NaN</td>\n      <td>NaN</td>\n      <td>NaN</td>\n      <td>NaN</td>\n    </tr>\n    <tr>\n      <th>3</th>\n      <td>1.640101e+09</td>\n      <td>1.640101e+09</td>\n      <td>1.0</td>\n      <td>1.0</td>\n      <td>1.0</td>\n      <td>1.0</td>\n      <td>1.0</td>\n      <td>1.0</td>\n      <td>1.0</td>\n      <td>1.0</td>\n      <td>...</td>\n      <td>1.558047e-05</td>\n      <td>0.000009</td>\n      <td>0.000006</td>\n      <td>4.643798e-07</td>\n      <td>6.782224e-09</td>\n      <td>2.153753e-07</td>\n      <td>NaN</td>\n      <td>NaN</td>\n      <td>NaN</td>\n      <td>NaN</td>\n    </tr>\n    <tr>\n      <th>4</th>\n      <td>1.640101e+09</td>\n      <td>1.640101e+09</td>\n      <td>1.0</td>\n      <td>1.0</td>\n      <td>1.0</td>\n      <td>1.0</td>\n      <td>1.0</td>\n      <td>1.0</td>\n      <td>1.0</td>\n      <td>1.0</td>\n      <td>...</td>\n      <td>1.558047e-05</td>\n      <td>0.000009</td>\n      <td>0.000006</td>\n      <td>4.643798e-07</td>\n      <td>6.782224e-09</td>\n      <td>2.153753e-07</td>\n      <td>NaN</td>\n      <td>NaN</td>\n      <td>NaN</td>\n      <td>NaN</td>\n    </tr>\n    <tr>\n      <th>...</th>\n      <td>...</td>\n      <td>...</td>\n      <td>...</td>\n      <td>...</td>\n      <td>...</td>\n      <td>...</td>\n      <td>...</td>\n      <td>...</td>\n      <td>...</td>\n      <td>...</td>\n      <td>...</td>\n      <td>...</td>\n      <td>...</td>\n      <td>...</td>\n      <td>...</td>\n      <td>...</td>\n      <td>...</td>\n      <td>...</td>\n      <td>...</td>\n      <td>...</td>\n      <td>...</td>\n    </tr>\n    <tr>\n      <th>31</th>\n      <td>1.631701e+09</td>\n      <td>1.631701e+09</td>\n      <td>1.0</td>\n      <td>1.0</td>\n      <td>1.0</td>\n      <td>1.0</td>\n      <td>1.0</td>\n      <td>1.0</td>\n      <td>1.0</td>\n      <td>1.0</td>\n      <td>...</td>\n      <td>8.657172e-05</td>\n      <td>0.000005</td>\n      <td>0.000012</td>\n      <td>7.770378e-07</td>\n      <td>7.174132e-09</td>\n      <td>4.236487e-07</td>\n      <td>NaN</td>\n      <td>NaN</td>\n      <td>NaN</td>\n      <td>NaN</td>\n    </tr>\n    <tr>\n      <th>32</th>\n      <td>1.631701e+09</td>\n      <td>1.631701e+09</td>\n      <td>1.0</td>\n      <td>1.0</td>\n      <td>1.0</td>\n      <td>1.0</td>\n      <td>1.0</td>\n      <td>1.0</td>\n      <td>1.0</td>\n      <td>1.0</td>\n      <td>...</td>\n      <td>8.657172e-05</td>\n      <td>0.000005</td>\n      <td>0.000012</td>\n      <td>7.770378e-07</td>\n      <td>7.174132e-09</td>\n      <td>4.236487e-07</td>\n      <td>NaN</td>\n      <td>NaN</td>\n      <td>NaN</td>\n      <td>NaN</td>\n    </tr>\n    <tr>\n      <th>33</th>\n      <td>1.631701e+09</td>\n      <td>1.631701e+09</td>\n      <td>1.0</td>\n      <td>1.0</td>\n      <td>1.0</td>\n      <td>1.0</td>\n      <td>1.0</td>\n      <td>1.0</td>\n      <td>1.0</td>\n      <td>1.0</td>\n      <td>...</td>\n      <td>8.657172e-05</td>\n      <td>0.000005</td>\n      <td>0.000012</td>\n      <td>7.770378e-07</td>\n      <td>7.174132e-09</td>\n      <td>4.236487e-07</td>\n      <td>NaN</td>\n      <td>NaN</td>\n      <td>NaN</td>\n      <td>NaN</td>\n    </tr>\n    <tr>\n      <th>34</th>\n      <td>1.631701e+09</td>\n      <td>1.631701e+09</td>\n      <td>1.0</td>\n      <td>1.0</td>\n      <td>1.0</td>\n      <td>1.0</td>\n      <td>1.0</td>\n      <td>1.0</td>\n      <td>1.0</td>\n      <td>1.0</td>\n      <td>...</td>\n      <td>8.657172e-05</td>\n      <td>0.000005</td>\n      <td>0.000012</td>\n      <td>7.770378e-07</td>\n      <td>7.174132e-09</td>\n      <td>4.236487e-07</td>\n      <td>NaN</td>\n      <td>NaN</td>\n      <td>NaN</td>\n      <td>NaN</td>\n    </tr>\n    <tr>\n      <th>35</th>\n      <td>1.631701e+09</td>\n      <td>1.631701e+09</td>\n      <td>1.0</td>\n      <td>1.0</td>\n      <td>1.0</td>\n      <td>1.0</td>\n      <td>1.0</td>\n      <td>1.0</td>\n      <td>1.0</td>\n      <td>1.0</td>\n      <td>...</td>\n      <td>8.657172e-05</td>\n      <td>0.000005</td>\n      <td>0.000012</td>\n      <td>7.770378e-07</td>\n      <td>7.174132e-09</td>\n      <td>4.236487e-07</td>\n      <td>NaN</td>\n      <td>NaN</td>\n      <td>NaN</td>\n      <td>NaN</td>\n    </tr>\n  </tbody>\n</table>\n<p>7107 rows × 56 columns</p>\n</div>"
     },
     "execution_count": 47,
     "metadata": {},
     "output_type": "execute_result"
    }
   ],
   "source": [
    "ndf"
   ],
   "metadata": {
    "collapsed": false,
    "ExecuteTime": {
     "end_time": "2024-01-17T06:39:14.139265900Z",
     "start_time": "2024-01-17T06:39:13.930129100Z"
    }
   }
  },
  {
   "cell_type": "code",
   "execution_count": 48,
   "outputs": [
    {
     "data": {
      "text/plain": "  file_exploit_time  current_time UnseenARGS UnseenSC Return   Freq  \\\n0              None  1.631259e+09      False    False  False  False   \n1              None  1.631259e+09      False    False  False  False   \n2              None  1.631259e+09      False    False  False  False   \n3              None  1.631259e+09      False    False   True  False   \n4              None  1.631259e+09       True    False   True   True   \n5              None  1.631259e+09       True    False   True   True   \n6              None  1.631259e+09       True    False   True   True   \n7              None  1.631259e+09       True    False   True   True   \n0              None  1.631259e+09      False    False  False  False   \n1              None  1.631259e+09      False    False  False  False   \n2              None  1.631259e+09      False    False  False  False   \n3              None  1.631259e+09      False    False  False  False   \n4              None  1.631259e+09      False    False  False  False   \n5              None  1.631259e+09      False    False  False  False   \n0              None  1.631232e+09      False    False  False  False   \n1              None  1.631232e+09      False    False  False  False   \n2              None  1.631232e+09      False    False  False  False   \n0              None  1.631228e+09      False    False  False  False   \n1              None  1.631228e+09      False    False  False  False   \n2              None  1.631228e+09      False    False  False  False   \n\n  SC Max Size 0 SC Max Size 1 SC Max Size 2 SC Max Size 3  ...        26  \\\n0         False         False         False         False  ...  3.090912   \n1         False         False         False         False  ...  3.090912   \n2         False         False         False         False  ...  3.090912   \n3          True         False         False          True  ...  0.041077   \n4          True          True          True         False  ...  0.000024   \n5          True          True          True         False  ...  0.000043   \n6          True          True          True         False  ...  0.000215   \n7          True          True          True         False  ...  0.000215   \n0         False         False         False         False  ...  3.090912   \n1         False         False         False         False  ...  3.090912   \n2         False         False         False         False  ...  3.090912   \n3         False         False         False         False  ...  3.090912   \n4         False         False         False         False  ...  3.090912   \n5         False         False         False         False  ...  3.090912   \n0         False         False         False         False  ...  3.090912   \n1         False         False         False         False  ...  3.090912   \n2         False         False         False         False  ...  3.090912   \n0         False         False         False         False  ...  3.090912   \n1         False         False         False         False  ...  3.090912   \n2         False         False         False         False  ...  3.090912   \n\n          27            28            29            30            31   32  \\\n0  46.670227  5.815175e+00  1.121090e-01  4.706789e-03  7.994031e-03  NaN   \n1  46.653473  5.813091e+00  1.120681e-01  4.705068e-03  7.991762e-03  NaN   \n2  46.645279  5.812071e+00  1.120481e-01  4.704227e-03  7.990648e-03  NaN   \n3   0.004557  7.419118e-04  1.933832e-05  8.693327e-07  6.167709e-09  NaN   \n4   0.000009  2.831175e-07  5.638805e-10  2.395439e-09  9.589370e-09  NaN   \n5   0.000011  8.647837e-08  1.566773e-10  2.079609e-09  1.032167e-08  NaN   \n6   0.000024  1.462899e-07  3.057147e-10  2.800864e-10  1.167681e-08  NaN   \n7   0.000024  1.462707e-07  3.058976e-10  2.800916e-10  1.167698e-08  NaN   \n0  46.941341  5.848217e+00  1.130109e-01  4.746166e-03  7.990560e-03  NaN   \n1  46.940235  5.848079e+00  1.130081e-01  4.746052e-03  7.990410e-03  NaN   \n2  53.654217  6.684241e+00  1.296153e-01  5.445142e-03  9.011193e-03  NaN   \n3  52.945755  6.596694e+00  1.274782e-01  5.353303e-03  8.981177e-03  NaN   \n4  52.715214  6.568221e+00  1.268229e-01  5.325241e-03  8.965495e-03  NaN   \n5  52.729050  6.569943e+00  1.268566e-01  5.326658e-03  8.967363e-03  NaN   \n0  46.957508  5.850306e+00  1.130528e-01  4.747788e-03  7.992458e-03  NaN   \n1  46.969826  5.851840e+00  1.130829e-01  4.749059e-03  7.994126e-03  NaN   \n2  46.966331  5.851405e+00  1.130744e-01  4.748698e-03  7.993650e-03  NaN   \n0  46.950794  5.849394e+00  1.130339e-01  4.747138e-03  7.991846e-03  NaN   \n1  46.951183  5.849443e+00  1.130349e-01  4.747177e-03  7.991895e-03  NaN   \n2  46.937080  5.847687e+00  1.130004e-01  4.745726e-03  7.989978e-03  NaN   \n\n    33   34   35  \n0  NaN  NaN  NaN  \n1  NaN  NaN  NaN  \n2  NaN  NaN  NaN  \n3  NaN  NaN  NaN  \n4  NaN  NaN  NaN  \n5  NaN  NaN  NaN  \n6  NaN  NaN  NaN  \n7  NaN  NaN  NaN  \n0  NaN  NaN  NaN  \n1  NaN  NaN  NaN  \n2  NaN  NaN  NaN  \n3  NaN  NaN  NaN  \n4  NaN  NaN  NaN  \n5  NaN  NaN  NaN  \n0  NaN  NaN  NaN  \n1  NaN  NaN  NaN  \n2  NaN  NaN  NaN  \n0  NaN  NaN  NaN  \n1  NaN  NaN  NaN  \n2  NaN  NaN  NaN  \n\n[20 rows x 56 columns]",
      "text/html": "<div>\n<style scoped>\n    .dataframe tbody tr th:only-of-type {\n        vertical-align: middle;\n    }\n\n    .dataframe tbody tr th {\n        vertical-align: top;\n    }\n\n    .dataframe thead th {\n        text-align: right;\n    }\n</style>\n<table border=\"1\" class=\"dataframe\">\n  <thead>\n    <tr style=\"text-align: right;\">\n      <th></th>\n      <th>file_exploit_time</th>\n      <th>current_time</th>\n      <th>UnseenARGS</th>\n      <th>UnseenSC</th>\n      <th>Return</th>\n      <th>Freq</th>\n      <th>SC Max Size 0</th>\n      <th>SC Max Size 1</th>\n      <th>SC Max Size 2</th>\n      <th>SC Max Size 3</th>\n      <th>...</th>\n      <th>26</th>\n      <th>27</th>\n      <th>28</th>\n      <th>29</th>\n      <th>30</th>\n      <th>31</th>\n      <th>32</th>\n      <th>33</th>\n      <th>34</th>\n      <th>35</th>\n    </tr>\n  </thead>\n  <tbody>\n    <tr>\n      <th>0</th>\n      <td>None</td>\n      <td>1.631259e+09</td>\n      <td>False</td>\n      <td>False</td>\n      <td>False</td>\n      <td>False</td>\n      <td>False</td>\n      <td>False</td>\n      <td>False</td>\n      <td>False</td>\n      <td>...</td>\n      <td>3.090912</td>\n      <td>46.670227</td>\n      <td>5.815175e+00</td>\n      <td>1.121090e-01</td>\n      <td>4.706789e-03</td>\n      <td>7.994031e-03</td>\n      <td>NaN</td>\n      <td>NaN</td>\n      <td>NaN</td>\n      <td>NaN</td>\n    </tr>\n    <tr>\n      <th>1</th>\n      <td>None</td>\n      <td>1.631259e+09</td>\n      <td>False</td>\n      <td>False</td>\n      <td>False</td>\n      <td>False</td>\n      <td>False</td>\n      <td>False</td>\n      <td>False</td>\n      <td>False</td>\n      <td>...</td>\n      <td>3.090912</td>\n      <td>46.653473</td>\n      <td>5.813091e+00</td>\n      <td>1.120681e-01</td>\n      <td>4.705068e-03</td>\n      <td>7.991762e-03</td>\n      <td>NaN</td>\n      <td>NaN</td>\n      <td>NaN</td>\n      <td>NaN</td>\n    </tr>\n    <tr>\n      <th>2</th>\n      <td>None</td>\n      <td>1.631259e+09</td>\n      <td>False</td>\n      <td>False</td>\n      <td>False</td>\n      <td>False</td>\n      <td>False</td>\n      <td>False</td>\n      <td>False</td>\n      <td>False</td>\n      <td>...</td>\n      <td>3.090912</td>\n      <td>46.645279</td>\n      <td>5.812071e+00</td>\n      <td>1.120481e-01</td>\n      <td>4.704227e-03</td>\n      <td>7.990648e-03</td>\n      <td>NaN</td>\n      <td>NaN</td>\n      <td>NaN</td>\n      <td>NaN</td>\n    </tr>\n    <tr>\n      <th>3</th>\n      <td>None</td>\n      <td>1.631259e+09</td>\n      <td>False</td>\n      <td>False</td>\n      <td>True</td>\n      <td>False</td>\n      <td>True</td>\n      <td>False</td>\n      <td>False</td>\n      <td>True</td>\n      <td>...</td>\n      <td>0.041077</td>\n      <td>0.004557</td>\n      <td>7.419118e-04</td>\n      <td>1.933832e-05</td>\n      <td>8.693327e-07</td>\n      <td>6.167709e-09</td>\n      <td>NaN</td>\n      <td>NaN</td>\n      <td>NaN</td>\n      <td>NaN</td>\n    </tr>\n    <tr>\n      <th>4</th>\n      <td>None</td>\n      <td>1.631259e+09</td>\n      <td>True</td>\n      <td>False</td>\n      <td>True</td>\n      <td>True</td>\n      <td>True</td>\n      <td>True</td>\n      <td>True</td>\n      <td>False</td>\n      <td>...</td>\n      <td>0.000024</td>\n      <td>0.000009</td>\n      <td>2.831175e-07</td>\n      <td>5.638805e-10</td>\n      <td>2.395439e-09</td>\n      <td>9.589370e-09</td>\n      <td>NaN</td>\n      <td>NaN</td>\n      <td>NaN</td>\n      <td>NaN</td>\n    </tr>\n    <tr>\n      <th>5</th>\n      <td>None</td>\n      <td>1.631259e+09</td>\n      <td>True</td>\n      <td>False</td>\n      <td>True</td>\n      <td>True</td>\n      <td>True</td>\n      <td>True</td>\n      <td>True</td>\n      <td>False</td>\n      <td>...</td>\n      <td>0.000043</td>\n      <td>0.000011</td>\n      <td>8.647837e-08</td>\n      <td>1.566773e-10</td>\n      <td>2.079609e-09</td>\n      <td>1.032167e-08</td>\n      <td>NaN</td>\n      <td>NaN</td>\n      <td>NaN</td>\n      <td>NaN</td>\n    </tr>\n    <tr>\n      <th>6</th>\n      <td>None</td>\n      <td>1.631259e+09</td>\n      <td>True</td>\n      <td>False</td>\n      <td>True</td>\n      <td>True</td>\n      <td>True</td>\n      <td>True</td>\n      <td>True</td>\n      <td>False</td>\n      <td>...</td>\n      <td>0.000215</td>\n      <td>0.000024</td>\n      <td>1.462899e-07</td>\n      <td>3.057147e-10</td>\n      <td>2.800864e-10</td>\n      <td>1.167681e-08</td>\n      <td>NaN</td>\n      <td>NaN</td>\n      <td>NaN</td>\n      <td>NaN</td>\n    </tr>\n    <tr>\n      <th>7</th>\n      <td>None</td>\n      <td>1.631259e+09</td>\n      <td>True</td>\n      <td>False</td>\n      <td>True</td>\n      <td>True</td>\n      <td>True</td>\n      <td>True</td>\n      <td>True</td>\n      <td>False</td>\n      <td>...</td>\n      <td>0.000215</td>\n      <td>0.000024</td>\n      <td>1.462707e-07</td>\n      <td>3.058976e-10</td>\n      <td>2.800916e-10</td>\n      <td>1.167698e-08</td>\n      <td>NaN</td>\n      <td>NaN</td>\n      <td>NaN</td>\n      <td>NaN</td>\n    </tr>\n    <tr>\n      <th>0</th>\n      <td>None</td>\n      <td>1.631259e+09</td>\n      <td>False</td>\n      <td>False</td>\n      <td>False</td>\n      <td>False</td>\n      <td>False</td>\n      <td>False</td>\n      <td>False</td>\n      <td>False</td>\n      <td>...</td>\n      <td>3.090912</td>\n      <td>46.941341</td>\n      <td>5.848217e+00</td>\n      <td>1.130109e-01</td>\n      <td>4.746166e-03</td>\n      <td>7.990560e-03</td>\n      <td>NaN</td>\n      <td>NaN</td>\n      <td>NaN</td>\n      <td>NaN</td>\n    </tr>\n    <tr>\n      <th>1</th>\n      <td>None</td>\n      <td>1.631259e+09</td>\n      <td>False</td>\n      <td>False</td>\n      <td>False</td>\n      <td>False</td>\n      <td>False</td>\n      <td>False</td>\n      <td>False</td>\n      <td>False</td>\n      <td>...</td>\n      <td>3.090912</td>\n      <td>46.940235</td>\n      <td>5.848079e+00</td>\n      <td>1.130081e-01</td>\n      <td>4.746052e-03</td>\n      <td>7.990410e-03</td>\n      <td>NaN</td>\n      <td>NaN</td>\n      <td>NaN</td>\n      <td>NaN</td>\n    </tr>\n    <tr>\n      <th>2</th>\n      <td>None</td>\n      <td>1.631259e+09</td>\n      <td>False</td>\n      <td>False</td>\n      <td>False</td>\n      <td>False</td>\n      <td>False</td>\n      <td>False</td>\n      <td>False</td>\n      <td>False</td>\n      <td>...</td>\n      <td>3.090912</td>\n      <td>53.654217</td>\n      <td>6.684241e+00</td>\n      <td>1.296153e-01</td>\n      <td>5.445142e-03</td>\n      <td>9.011193e-03</td>\n      <td>NaN</td>\n      <td>NaN</td>\n      <td>NaN</td>\n      <td>NaN</td>\n    </tr>\n    <tr>\n      <th>3</th>\n      <td>None</td>\n      <td>1.631259e+09</td>\n      <td>False</td>\n      <td>False</td>\n      <td>False</td>\n      <td>False</td>\n      <td>False</td>\n      <td>False</td>\n      <td>False</td>\n      <td>False</td>\n      <td>...</td>\n      <td>3.090912</td>\n      <td>52.945755</td>\n      <td>6.596694e+00</td>\n      <td>1.274782e-01</td>\n      <td>5.353303e-03</td>\n      <td>8.981177e-03</td>\n      <td>NaN</td>\n      <td>NaN</td>\n      <td>NaN</td>\n      <td>NaN</td>\n    </tr>\n    <tr>\n      <th>4</th>\n      <td>None</td>\n      <td>1.631259e+09</td>\n      <td>False</td>\n      <td>False</td>\n      <td>False</td>\n      <td>False</td>\n      <td>False</td>\n      <td>False</td>\n      <td>False</td>\n      <td>False</td>\n      <td>...</td>\n      <td>3.090912</td>\n      <td>52.715214</td>\n      <td>6.568221e+00</td>\n      <td>1.268229e-01</td>\n      <td>5.325241e-03</td>\n      <td>8.965495e-03</td>\n      <td>NaN</td>\n      <td>NaN</td>\n      <td>NaN</td>\n      <td>NaN</td>\n    </tr>\n    <tr>\n      <th>5</th>\n      <td>None</td>\n      <td>1.631259e+09</td>\n      <td>False</td>\n      <td>False</td>\n      <td>False</td>\n      <td>False</td>\n      <td>False</td>\n      <td>False</td>\n      <td>False</td>\n      <td>False</td>\n      <td>...</td>\n      <td>3.090912</td>\n      <td>52.729050</td>\n      <td>6.569943e+00</td>\n      <td>1.268566e-01</td>\n      <td>5.326658e-03</td>\n      <td>8.967363e-03</td>\n      <td>NaN</td>\n      <td>NaN</td>\n      <td>NaN</td>\n      <td>NaN</td>\n    </tr>\n    <tr>\n      <th>0</th>\n      <td>None</td>\n      <td>1.631232e+09</td>\n      <td>False</td>\n      <td>False</td>\n      <td>False</td>\n      <td>False</td>\n      <td>False</td>\n      <td>False</td>\n      <td>False</td>\n      <td>False</td>\n      <td>...</td>\n      <td>3.090912</td>\n      <td>46.957508</td>\n      <td>5.850306e+00</td>\n      <td>1.130528e-01</td>\n      <td>4.747788e-03</td>\n      <td>7.992458e-03</td>\n      <td>NaN</td>\n      <td>NaN</td>\n      <td>NaN</td>\n      <td>NaN</td>\n    </tr>\n    <tr>\n      <th>1</th>\n      <td>None</td>\n      <td>1.631232e+09</td>\n      <td>False</td>\n      <td>False</td>\n      <td>False</td>\n      <td>False</td>\n      <td>False</td>\n      <td>False</td>\n      <td>False</td>\n      <td>False</td>\n      <td>...</td>\n      <td>3.090912</td>\n      <td>46.969826</td>\n      <td>5.851840e+00</td>\n      <td>1.130829e-01</td>\n      <td>4.749059e-03</td>\n      <td>7.994126e-03</td>\n      <td>NaN</td>\n      <td>NaN</td>\n      <td>NaN</td>\n      <td>NaN</td>\n    </tr>\n    <tr>\n      <th>2</th>\n      <td>None</td>\n      <td>1.631232e+09</td>\n      <td>False</td>\n      <td>False</td>\n      <td>False</td>\n      <td>False</td>\n      <td>False</td>\n      <td>False</td>\n      <td>False</td>\n      <td>False</td>\n      <td>...</td>\n      <td>3.090912</td>\n      <td>46.966331</td>\n      <td>5.851405e+00</td>\n      <td>1.130744e-01</td>\n      <td>4.748698e-03</td>\n      <td>7.993650e-03</td>\n      <td>NaN</td>\n      <td>NaN</td>\n      <td>NaN</td>\n      <td>NaN</td>\n    </tr>\n    <tr>\n      <th>0</th>\n      <td>None</td>\n      <td>1.631228e+09</td>\n      <td>False</td>\n      <td>False</td>\n      <td>False</td>\n      <td>False</td>\n      <td>False</td>\n      <td>False</td>\n      <td>False</td>\n      <td>False</td>\n      <td>...</td>\n      <td>3.090912</td>\n      <td>46.950794</td>\n      <td>5.849394e+00</td>\n      <td>1.130339e-01</td>\n      <td>4.747138e-03</td>\n      <td>7.991846e-03</td>\n      <td>NaN</td>\n      <td>NaN</td>\n      <td>NaN</td>\n      <td>NaN</td>\n    </tr>\n    <tr>\n      <th>1</th>\n      <td>None</td>\n      <td>1.631228e+09</td>\n      <td>False</td>\n      <td>False</td>\n      <td>False</td>\n      <td>False</td>\n      <td>False</td>\n      <td>False</td>\n      <td>False</td>\n      <td>False</td>\n      <td>...</td>\n      <td>3.090912</td>\n      <td>46.951183</td>\n      <td>5.849443e+00</td>\n      <td>1.130349e-01</td>\n      <td>4.747177e-03</td>\n      <td>7.991895e-03</td>\n      <td>NaN</td>\n      <td>NaN</td>\n      <td>NaN</td>\n      <td>NaN</td>\n    </tr>\n    <tr>\n      <th>2</th>\n      <td>None</td>\n      <td>1.631228e+09</td>\n      <td>False</td>\n      <td>False</td>\n      <td>False</td>\n      <td>False</td>\n      <td>False</td>\n      <td>False</td>\n      <td>False</td>\n      <td>False</td>\n      <td>...</td>\n      <td>3.090912</td>\n      <td>46.937080</td>\n      <td>5.847687e+00</td>\n      <td>1.130004e-01</td>\n      <td>4.745726e-03</td>\n      <td>7.989978e-03</td>\n      <td>NaN</td>\n      <td>NaN</td>\n      <td>NaN</td>\n      <td>NaN</td>\n    </tr>\n  </tbody>\n</table>\n<p>20 rows × 56 columns</p>\n</div>"
     },
     "execution_count": 48,
     "metadata": {},
     "output_type": "execute_result"
    }
   ],
   "source": [
    "edf"
   ],
   "metadata": {
    "collapsed": false,
    "ExecuteTime": {
     "end_time": "2024-01-17T06:39:14.139265900Z",
     "start_time": "2024-01-17T06:39:13.961046800Z"
    }
   }
  },
  {
   "cell_type": "code",
   "execution_count": 49,
   "outputs": [
    {
     "data": {
      "text/plain": "0    1.631259e+09\n0    1.631259e+09\n0    1.631232e+09\n0    1.631228e+09\nName: current_time, dtype: float64"
     },
     "execution_count": 49,
     "metadata": {},
     "output_type": "execute_result"
    }
   ],
   "source": [
    "edf['current_time'][0]"
   ],
   "metadata": {
    "collapsed": false,
    "ExecuteTime": {
     "end_time": "2024-01-17T06:39:14.140290300Z",
     "start_time": "2024-01-17T06:39:13.992961800Z"
    }
   }
  },
  {
   "cell_type": "code",
   "execution_count": 50,
   "outputs": [],
   "source": [
    "from urllib.parse import urlparse\n",
    "from string import digits\n",
    "def process_path(file_path_i):\n",
    "    PATH_LENGTH = 3\n",
    "    if \"(\" in file_path_i and \")\" in file_path_i:\n",
    "        file_path_between_par = file_path_i[file_path_i.find(\"(\") + 1:file_path_i.find(\")\")]\n",
    "        file_path_before_par = file_path_i[:file_path_i.find(\"(\")]\n",
    "        file_path_max = max([file_path_between_par, file_path_before_par], key=len)\n",
    "\n",
    "        if file_path_i.count(\"/\") > PATH_LENGTH:\n",
    "            file_path_min = min([file_path_between_par, file_path_before_par], key=len)\n",
    "            file_path_i = file_path_max.replace(file_path_min, \"\")\n",
    "        else:\n",
    "            file_path_i = file_path_max\n",
    "\n",
    "    else:\n",
    "        if file_path_i.count(\"/\") > PATH_LENGTH:\n",
    "            full_path = urlparse(file_path_i)\n",
    "            file_path_i = os.path.dirname(full_path.path)\n",
    "\n",
    "    processed_file_path = file_path_i.rsplit('/')\n",
    "    path_last_element = processed_file_path[-1]\n",
    "    if '>' in processed_file_path[0]:\n",
    "        processed_file_path[0] = ''\n",
    "\n",
    "    # we clean the path from random characters and numbers\n",
    "    if path_last_element.islower():\n",
    "        processed_file_path[-1] = path_last_element.translate({ord(k): None for k in digits})\n",
    "        processed_file_paths = '/'.join(processed_file_path)\n",
    "    else:\n",
    "        processed_file_paths = '/'.join(processed_file_path[:-1])\n",
    "\n",
    "    return processed_file_paths"
   ],
   "metadata": {
    "collapsed": false,
    "ExecuteTime": {
     "end_time": "2024-01-17T06:39:14.140290300Z",
     "start_time": "2024-01-17T06:39:14.013905500Z"
    }
   }
  },
  {
   "cell_type": "code",
   "execution_count": 51,
   "outputs": [],
   "source": [
    "path = '/usr/lib/local/file/'\n",
    "tmp = path.split('/')"
   ],
   "metadata": {
    "collapsed": false,
    "ExecuteTime": {
     "end_time": "2024-01-17T06:39:14.140290300Z",
     "start_time": "2024-01-17T06:39:14.024876800Z"
    }
   }
  },
  {
   "cell_type": "code",
   "execution_count": 52,
   "outputs": [
    {
     "data": {
      "text/plain": "['', 'usr', 'lib', 'local', 'file', '']"
     },
     "execution_count": 52,
     "metadata": {},
     "output_type": "execute_result"
    }
   ],
   "source": [
    "tmp"
   ],
   "metadata": {
    "collapsed": false,
    "ExecuteTime": {
     "end_time": "2024-01-17T06:39:14.140290300Z",
     "start_time": "2024-01-17T06:39:14.040833200Z"
    }
   }
  },
  {
   "cell_type": "code",
   "execution_count": 52,
   "outputs": [],
   "source": [],
   "metadata": {
    "collapsed": false,
    "ExecuteTime": {
     "end_time": "2024-01-17T06:39:14.140290300Z",
     "start_time": "2024-01-17T06:39:14.054796100Z"
    }
   }
  }
 ],
 "metadata": {
  "kernelspec": {
   "name": "ids",
   "language": "python",
   "display_name": "ids"
  },
  "language_info": {
   "codemirror_mode": {
    "name": "ipython",
    "version": 2
   },
   "file_extension": ".py",
   "mimetype": "text/x-python",
   "name": "python",
   "nbconvert_exporter": "python",
   "pygments_lexer": "ipython2",
   "version": "2.7.6"
  }
 },
 "nbformat": 4,
 "nbformat_minor": 0
}
