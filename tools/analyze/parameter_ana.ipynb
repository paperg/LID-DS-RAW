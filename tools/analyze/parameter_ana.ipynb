{
 "cells": [
  {
   "cell_type": "code",
   "execution_count": 28,
   "metadata": {
    "collapsed": true,
    "ExecuteTime": {
     "end_time": "2023-11-13T08:07:56.970998900Z",
     "start_time": "2023-11-13T08:07:56.952049700Z"
    }
   },
   "outputs": [],
   "source": [
    "import numpy as np\n",
    "import matplotlib.pyplot as plt\n",
    "from rich.table import Table\n",
    "from rich import print as rptint\n",
    "import json\n",
    "import os\n",
    "import pandas as pd\n",
    "from string import digits\n",
    "\n",
    "scenario_name = \"CWE-89-SQL-injection\"\n",
    "TIME_PERIOD = 1\n",
    "TIME_INTERVAL = '1MS'\n",
    "save_file_path = os.path.join('K:/hids/LID-DS-master/tools/out', scenario_name)"
   ]
  },
  {
   "cell_type": "code",
   "execution_count": 11,
   "outputs": [
    {
     "data": {
      "text/plain": "  syscall DIR                                      RET       ARGS1\n0   write   >  fd=5(<f>/service/upload/image_0456.eps)  size=15101",
      "text/html": "<div>\n<style scoped>\n    .dataframe tbody tr th:only-of-type {\n        vertical-align: middle;\n    }\n\n    .dataframe tbody tr th {\n        vertical-align: top;\n    }\n\n    .dataframe thead th {\n        text-align: right;\n    }\n</style>\n<table border=\"1\" class=\"dataframe\">\n  <thead>\n    <tr style=\"text-align: right;\">\n      <th></th>\n      <th>syscall</th>\n      <th>DIR</th>\n      <th>RET</th>\n      <th>ARGS1</th>\n    </tr>\n  </thead>\n  <tbody>\n    <tr>\n      <th>0</th>\n      <td>write</td>\n      <td>&gt;</td>\n      <td>fd=5(&lt;f&gt;/service/upload/image_0456.eps)</td>\n      <td>size=15101</td>\n    </tr>\n  </tbody>\n</table>\n</div>"
     },
     "execution_count": 11,
     "metadata": {},
     "output_type": "execute_result"
    }
   ],
   "source": [
    "\n"
   ],
   "metadata": {
    "collapsed": false,
    "ExecuteTime": {
     "end_time": "2023-11-13T07:57:08.221770200Z",
     "start_time": "2023-11-13T07:57:08.194841200Z"
    }
   }
  },
  {
   "cell_type": "markdown",
   "source": [
    "获取数据"
   ],
   "metadata": {
    "collapsed": false
   }
  },
  {
   "cell_type": "code",
   "execution_count": 2,
   "outputs": [],
   "source": [
    "test_normal_df = pd.read_pickle(os.path.join(save_file_path,  'DF_test_normal.pkl'))\n",
    "test_exploit_df = pd.read_pickle(os.path.join(save_file_path, 'DF_test_exploit.pkl'))"
   ],
   "metadata": {
    "collapsed": false,
    "ExecuteTime": {
     "end_time": "2023-07-03T01:55:04.770473200Z",
     "start_time": "2023-07-03T01:55:03.618525100Z"
    }
   }
  },
  {
   "cell_type": "code",
   "execution_count": 15,
   "outputs": [],
   "source": [
    "has_arg_df = test_normal_df[test_normal_df['ARGS'].isna() == False]"
   ],
   "metadata": {
    "collapsed": false,
    "ExecuteTime": {
     "end_time": "2023-07-03T01:59:53.318803900Z",
     "start_time": "2023-07-03T01:59:53.048522Z"
    }
   }
  },
  {
   "cell_type": "code",
   "execution_count": 19,
   "outputs": [
    {
     "data": {
      "text/plain": "                        time  UserID      PID ProcessName      TID syscall  \\\n0        1631083490806378308     101  3861861      mysqld  3862354  select   \n2        1631083490806627721     101  3861861      mysqld  3862355  select   \n4        1631083490812467214     101  3861861      mysqld  3862357  select   \n26       1631083491296433028      33  3862925     apache2  3862925    poll   \n27       1631083491296435798      33  3862925     apache2  3862925    read   \n...                      ...     ...      ...         ...      ...     ...   \n3857206  1631054137372659043      33  3256522     apache2  3256522  writev   \n3857207  1631054137372663744      33  3256522     apache2  3256522   write   \n3857208  1631054137372668967      33  3256522     apache2  3256522   write   \n3857211  1631054137372673413      33  3256522     apache2  3256522    poll   \n3857220  1631054137653835148       0  3256458     apache2  3256458  select   \n\n        DIR                                               ARGS  \n0         <                                              res=0  \n2         <                                              res=0  \n4         <                                              res=0  \n26        <                                              res=1  \n27        >  fd=10(<4t>192.168.128.2:36280->192.168.128.10:80)  \n...      ..                                                ...  \n3857206   <                                           res=2461  \n3857207   >               fd=7(<f>/var/log/apache2/access.log)  \n3857208   <                                            res=257  \n3857211   >                                          fds=10:41  \n3857220   <                                              res=0  \n\n[3038001 rows x 8 columns]",
      "text/html": "<div>\n<style scoped>\n    .dataframe tbody tr th:only-of-type {\n        vertical-align: middle;\n    }\n\n    .dataframe tbody tr th {\n        vertical-align: top;\n    }\n\n    .dataframe thead th {\n        text-align: right;\n    }\n</style>\n<table border=\"1\" class=\"dataframe\">\n  <thead>\n    <tr style=\"text-align: right;\">\n      <th></th>\n      <th>time</th>\n      <th>UserID</th>\n      <th>PID</th>\n      <th>ProcessName</th>\n      <th>TID</th>\n      <th>syscall</th>\n      <th>DIR</th>\n      <th>ARGS</th>\n    </tr>\n  </thead>\n  <tbody>\n    <tr>\n      <th>0</th>\n      <td>1631083490806378308</td>\n      <td>101</td>\n      <td>3861861</td>\n      <td>mysqld</td>\n      <td>3862354</td>\n      <td>select</td>\n      <td>&lt;</td>\n      <td>res=0</td>\n    </tr>\n    <tr>\n      <th>2</th>\n      <td>1631083490806627721</td>\n      <td>101</td>\n      <td>3861861</td>\n      <td>mysqld</td>\n      <td>3862355</td>\n      <td>select</td>\n      <td>&lt;</td>\n      <td>res=0</td>\n    </tr>\n    <tr>\n      <th>4</th>\n      <td>1631083490812467214</td>\n      <td>101</td>\n      <td>3861861</td>\n      <td>mysqld</td>\n      <td>3862357</td>\n      <td>select</td>\n      <td>&lt;</td>\n      <td>res=0</td>\n    </tr>\n    <tr>\n      <th>26</th>\n      <td>1631083491296433028</td>\n      <td>33</td>\n      <td>3862925</td>\n      <td>apache2</td>\n      <td>3862925</td>\n      <td>poll</td>\n      <td>&lt;</td>\n      <td>res=1</td>\n    </tr>\n    <tr>\n      <th>27</th>\n      <td>1631083491296435798</td>\n      <td>33</td>\n      <td>3862925</td>\n      <td>apache2</td>\n      <td>3862925</td>\n      <td>read</td>\n      <td>&gt;</td>\n      <td>fd=10(&lt;4t&gt;192.168.128.2:36280-&gt;192.168.128.10:80)</td>\n    </tr>\n    <tr>\n      <th>...</th>\n      <td>...</td>\n      <td>...</td>\n      <td>...</td>\n      <td>...</td>\n      <td>...</td>\n      <td>...</td>\n      <td>...</td>\n      <td>...</td>\n    </tr>\n    <tr>\n      <th>3857206</th>\n      <td>1631054137372659043</td>\n      <td>33</td>\n      <td>3256522</td>\n      <td>apache2</td>\n      <td>3256522</td>\n      <td>writev</td>\n      <td>&lt;</td>\n      <td>res=2461</td>\n    </tr>\n    <tr>\n      <th>3857207</th>\n      <td>1631054137372663744</td>\n      <td>33</td>\n      <td>3256522</td>\n      <td>apache2</td>\n      <td>3256522</td>\n      <td>write</td>\n      <td>&gt;</td>\n      <td>fd=7(&lt;f&gt;/var/log/apache2/access.log)</td>\n    </tr>\n    <tr>\n      <th>3857208</th>\n      <td>1631054137372668967</td>\n      <td>33</td>\n      <td>3256522</td>\n      <td>apache2</td>\n      <td>3256522</td>\n      <td>write</td>\n      <td>&lt;</td>\n      <td>res=257</td>\n    </tr>\n    <tr>\n      <th>3857211</th>\n      <td>1631054137372673413</td>\n      <td>33</td>\n      <td>3256522</td>\n      <td>apache2</td>\n      <td>3256522</td>\n      <td>poll</td>\n      <td>&gt;</td>\n      <td>fds=10:41</td>\n    </tr>\n    <tr>\n      <th>3857220</th>\n      <td>1631054137653835148</td>\n      <td>0</td>\n      <td>3256458</td>\n      <td>apache2</td>\n      <td>3256458</td>\n      <td>select</td>\n      <td>&lt;</td>\n      <td>res=0</td>\n    </tr>\n  </tbody>\n</table>\n<p>3038001 rows × 8 columns</p>\n</div>"
     },
     "execution_count": 19,
     "metadata": {},
     "output_type": "execute_result"
    }
   ],
   "source": [
    "has_arg_df"
   ],
   "metadata": {
    "collapsed": false,
    "ExecuteTime": {
     "end_time": "2023-07-03T02:00:25.617946200Z",
     "start_time": "2023-07-03T02:00:25.595008400Z"
    }
   }
  },
  {
   "cell_type": "code",
   "execution_count": 40,
   "outputs": [
    {
     "name": "stdout",
     "output_type": "stream",
     "text": [
      "file_path_i 5(<f>/service/upload/image_0456.eps)\n",
      "processed_file_paths /service/upload/image_.eps\n",
      "file_path_i 10(<f>/etc/nginx/html/index.html)\n",
      "processed_file_paths /etc/nginx/html/index.html\n",
      "file_path_i 46(<d>/usr/src/blog/db/migrate)\n",
      "processed_file_paths /usr/src/blog/db/migrate\n",
      "file_path_i /usr\n",
      "processed_file_paths /usr\n"
     ]
    },
    {
     "data": {
      "text/plain": "0    /service/upload/image_.eps\n1    /etc/nginx/html/index.html\n2      /usr/src/blog/db/migrate\n3                          /usr\ndtype: object"
     },
     "execution_count": 40,
     "metadata": {},
     "output_type": "execute_result"
    }
   ],
   "source": [
    "\n",
    "def process_path(file_path_i):\n",
    "    PATH_LENGTH = 3\n",
    "    print(f'file_path_i {file_path_i}')\n",
    "    if \"(\" in file_path_i and \")\" in file_path_i:\n",
    "        file_path_between_par = file_path_i[file_path_i.find(\"(\") + 1:file_path_i.find(\")\")]\n",
    "        file_path_before_par = file_path_i[:file_path_i.find(\"(\")]\n",
    "        file_path_max = max([file_path_between_par, file_path_before_par], key=len)\n",
    "\n",
    "        if file_path_i.count(\"/\") > PATH_LENGTH:\n",
    "            file_path_min = min([file_path_between_par, file_path_before_par], key=len)\n",
    "            file_path_i = file_path_max.replace(file_path_min, \"\")\n",
    "        else:\n",
    "            file_path_i = file_path_max\n",
    "\n",
    "    else:\n",
    "        if file_path_i.count(\"/\") > PATH_LENGTH:\n",
    "            full_path = urlparse(file_path_i)\n",
    "            file_path_i = os.path.dirname(full_path.path)\n",
    "\n",
    "    processed_file_path = file_path_i.rsplit('/')\n",
    "    path_last_element = processed_file_path[-1]\n",
    "\n",
    "    if '>' in processed_file_path[0]:\n",
    "        processed_file_path[0] = ''\n",
    "\n",
    "    # we clean the path from random characters and numbers\n",
    "    if path_last_element.islower():\n",
    "        processed_file_path[-1] = path_last_element.translate({ord(k): None for k in digits})\n",
    "        processed_file_paths = '/'.join(processed_file_path)\n",
    "    else:\n",
    "        processed_file_paths = '/'.join(processed_file_path[:-1])\n",
    "\n",
    "    print(f'processed_file_paths {processed_file_paths}')\n",
    "    return processed_file_paths\n",
    "\n",
    "getfile_from_in_ret_list = ['write', 'writev', 'pwrite', 'pread', 'close', 'getdents64', 'getdents', 'ioctl', 'execve', 'lseek', 'fcntl', 'dup', 'flock', 'fstat']\n",
    "getfile_from_out_ret_list = ['openat']\n",
    "getfile_from_arg1_list = ['lstat', 'chmod', 'open', 'clone', 'vfork', 'access', 'stat', 'unlink', 'getcwd', 'mkdir', 'rename', 'chdir']\n",
    "\n",
    "def get_filepath(row):\n",
    "    syscall = row['syscall']\n",
    "    if row['DIR'] == '>':\n",
    "        if syscall in getfile_from_in_ret_list:\n",
    "            _, file_path = row['RET'].split('=')\n",
    "        elif syscall == 'sendfile':\n",
    "            _, file_path = row['ARGS1'].split('=')\n",
    "        elif syscall == 'mmap':\n",
    "            _, file_path = row['ARGS4'].split('=')\n",
    "        else:\n",
    "            return np.nan\n",
    "    else:\n",
    "        if syscall == 'openat':\n",
    "            _, file_path = row['RET'].split('=')\n",
    "        elif syscall in getfile_from_arg1_list:\n",
    "            _, file_path = row['ARGS1'].split('=')\n",
    "        else:\n",
    "            return np.nan\n",
    "\n",
    "    return process_path(file_path)\n",
    "\n",
    "row = pd.DataFrame(columns=['syscall', 'DIR', 'RET', 'ARGS1'])\n",
    "row.loc[len(row.index)] = ['write','>','fd=5(<f>/service/upload/image_0456.eps)','size=15101']\n",
    "row.loc[len(row.index)] = ['sendfile','>','out_fd=3(<4t>172.24.0.6:48956->172.24.0.7:80)','in_fd=10(<f>/etc/nginx/html/index.html)']\n",
    "row.loc[len(row.index)] = ['openat','<','fd=46(<d>/usr/src/blog/db/migrate)','dirfd=-100(AT_FDCWD)']\n",
    "row.loc[len(row.index)] = ['lstat','<','res=0','path=/usr']\n",
    "row.apply(get_filepath, axis=1, result_type='expand')"
   ],
   "metadata": {
    "collapsed": false,
    "ExecuteTime": {
     "end_time": "2023-11-13T08:20:58.428062100Z",
     "start_time": "2023-11-13T08:20:57.911416700Z"
    }
   }
  },
  {
   "cell_type": "code",
   "execution_count": null,
   "outputs": [],
   "source": [],
   "metadata": {
    "collapsed": false
   }
  }
 ],
 "metadata": {
  "kernelspec": {
   "display_name": "Python 3",
   "language": "python",
   "name": "python3"
  },
  "language_info": {
   "codemirror_mode": {
    "name": "ipython",
    "version": 2
   },
   "file_extension": ".py",
   "mimetype": "text/x-python",
   "name": "python",
   "nbconvert_exporter": "python",
   "pygments_lexer": "ipython2",
   "version": "2.7.6"
  }
 },
 "nbformat": 4,
 "nbformat_minor": 0
}
