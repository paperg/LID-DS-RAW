{
 "cells": [
  {
   "cell_type": "code",
   "execution_count": 1,
   "metadata": {
    "collapsed": true,
    "ExecuteTime": {
     "end_time": "2023-07-02T02:26:45.899675400Z",
     "start_time": "2023-07-02T02:26:45.289922600Z"
    }
   },
   "outputs": [],
   "source": [
    "import numpy as np\n",
    "import matplotlib.pyplot as plt\n",
    "from rich.table import Table\n",
    "from rich import print as rptint\n",
    "import json\n",
    "import os\n",
    "import pandas as pd\n",
    "\n",
    "scenario_name = \"CWE-89-SQL-injection\"\n",
    "TIME_PERIOD = 1\n",
    "TIME_INTERVAL = '1MS'\n",
    "save_file_path = os.path.join('K:/hids/LID-DS-master/tools/out', scenario_name)"
   ]
  },
  {
   "cell_type": "markdown",
   "source": [
    "读取数据"
   ],
   "metadata": {
    "collapsed": false
   }
  },
  {
   "cell_type": "code",
   "execution_count": 2,
   "outputs": [],
   "source": [
    "test_normal_df = pd.read_pickle(os.path.join(save_file_path,  'DF_test_normal.pkl'))\n",
    "test_exploit_df = pd.read_pickle(os.path.join(save_file_path, 'DF_test_exploit.pkl'))"
   ],
   "metadata": {
    "collapsed": false,
    "ExecuteTime": {
     "end_time": "2023-07-02T02:26:48.662291Z",
     "start_time": "2023-07-02T02:26:46.993606300Z"
    }
   }
  },
  {
   "cell_type": "code",
   "execution_count": 9,
   "outputs": [],
   "source": [
    "uid_normal = test_normal_df['UserID']\n",
    "uid_exploit = test_exploit_df['UserID']"
   ],
   "metadata": {
    "collapsed": false,
    "ExecuteTime": {
     "end_time": "2023-07-02T02:28:03.607664600Z",
     "start_time": "2023-07-02T02:28:03.589742300Z"
    }
   }
  },
  {
   "cell_type": "code",
   "execution_count": 10,
   "outputs": [
    {
     "data": {
      "text/plain": "33            2471198\n101           1279315\n3514868         64057\n0               50869\n3515656         20148\n3515659         19652\n4294967295      16950\n3516195          6986\n3515660          6924\n3516474          5966\n3516011          5906\n3516475          5784\n3516196          5592\n3516476          5194\n3516327          4795\n3516470          4643\n3516328          3772\n3516473          3242\n3515657          3211\n3516329          2019\n3516469          2004\n3516472          1962\n3515658          1854\n3516471          1842\n3516326          1526\n3515649           228\nName: UserID, dtype: int64"
     },
     "execution_count": 10,
     "metadata": {},
     "output_type": "execute_result"
    }
   ],
   "source": [
    "uid_normal.value_counts()"
   ],
   "metadata": {
    "collapsed": false,
    "ExecuteTime": {
     "end_time": "2023-07-02T02:28:04.126279200Z",
     "start_time": "2023-07-02T02:28:04.087382300Z"
    }
   }
  },
  {
   "cell_type": "code",
   "execution_count": 11,
   "outputs": [
    {
     "data": {
      "text/plain": "33     1625890\n101     962138\n0         4746\nName: UserID, dtype: int64"
     },
     "execution_count": 11,
     "metadata": {},
     "output_type": "execute_result"
    }
   ],
   "source": [
    "uid_exploit.value_counts()"
   ],
   "metadata": {
    "collapsed": false,
    "ExecuteTime": {
     "end_time": "2023-07-02T02:28:04.503269700Z",
     "start_time": "2023-07-02T02:28:04.472354800Z"
    }
   }
  },
  {
   "cell_type": "markdown",
   "source": [
    "由上图知， UID 正常和异常文件，重合，无区别"
   ],
   "metadata": {
    "collapsed": false
   }
  }
 ],
 "metadata": {
  "kernelspec": {
   "display_name": "Python 3",
   "language": "python",
   "name": "python3"
  },
  "language_info": {
   "codemirror_mode": {
    "name": "ipython",
    "version": 2
   },
   "file_extension": ".py",
   "mimetype": "text/x-python",
   "name": "python",
   "nbconvert_exporter": "python",
   "pygments_lexer": "ipython2",
   "version": "2.7.6"
  }
 },
 "nbformat": 4,
 "nbformat_minor": 0
}
