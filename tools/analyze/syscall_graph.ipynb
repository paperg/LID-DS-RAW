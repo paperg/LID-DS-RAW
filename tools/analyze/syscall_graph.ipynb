{
 "cells": [
  {
   "cell_type": "code",
   "execution_count": 1,
   "metadata": {
    "collapsed": true,
    "ExecuteTime": {
     "end_time": "2023-07-05T12:06:05.207914200Z",
     "start_time": "2023-07-05T12:06:04.601392800Z"
    }
   },
   "outputs": [],
   "source": [
    "import numpy as np\n",
    "import pandas as pd\n",
    "import json\n",
    "import os\n",
    "import zipfile\n",
    "import pickle\n",
    "import networkx as nx"
   ]
  },
  {
   "cell_type": "code",
   "execution_count": 2,
   "outputs": [
    {
     "data": {
      "text/plain": "                       time  UserID      PID ProcessName      TID  \\\n0       1631043631854280356      33  1672460     apache2  1672460   \n1       1631043631854282585      33  1672460     apache2  1672460   \n2       1631043631854284551      33  1672460     apache2  1672460   \n3       1631043631854325118      33  1672460     apache2  1672460   \n4       1631043631854345039      33  1672460     apache2  1672460   \n...                     ...     ...      ...         ...      ...   \n158483  1631043676188163475     101  1672006      mysqld  1672317   \n158484  1631043676297873069       0  1672449     apache2  1672449   \n158485  1631043676297886188       0  1672449     apache2  1672449   \n158486  1631043676297898693       0  1672449     apache2  1672449   \n158487  1631043676297901004       0  1672449     apache2  1672449   \n\n             syscall DIR                                         ARGS  \n0               poll   <                                        res=1  \n1               read   >  fd=10(<4t>172.20.0.3:56904->172.20.0.11:80)  \n2               read   <                                      res=579  \n3               stat   >                                          NaN  \n4               stat   <                                        res=0  \n...              ...  ..                                          ...  \n158483  io_getevents   >                                          NaN  \n158484        select   <                                        res=0  \n158485         wait4   >                                          NaN  \n158486         wait4   <                                          NaN  \n158487        select   >                                          NaN  \n\n[158488 rows x 8 columns]",
      "text/html": "<div>\n<style scoped>\n    .dataframe tbody tr th:only-of-type {\n        vertical-align: middle;\n    }\n\n    .dataframe tbody tr th {\n        vertical-align: top;\n    }\n\n    .dataframe thead th {\n        text-align: right;\n    }\n</style>\n<table border=\"1\" class=\"dataframe\">\n  <thead>\n    <tr style=\"text-align: right;\">\n      <th></th>\n      <th>time</th>\n      <th>UserID</th>\n      <th>PID</th>\n      <th>ProcessName</th>\n      <th>TID</th>\n      <th>syscall</th>\n      <th>DIR</th>\n      <th>ARGS</th>\n    </tr>\n  </thead>\n  <tbody>\n    <tr>\n      <th>0</th>\n      <td>1631043631854280356</td>\n      <td>33</td>\n      <td>1672460</td>\n      <td>apache2</td>\n      <td>1672460</td>\n      <td>poll</td>\n      <td>&lt;</td>\n      <td>res=1</td>\n    </tr>\n    <tr>\n      <th>1</th>\n      <td>1631043631854282585</td>\n      <td>33</td>\n      <td>1672460</td>\n      <td>apache2</td>\n      <td>1672460</td>\n      <td>read</td>\n      <td>&gt;</td>\n      <td>fd=10(&lt;4t&gt;172.20.0.3:56904-&gt;172.20.0.11:80)</td>\n    </tr>\n    <tr>\n      <th>2</th>\n      <td>1631043631854284551</td>\n      <td>33</td>\n      <td>1672460</td>\n      <td>apache2</td>\n      <td>1672460</td>\n      <td>read</td>\n      <td>&lt;</td>\n      <td>res=579</td>\n    </tr>\n    <tr>\n      <th>3</th>\n      <td>1631043631854325118</td>\n      <td>33</td>\n      <td>1672460</td>\n      <td>apache2</td>\n      <td>1672460</td>\n      <td>stat</td>\n      <td>&gt;</td>\n      <td>NaN</td>\n    </tr>\n    <tr>\n      <th>4</th>\n      <td>1631043631854345039</td>\n      <td>33</td>\n      <td>1672460</td>\n      <td>apache2</td>\n      <td>1672460</td>\n      <td>stat</td>\n      <td>&lt;</td>\n      <td>res=0</td>\n    </tr>\n    <tr>\n      <th>...</th>\n      <td>...</td>\n      <td>...</td>\n      <td>...</td>\n      <td>...</td>\n      <td>...</td>\n      <td>...</td>\n      <td>...</td>\n      <td>...</td>\n    </tr>\n    <tr>\n      <th>158483</th>\n      <td>1631043676188163475</td>\n      <td>101</td>\n      <td>1672006</td>\n      <td>mysqld</td>\n      <td>1672317</td>\n      <td>io_getevents</td>\n      <td>&gt;</td>\n      <td>NaN</td>\n    </tr>\n    <tr>\n      <th>158484</th>\n      <td>1631043676297873069</td>\n      <td>0</td>\n      <td>1672449</td>\n      <td>apache2</td>\n      <td>1672449</td>\n      <td>select</td>\n      <td>&lt;</td>\n      <td>res=0</td>\n    </tr>\n    <tr>\n      <th>158485</th>\n      <td>1631043676297886188</td>\n      <td>0</td>\n      <td>1672449</td>\n      <td>apache2</td>\n      <td>1672449</td>\n      <td>wait4</td>\n      <td>&gt;</td>\n      <td>NaN</td>\n    </tr>\n    <tr>\n      <th>158486</th>\n      <td>1631043676297898693</td>\n      <td>0</td>\n      <td>1672449</td>\n      <td>apache2</td>\n      <td>1672449</td>\n      <td>wait4</td>\n      <td>&lt;</td>\n      <td>NaN</td>\n    </tr>\n    <tr>\n      <th>158487</th>\n      <td>1631043676297901004</td>\n      <td>0</td>\n      <td>1672449</td>\n      <td>apache2</td>\n      <td>1672449</td>\n      <td>select</td>\n      <td>&gt;</td>\n      <td>NaN</td>\n    </tr>\n  </tbody>\n</table>\n<p>158488 rows × 8 columns</p>\n</div>"
     },
     "execution_count": 2,
     "metadata": {},
     "output_type": "execute_result"
    }
   ],
   "source": [
    "\n",
    "with zipfile.ZipFile('K:/hids/dataSet/CWE-89-SQL-injection/test/normal/handsome_herschel_1484.zip', 'r') as zipped:\n",
    "    with zipped.open('handsome_herschel_1484' + '.sc') as unzipped:\n",
    "        df = pd.read_csv(unzipped, delim_whitespace = True, index_col=False, names = ['time','UserID', 'PID', 'ProcessName', 'TID', 'syscall', 'DIR', 'ARGS'])"
   ],
   "metadata": {
    "collapsed": false,
    "ExecuteTime": {
     "end_time": "2023-07-05T12:04:28.243209700Z",
     "start_time": "2023-07-05T12:04:28.202320200Z"
    }
   }
  },
  {
   "cell_type": "code",
   "execution_count": null,
   "outputs": [],
   "source": [],
   "metadata": {
    "collapsed": false
   }
  }
 ],
 "metadata": {
  "kernelspec": {
   "display_name": "Python 3",
   "language": "python",
   "name": "python3"
  },
  "language_info": {
   "codemirror_mode": {
    "name": "ipython",
    "version": 2
   },
   "file_extension": ".py",
   "mimetype": "text/x-python",
   "name": "python",
   "nbconvert_exporter": "python",
   "pygments_lexer": "ipython2",
   "version": "2.7.6"
  }
 },
 "nbformat": 4,
 "nbformat_minor": 0
}
