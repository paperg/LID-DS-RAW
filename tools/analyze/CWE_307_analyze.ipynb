{
 "cells": [
  {
   "cell_type": "code",
   "execution_count": 59,
   "metadata": {
    "collapsed": true,
    "ExecuteTime": {
     "end_time": "2023-08-01T05:10:40.782662300Z",
     "start_time": "2023-08-01T05:10:40.779671100Z"
    }
   },
   "outputs": [],
   "source": [
    "import numpy as np\n",
    "import pandas as pd\n",
    "import json\n",
    "import os\n",
    "import matplotlib.pyplot as plt\n",
    "import glob\n"
   ]
  },
  {
   "cell_type": "code",
   "execution_count": 93,
   "outputs": [],
   "source": [
    "err_files = glob.glob('K:\\\\hids\\\\dataSet\\\\GP_DATA_DIR\\\\dataAnalyze\\\\*.pkl')\n",
    "nor_files = glob.glob('K:\\\\hids\\\\dataSet\\\\GP_DATA_DIR\\\\dataAnalyze\\\\Nor\\\\*.pkl')\n",
    "edf = pd.DataFrame(columns =['file_exploit_time', 'current_time'] + ['Time_result', 'PID_SW_Freq', 'PID_Number', 'TID_SW_Freq', 'TID_Number', 'UnseenSC', 'SCTotal'] + [i for i in range(45)])\n",
    "ndf = pd.DataFrame(columns =['file_exploit_time', 'current_time'] + ['Time_result', 'PID_SW_Freq', 'PID_Number', 'TID_SW_Freq', 'TID_Number', 'UnseenSC', 'SCTotal'] + [i for i in range(45)])"
   ],
   "metadata": {
    "collapsed": false,
    "ExecuteTime": {
     "end_time": "2023-08-01T06:29:11.836645200Z",
     "start_time": "2023-08-01T06:29:11.826607100Z"
    }
   }
  },
  {
   "cell_type": "code",
   "execution_count": 94,
   "outputs": [],
   "source": [
    "for file in err_files:\n",
    "    df_tmp = pd.read_pickle(file)\n",
    "    edf = edf.append(df_tmp)\n",
    "\n",
    "for file in nor_files:\n",
    "    df_tmp = pd.read_pickle(file)\n",
    "    ndf = ndf.append(df_tmp)"
   ],
   "metadata": {
    "collapsed": false,
    "ExecuteTime": {
     "end_time": "2023-08-01T06:29:12.533760600Z",
     "start_time": "2023-08-01T06:29:12.279429500Z"
    }
   }
  },
  {
   "cell_type": "code",
   "execution_count": 95,
   "outputs": [
    {
     "data": {
      "text/plain": "    file_exploit_time  current_time  PID_SW_Freq  PID_Number  TID_SW_Freq  \\\n0        1.631079e+09  1.631079e+09          1.0         1.0          1.0   \n1        1.631079e+09  1.631079e+09          1.0         1.0          1.0   \n2        1.631079e+09  1.631079e+09          1.0         1.0          1.0   \n3        1.631079e+09  1.631079e+09          1.0         1.0          1.0   \n4        1.631079e+09  1.631079e+09          1.0         1.0          1.0   \n..                ...           ...          ...         ...          ...   \n27       1.631078e+09  1.631078e+09          1.0         1.0          1.0   \n28       1.631078e+09  1.631078e+09          1.0         1.0          1.0   \n29       1.631078e+09  1.631078e+09          1.0         1.0          1.0   \n30       1.631078e+09  1.631078e+09          1.0         1.0          1.0   \n31       1.631078e+09  1.631078e+09          1.0         1.0          1.0   \n\n    TID_Number  UnseenSC  SCTotal        39        40        41        42  \\\n0          1.0       1.0      1.0  0.000026  0.000002  0.000160  0.000023   \n1          1.0       1.0      1.0  0.000035  0.000004  0.000166  0.000027   \n2          1.0       1.0      1.0  0.000001  0.000002  0.000150  0.000005   \n3          1.0       1.0      1.0  0.000035  0.000003  0.000167  0.000025   \n4          1.0       1.0      1.0  0.000030  0.000002  0.000164  0.000025   \n..         ...       ...      ...       ...       ...       ...       ...   \n27         1.0       1.0      1.0  0.000024  0.000001  0.000164  0.000023   \n28         1.0       1.0      1.0  0.000033  0.000003  0.000166  0.000026   \n29         1.0       1.0      1.0  0.000032  0.000003  0.000165  0.000027   \n30         1.0       1.0      1.0  0.000040  0.000003  0.000160  0.000022   \n31         1.0       1.0      1.0  0.000037  0.000003  0.000158  0.000023   \n\n              43            44  \n0   2.586645e-10  2.395543e-04  \n1   1.912845e-08  2.850353e-06  \n2   3.532290e-07  1.350840e-02  \n3   3.937270e-09  3.352184e-05  \n4   6.675723e-10  2.060745e-04  \n..           ...           ...  \n27  4.220940e-10  6.574849e-04  \n28  1.020460e-08  9.404121e-07  \n29  1.002328e-08  1.061023e-06  \n30  1.312268e-08  4.663640e-07  \n31  1.289488e-08  3.557095e-07  \n\n[2867 rows x 14 columns]",
      "text/html": "<div>\n<style scoped>\n    .dataframe tbody tr th:only-of-type {\n        vertical-align: middle;\n    }\n\n    .dataframe tbody tr th {\n        vertical-align: top;\n    }\n\n    .dataframe thead th {\n        text-align: right;\n    }\n</style>\n<table border=\"1\" class=\"dataframe\">\n  <thead>\n    <tr style=\"text-align: right;\">\n      <th></th>\n      <th>file_exploit_time</th>\n      <th>current_time</th>\n      <th>PID_SW_Freq</th>\n      <th>PID_Number</th>\n      <th>TID_SW_Freq</th>\n      <th>TID_Number</th>\n      <th>UnseenSC</th>\n      <th>SCTotal</th>\n      <th>39</th>\n      <th>40</th>\n      <th>41</th>\n      <th>42</th>\n      <th>43</th>\n      <th>44</th>\n    </tr>\n  </thead>\n  <tbody>\n    <tr>\n      <th>0</th>\n      <td>1.631079e+09</td>\n      <td>1.631079e+09</td>\n      <td>1.0</td>\n      <td>1.0</td>\n      <td>1.0</td>\n      <td>1.0</td>\n      <td>1.0</td>\n      <td>1.0</td>\n      <td>0.000026</td>\n      <td>0.000002</td>\n      <td>0.000160</td>\n      <td>0.000023</td>\n      <td>2.586645e-10</td>\n      <td>2.395543e-04</td>\n    </tr>\n    <tr>\n      <th>1</th>\n      <td>1.631079e+09</td>\n      <td>1.631079e+09</td>\n      <td>1.0</td>\n      <td>1.0</td>\n      <td>1.0</td>\n      <td>1.0</td>\n      <td>1.0</td>\n      <td>1.0</td>\n      <td>0.000035</td>\n      <td>0.000004</td>\n      <td>0.000166</td>\n      <td>0.000027</td>\n      <td>1.912845e-08</td>\n      <td>2.850353e-06</td>\n    </tr>\n    <tr>\n      <th>2</th>\n      <td>1.631079e+09</td>\n      <td>1.631079e+09</td>\n      <td>1.0</td>\n      <td>1.0</td>\n      <td>1.0</td>\n      <td>1.0</td>\n      <td>1.0</td>\n      <td>1.0</td>\n      <td>0.000001</td>\n      <td>0.000002</td>\n      <td>0.000150</td>\n      <td>0.000005</td>\n      <td>3.532290e-07</td>\n      <td>1.350840e-02</td>\n    </tr>\n    <tr>\n      <th>3</th>\n      <td>1.631079e+09</td>\n      <td>1.631079e+09</td>\n      <td>1.0</td>\n      <td>1.0</td>\n      <td>1.0</td>\n      <td>1.0</td>\n      <td>1.0</td>\n      <td>1.0</td>\n      <td>0.000035</td>\n      <td>0.000003</td>\n      <td>0.000167</td>\n      <td>0.000025</td>\n      <td>3.937270e-09</td>\n      <td>3.352184e-05</td>\n    </tr>\n    <tr>\n      <th>4</th>\n      <td>1.631079e+09</td>\n      <td>1.631079e+09</td>\n      <td>1.0</td>\n      <td>1.0</td>\n      <td>1.0</td>\n      <td>1.0</td>\n      <td>1.0</td>\n      <td>1.0</td>\n      <td>0.000030</td>\n      <td>0.000002</td>\n      <td>0.000164</td>\n      <td>0.000025</td>\n      <td>6.675723e-10</td>\n      <td>2.060745e-04</td>\n    </tr>\n    <tr>\n      <th>...</th>\n      <td>...</td>\n      <td>...</td>\n      <td>...</td>\n      <td>...</td>\n      <td>...</td>\n      <td>...</td>\n      <td>...</td>\n      <td>...</td>\n      <td>...</td>\n      <td>...</td>\n      <td>...</td>\n      <td>...</td>\n      <td>...</td>\n      <td>...</td>\n    </tr>\n    <tr>\n      <th>27</th>\n      <td>1.631078e+09</td>\n      <td>1.631078e+09</td>\n      <td>1.0</td>\n      <td>1.0</td>\n      <td>1.0</td>\n      <td>1.0</td>\n      <td>1.0</td>\n      <td>1.0</td>\n      <td>0.000024</td>\n      <td>0.000001</td>\n      <td>0.000164</td>\n      <td>0.000023</td>\n      <td>4.220940e-10</td>\n      <td>6.574849e-04</td>\n    </tr>\n    <tr>\n      <th>28</th>\n      <td>1.631078e+09</td>\n      <td>1.631078e+09</td>\n      <td>1.0</td>\n      <td>1.0</td>\n      <td>1.0</td>\n      <td>1.0</td>\n      <td>1.0</td>\n      <td>1.0</td>\n      <td>0.000033</td>\n      <td>0.000003</td>\n      <td>0.000166</td>\n      <td>0.000026</td>\n      <td>1.020460e-08</td>\n      <td>9.404121e-07</td>\n    </tr>\n    <tr>\n      <th>29</th>\n      <td>1.631078e+09</td>\n      <td>1.631078e+09</td>\n      <td>1.0</td>\n      <td>1.0</td>\n      <td>1.0</td>\n      <td>1.0</td>\n      <td>1.0</td>\n      <td>1.0</td>\n      <td>0.000032</td>\n      <td>0.000003</td>\n      <td>0.000165</td>\n      <td>0.000027</td>\n      <td>1.002328e-08</td>\n      <td>1.061023e-06</td>\n    </tr>\n    <tr>\n      <th>30</th>\n      <td>1.631078e+09</td>\n      <td>1.631078e+09</td>\n      <td>1.0</td>\n      <td>1.0</td>\n      <td>1.0</td>\n      <td>1.0</td>\n      <td>1.0</td>\n      <td>1.0</td>\n      <td>0.000040</td>\n      <td>0.000003</td>\n      <td>0.000160</td>\n      <td>0.000022</td>\n      <td>1.312268e-08</td>\n      <td>4.663640e-07</td>\n    </tr>\n    <tr>\n      <th>31</th>\n      <td>1.631078e+09</td>\n      <td>1.631078e+09</td>\n      <td>1.0</td>\n      <td>1.0</td>\n      <td>1.0</td>\n      <td>1.0</td>\n      <td>1.0</td>\n      <td>1.0</td>\n      <td>0.000037</td>\n      <td>0.000003</td>\n      <td>0.000158</td>\n      <td>0.000023</td>\n      <td>1.289488e-08</td>\n      <td>3.557095e-07</td>\n    </tr>\n  </tbody>\n</table>\n<p>2867 rows × 14 columns</p>\n</div>"
     },
     "execution_count": 95,
     "metadata": {},
     "output_type": "execute_result"
    }
   ],
   "source": [
    "ndf[['file_exploit_time', 'current_time', 'PID_SW_Freq', 'PID_Number', 'TID_SW_Freq', 'TID_Number', 'UnseenSC','SCTotal', 39, 40, 41 ,42 ,43, 44]]"
   ],
   "metadata": {
    "collapsed": false,
    "ExecuteTime": {
     "end_time": "2023-08-01T06:29:12.805033400Z",
     "start_time": "2023-08-01T06:29:12.785088100Z"
    }
   }
  },
  {
   "cell_type": "code",
   "execution_count": 96,
   "outputs": [
    {
     "data": {
      "text/plain": "  file_exploit_time  current_time PID_SW_Freq PID_Number TID_SW_Freq  \\\n0              None  1.631106e+09        True       True        True   \n1              None  1.631106e+09        True       True        True   \n2              None  1.631106e+09        True       True        True   \n3              None  1.631106e+09        True       True        True   \n0       1.63108e+09  1.631078e+09           1          1           1   \n0              None  1.631065e+09        True       True        True   \n1              None  1.631065e+09        True       True        True   \n0              None  1.631039e+09        True       True        True   \n1              None  1.631039e+09        True       True        True   \n0              None  1.631024e+09        True       True        True   \n1              None  1.631024e+09        True       True        True   \n0       1.63111e+09  1.631105e+09           1          1           1   \n0              None  1.631033e+09        True       True        True   \n0              None  1.631032e+09        True       True        True   \n1              None  1.631032e+09        True       True        True   \n0              None  1.631018e+09        True       True        True   \n1              None  1.631018e+09        True       True        True   \n2              None  1.631018e+09        True       True        True   \n0       1.63108e+09  1.631081e+09           1          1           1   \n1       1.63108e+09  1.631081e+09           1          1           1   \n0              None  1.631010e+09        True       True        True   \n1              None  1.631010e+09        True       True        True   \n0       1.63108e+09  1.631080e+09           1          1           1   \n0              None  1.631059e+09        True       True        True   \n1              None  1.631059e+09        True       True        True   \n0              None  1.631075e+09        True       True        True   \n1              None  1.631075e+09        True       True        True   \n0              None  1.631050e+09        True      False        True   \n0              None  1.631077e+09        True       True        True   \n\n  TID_Number UnseenSC SCTotal            39        40        41            42  \\\n0       True    False    True  2.244923e-07  0.000089  0.000022  5.023500e-05   \n1       True    False    True  2.244923e-07  0.000089  0.000022  5.023500e-05   \n2       True    False    True  2.244923e-07  0.000089  0.000022  5.023500e-05   \n3       True    False    True  2.244923e-07  0.000089  0.000022  5.023500e-05   \n0          1        0       0  9.108217e-04  0.000896  0.000001  5.977202e-04   \n0       True     True   False  7.118298e-06  0.000026  0.000133  2.392616e-06   \n1       True     True   False  7.118298e-06  0.000026  0.000133  2.392616e-06   \n0       True     True   False  1.438550e-05  0.000037  0.000134  7.506445e-06   \n1       True     True   False  1.438550e-05  0.000037  0.000134  7.506445e-06   \n0       True     True   False  3.662968e-05  0.000065  0.000104  1.911685e-05   \n1       True     True   False  4.499552e-06  0.000021  0.000130  1.077754e-06   \n0          1        0       1  2.244923e-07  0.000089  0.000022  5.023500e-05   \n0      False     True    True  5.379338e-04  0.003109  0.001461  3.272085e-03   \n0       True     True   False  5.557350e-07  0.000011  0.000141  1.745995e-07   \n1       True     True   False  3.461175e-06  0.000018  0.000133  3.283894e-07   \n0       True     True   False  1.394041e-06  0.000010  0.000145  1.509144e-08   \n1       True     True   False  6.181725e-06  0.000019  0.000143  1.074613e-06   \n2       True     True   False  6.181725e-06  0.000019  0.000143  1.074613e-06   \n0          1        1       0  2.817528e-06  0.000016  0.000143  3.229040e-07   \n1          1        1       0  5.315185e-06  0.000016  0.000143  6.868306e-07   \n0       True     True   False  1.240934e-05  0.000031  0.000140  4.738011e-06   \n1       True     True   False  1.240934e-05  0.000031  0.000140  4.738011e-06   \n0          1        1       0  7.248061e-06  0.000018  0.000141  9.409219e-07   \n0       True     True   False  7.988498e-07  0.000011  0.000135  2.261072e-07   \n1       True     True   False  7.988498e-07  0.000011  0.000135  2.261072e-07   \n0       True     True   False  1.628585e-05  0.000013  0.000115  3.025908e-07   \n1       True     True   False  1.628585e-05  0.000013  0.000115  3.025908e-07   \n0      False     True    True  4.525626e-04  0.003390  0.001290  2.967175e-03   \n0       True    False   False  2.351140e-03  0.002223  0.000038  1.580808e-03   \n\n             43        44  \n0  3.653616e-06  0.000016  \n1  3.653616e-06  0.000016  \n2  3.653616e-06  0.000016  \n3  3.653616e-06  0.000016  \n0  2.373840e-05  1.006147  \n0  1.491789e-06  0.048651  \n1  1.491789e-06  0.048651  \n0  1.982023e-06  0.063415  \n1  1.982023e-06  0.063415  \n0  2.918288e-06  0.095448  \n1  1.316617e-06  0.042962  \n0  3.653616e-06  0.000016  \n0  1.372739e-07  0.000168  \n0  8.537878e-07  0.028555  \n1  1.169647e-06  0.038751  \n0  8.844178e-07  0.028502  \n1  1.266183e-06  0.040848  \n2  1.266183e-06  0.040848  \n0  1.134260e-06  0.037164  \n1  1.213924e-06  0.038089  \n0  1.733871e-06  0.055626  \n1  1.733871e-06  0.055626  \n0  1.254712e-06  0.040167  \n0  8.607188e-07  0.029106  \n1  8.607188e-07  0.029106  \n0  1.130322e-06  0.034423  \n1  1.130322e-06  0.034423  \n0  9.197269e-08  0.000097  \n0  5.043683e-05  2.665951  ",
      "text/html": "<div>\n<style scoped>\n    .dataframe tbody tr th:only-of-type {\n        vertical-align: middle;\n    }\n\n    .dataframe tbody tr th {\n        vertical-align: top;\n    }\n\n    .dataframe thead th {\n        text-align: right;\n    }\n</style>\n<table border=\"1\" class=\"dataframe\">\n  <thead>\n    <tr style=\"text-align: right;\">\n      <th></th>\n      <th>file_exploit_time</th>\n      <th>current_time</th>\n      <th>PID_SW_Freq</th>\n      <th>PID_Number</th>\n      <th>TID_SW_Freq</th>\n      <th>TID_Number</th>\n      <th>UnseenSC</th>\n      <th>SCTotal</th>\n      <th>39</th>\n      <th>40</th>\n      <th>41</th>\n      <th>42</th>\n      <th>43</th>\n      <th>44</th>\n    </tr>\n  </thead>\n  <tbody>\n    <tr>\n      <th>0</th>\n      <td>None</td>\n      <td>1.631106e+09</td>\n      <td>True</td>\n      <td>True</td>\n      <td>True</td>\n      <td>True</td>\n      <td>False</td>\n      <td>True</td>\n      <td>2.244923e-07</td>\n      <td>0.000089</td>\n      <td>0.000022</td>\n      <td>5.023500e-05</td>\n      <td>3.653616e-06</td>\n      <td>0.000016</td>\n    </tr>\n    <tr>\n      <th>1</th>\n      <td>None</td>\n      <td>1.631106e+09</td>\n      <td>True</td>\n      <td>True</td>\n      <td>True</td>\n      <td>True</td>\n      <td>False</td>\n      <td>True</td>\n      <td>2.244923e-07</td>\n      <td>0.000089</td>\n      <td>0.000022</td>\n      <td>5.023500e-05</td>\n      <td>3.653616e-06</td>\n      <td>0.000016</td>\n    </tr>\n    <tr>\n      <th>2</th>\n      <td>None</td>\n      <td>1.631106e+09</td>\n      <td>True</td>\n      <td>True</td>\n      <td>True</td>\n      <td>True</td>\n      <td>False</td>\n      <td>True</td>\n      <td>2.244923e-07</td>\n      <td>0.000089</td>\n      <td>0.000022</td>\n      <td>5.023500e-05</td>\n      <td>3.653616e-06</td>\n      <td>0.000016</td>\n    </tr>\n    <tr>\n      <th>3</th>\n      <td>None</td>\n      <td>1.631106e+09</td>\n      <td>True</td>\n      <td>True</td>\n      <td>True</td>\n      <td>True</td>\n      <td>False</td>\n      <td>True</td>\n      <td>2.244923e-07</td>\n      <td>0.000089</td>\n      <td>0.000022</td>\n      <td>5.023500e-05</td>\n      <td>3.653616e-06</td>\n      <td>0.000016</td>\n    </tr>\n    <tr>\n      <th>0</th>\n      <td>1.63108e+09</td>\n      <td>1.631078e+09</td>\n      <td>1</td>\n      <td>1</td>\n      <td>1</td>\n      <td>1</td>\n      <td>0</td>\n      <td>0</td>\n      <td>9.108217e-04</td>\n      <td>0.000896</td>\n      <td>0.000001</td>\n      <td>5.977202e-04</td>\n      <td>2.373840e-05</td>\n      <td>1.006147</td>\n    </tr>\n    <tr>\n      <th>0</th>\n      <td>None</td>\n      <td>1.631065e+09</td>\n      <td>True</td>\n      <td>True</td>\n      <td>True</td>\n      <td>True</td>\n      <td>True</td>\n      <td>False</td>\n      <td>7.118298e-06</td>\n      <td>0.000026</td>\n      <td>0.000133</td>\n      <td>2.392616e-06</td>\n      <td>1.491789e-06</td>\n      <td>0.048651</td>\n    </tr>\n    <tr>\n      <th>1</th>\n      <td>None</td>\n      <td>1.631065e+09</td>\n      <td>True</td>\n      <td>True</td>\n      <td>True</td>\n      <td>True</td>\n      <td>True</td>\n      <td>False</td>\n      <td>7.118298e-06</td>\n      <td>0.000026</td>\n      <td>0.000133</td>\n      <td>2.392616e-06</td>\n      <td>1.491789e-06</td>\n      <td>0.048651</td>\n    </tr>\n    <tr>\n      <th>0</th>\n      <td>None</td>\n      <td>1.631039e+09</td>\n      <td>True</td>\n      <td>True</td>\n      <td>True</td>\n      <td>True</td>\n      <td>True</td>\n      <td>False</td>\n      <td>1.438550e-05</td>\n      <td>0.000037</td>\n      <td>0.000134</td>\n      <td>7.506445e-06</td>\n      <td>1.982023e-06</td>\n      <td>0.063415</td>\n    </tr>\n    <tr>\n      <th>1</th>\n      <td>None</td>\n      <td>1.631039e+09</td>\n      <td>True</td>\n      <td>True</td>\n      <td>True</td>\n      <td>True</td>\n      <td>True</td>\n      <td>False</td>\n      <td>1.438550e-05</td>\n      <td>0.000037</td>\n      <td>0.000134</td>\n      <td>7.506445e-06</td>\n      <td>1.982023e-06</td>\n      <td>0.063415</td>\n    </tr>\n    <tr>\n      <th>0</th>\n      <td>None</td>\n      <td>1.631024e+09</td>\n      <td>True</td>\n      <td>True</td>\n      <td>True</td>\n      <td>True</td>\n      <td>True</td>\n      <td>False</td>\n      <td>3.662968e-05</td>\n      <td>0.000065</td>\n      <td>0.000104</td>\n      <td>1.911685e-05</td>\n      <td>2.918288e-06</td>\n      <td>0.095448</td>\n    </tr>\n    <tr>\n      <th>1</th>\n      <td>None</td>\n      <td>1.631024e+09</td>\n      <td>True</td>\n      <td>True</td>\n      <td>True</td>\n      <td>True</td>\n      <td>True</td>\n      <td>False</td>\n      <td>4.499552e-06</td>\n      <td>0.000021</td>\n      <td>0.000130</td>\n      <td>1.077754e-06</td>\n      <td>1.316617e-06</td>\n      <td>0.042962</td>\n    </tr>\n    <tr>\n      <th>0</th>\n      <td>1.63111e+09</td>\n      <td>1.631105e+09</td>\n      <td>1</td>\n      <td>1</td>\n      <td>1</td>\n      <td>1</td>\n      <td>0</td>\n      <td>1</td>\n      <td>2.244923e-07</td>\n      <td>0.000089</td>\n      <td>0.000022</td>\n      <td>5.023500e-05</td>\n      <td>3.653616e-06</td>\n      <td>0.000016</td>\n    </tr>\n    <tr>\n      <th>0</th>\n      <td>None</td>\n      <td>1.631033e+09</td>\n      <td>True</td>\n      <td>True</td>\n      <td>True</td>\n      <td>False</td>\n      <td>True</td>\n      <td>True</td>\n      <td>5.379338e-04</td>\n      <td>0.003109</td>\n      <td>0.001461</td>\n      <td>3.272085e-03</td>\n      <td>1.372739e-07</td>\n      <td>0.000168</td>\n    </tr>\n    <tr>\n      <th>0</th>\n      <td>None</td>\n      <td>1.631032e+09</td>\n      <td>True</td>\n      <td>True</td>\n      <td>True</td>\n      <td>True</td>\n      <td>True</td>\n      <td>False</td>\n      <td>5.557350e-07</td>\n      <td>0.000011</td>\n      <td>0.000141</td>\n      <td>1.745995e-07</td>\n      <td>8.537878e-07</td>\n      <td>0.028555</td>\n    </tr>\n    <tr>\n      <th>1</th>\n      <td>None</td>\n      <td>1.631032e+09</td>\n      <td>True</td>\n      <td>True</td>\n      <td>True</td>\n      <td>True</td>\n      <td>True</td>\n      <td>False</td>\n      <td>3.461175e-06</td>\n      <td>0.000018</td>\n      <td>0.000133</td>\n      <td>3.283894e-07</td>\n      <td>1.169647e-06</td>\n      <td>0.038751</td>\n    </tr>\n    <tr>\n      <th>0</th>\n      <td>None</td>\n      <td>1.631018e+09</td>\n      <td>True</td>\n      <td>True</td>\n      <td>True</td>\n      <td>True</td>\n      <td>True</td>\n      <td>False</td>\n      <td>1.394041e-06</td>\n      <td>0.000010</td>\n      <td>0.000145</td>\n      <td>1.509144e-08</td>\n      <td>8.844178e-07</td>\n      <td>0.028502</td>\n    </tr>\n    <tr>\n      <th>1</th>\n      <td>None</td>\n      <td>1.631018e+09</td>\n      <td>True</td>\n      <td>True</td>\n      <td>True</td>\n      <td>True</td>\n      <td>True</td>\n      <td>False</td>\n      <td>6.181725e-06</td>\n      <td>0.000019</td>\n      <td>0.000143</td>\n      <td>1.074613e-06</td>\n      <td>1.266183e-06</td>\n      <td>0.040848</td>\n    </tr>\n    <tr>\n      <th>2</th>\n      <td>None</td>\n      <td>1.631018e+09</td>\n      <td>True</td>\n      <td>True</td>\n      <td>True</td>\n      <td>True</td>\n      <td>True</td>\n      <td>False</td>\n      <td>6.181725e-06</td>\n      <td>0.000019</td>\n      <td>0.000143</td>\n      <td>1.074613e-06</td>\n      <td>1.266183e-06</td>\n      <td>0.040848</td>\n    </tr>\n    <tr>\n      <th>0</th>\n      <td>1.63108e+09</td>\n      <td>1.631081e+09</td>\n      <td>1</td>\n      <td>1</td>\n      <td>1</td>\n      <td>1</td>\n      <td>1</td>\n      <td>0</td>\n      <td>2.817528e-06</td>\n      <td>0.000016</td>\n      <td>0.000143</td>\n      <td>3.229040e-07</td>\n      <td>1.134260e-06</td>\n      <td>0.037164</td>\n    </tr>\n    <tr>\n      <th>1</th>\n      <td>1.63108e+09</td>\n      <td>1.631081e+09</td>\n      <td>1</td>\n      <td>1</td>\n      <td>1</td>\n      <td>1</td>\n      <td>1</td>\n      <td>0</td>\n      <td>5.315185e-06</td>\n      <td>0.000016</td>\n      <td>0.000143</td>\n      <td>6.868306e-07</td>\n      <td>1.213924e-06</td>\n      <td>0.038089</td>\n    </tr>\n    <tr>\n      <th>0</th>\n      <td>None</td>\n      <td>1.631010e+09</td>\n      <td>True</td>\n      <td>True</td>\n      <td>True</td>\n      <td>True</td>\n      <td>True</td>\n      <td>False</td>\n      <td>1.240934e-05</td>\n      <td>0.000031</td>\n      <td>0.000140</td>\n      <td>4.738011e-06</td>\n      <td>1.733871e-06</td>\n      <td>0.055626</td>\n    </tr>\n    <tr>\n      <th>1</th>\n      <td>None</td>\n      <td>1.631010e+09</td>\n      <td>True</td>\n      <td>True</td>\n      <td>True</td>\n      <td>True</td>\n      <td>True</td>\n      <td>False</td>\n      <td>1.240934e-05</td>\n      <td>0.000031</td>\n      <td>0.000140</td>\n      <td>4.738011e-06</td>\n      <td>1.733871e-06</td>\n      <td>0.055626</td>\n    </tr>\n    <tr>\n      <th>0</th>\n      <td>1.63108e+09</td>\n      <td>1.631080e+09</td>\n      <td>1</td>\n      <td>1</td>\n      <td>1</td>\n      <td>1</td>\n      <td>1</td>\n      <td>0</td>\n      <td>7.248061e-06</td>\n      <td>0.000018</td>\n      <td>0.000141</td>\n      <td>9.409219e-07</td>\n      <td>1.254712e-06</td>\n      <td>0.040167</td>\n    </tr>\n    <tr>\n      <th>0</th>\n      <td>None</td>\n      <td>1.631059e+09</td>\n      <td>True</td>\n      <td>True</td>\n      <td>True</td>\n      <td>True</td>\n      <td>True</td>\n      <td>False</td>\n      <td>7.988498e-07</td>\n      <td>0.000011</td>\n      <td>0.000135</td>\n      <td>2.261072e-07</td>\n      <td>8.607188e-07</td>\n      <td>0.029106</td>\n    </tr>\n    <tr>\n      <th>1</th>\n      <td>None</td>\n      <td>1.631059e+09</td>\n      <td>True</td>\n      <td>True</td>\n      <td>True</td>\n      <td>True</td>\n      <td>True</td>\n      <td>False</td>\n      <td>7.988498e-07</td>\n      <td>0.000011</td>\n      <td>0.000135</td>\n      <td>2.261072e-07</td>\n      <td>8.607188e-07</td>\n      <td>0.029106</td>\n    </tr>\n    <tr>\n      <th>0</th>\n      <td>None</td>\n      <td>1.631075e+09</td>\n      <td>True</td>\n      <td>True</td>\n      <td>True</td>\n      <td>True</td>\n      <td>True</td>\n      <td>False</td>\n      <td>1.628585e-05</td>\n      <td>0.000013</td>\n      <td>0.000115</td>\n      <td>3.025908e-07</td>\n      <td>1.130322e-06</td>\n      <td>0.034423</td>\n    </tr>\n    <tr>\n      <th>1</th>\n      <td>None</td>\n      <td>1.631075e+09</td>\n      <td>True</td>\n      <td>True</td>\n      <td>True</td>\n      <td>True</td>\n      <td>True</td>\n      <td>False</td>\n      <td>1.628585e-05</td>\n      <td>0.000013</td>\n      <td>0.000115</td>\n      <td>3.025908e-07</td>\n      <td>1.130322e-06</td>\n      <td>0.034423</td>\n    </tr>\n    <tr>\n      <th>0</th>\n      <td>None</td>\n      <td>1.631050e+09</td>\n      <td>True</td>\n      <td>False</td>\n      <td>True</td>\n      <td>False</td>\n      <td>True</td>\n      <td>True</td>\n      <td>4.525626e-04</td>\n      <td>0.003390</td>\n      <td>0.001290</td>\n      <td>2.967175e-03</td>\n      <td>9.197269e-08</td>\n      <td>0.000097</td>\n    </tr>\n    <tr>\n      <th>0</th>\n      <td>None</td>\n      <td>1.631077e+09</td>\n      <td>True</td>\n      <td>True</td>\n      <td>True</td>\n      <td>True</td>\n      <td>False</td>\n      <td>False</td>\n      <td>2.351140e-03</td>\n      <td>0.002223</td>\n      <td>0.000038</td>\n      <td>1.580808e-03</td>\n      <td>5.043683e-05</td>\n      <td>2.665951</td>\n    </tr>\n  </tbody>\n</table>\n</div>"
     },
     "execution_count": 96,
     "metadata": {},
     "output_type": "execute_result"
    }
   ],
   "source": [
    "edf[['file_exploit_time', 'current_time', 'PID_SW_Freq', 'PID_Number', 'TID_SW_Freq', 'TID_Number', 'UnseenSC', 'SCTotal', 39, 40, 41 ,42 ,43, 44]]"
   ],
   "metadata": {
    "collapsed": false,
    "ExecuteTime": {
     "end_time": "2023-08-01T06:29:13.384537600Z",
     "start_time": "2023-08-01T06:29:13.347636700Z"
    }
   }
  },
  {
   "cell_type": "code",
   "execution_count": 77,
   "outputs": [
    {
     "data": {
      "text/plain": "[1631029766.0470068, 1631029766.2884662, 1631025242.295067]"
     },
     "execution_count": 77,
     "metadata": {},
     "output_type": "execute_result"
    }
   ],
   "source": [
    "edf['current_time'].to_list()"
   ],
   "metadata": {
    "collapsed": false,
    "ExecuteTime": {
     "end_time": "2023-08-01T05:33:13.854350700Z",
     "start_time": "2023-08-01T05:33:13.844348Z"
    }
   }
  },
  {
   "cell_type": "code",
   "execution_count": 80,
   "outputs": [],
   "source": [
    "one_df = pd.read_pickle('K:\\\\hids\\\\dataSet\\\\GP_DATA_DIR\\\\Bruteforce_CWE-307\\\\test\\\\normal\\\\tasty_mirzakhani_7211\\\\DataFrame\\\\1631029765281984975.pkl')"
   ],
   "metadata": {
    "collapsed": false,
    "ExecuteTime": {
     "end_time": "2023-08-01T05:35:38.200467600Z",
     "start_time": "2023-08-01T05:35:38.188499700Z"
    }
   }
  },
  {
   "cell_type": "code",
   "execution_count": 88,
   "outputs": [
    {
     "data": {
      "text/plain": "                    time      PID ProcessName      TID  syscallInt  Ret\n0    1631029765281984975  3758612     apache2  3758612    0.078947    1\n1    1631029765282000544  3758612     apache2  3758612    0.105263    0\n2    1631029765282015607  3758612     apache2  3758612    0.131579    0\n3    1631029765282018705  3758615     apache2  3758615    0.131579    0\n4    1631029765282022386  3758612     apache2  3758612    0.157895    0\n..                   ...      ...         ...      ...         ...  ...\n688  1631029765308434919  3758616     apache2  3758616    0.236842    0\n689  1631029765308439694  3758616     apache2  3758616    0.210526  -11\n690  1631029766047006756  3758608     apache2  3758608    0.026316    0\n691  1631029766047013231  3758608     apache2  3758608    0.052632    0\n692  1631029766288466169  3758614     apache2  3758614    0.078947    1\n\n[693 rows x 6 columns]",
      "text/html": "<div>\n<style scoped>\n    .dataframe tbody tr th:only-of-type {\n        vertical-align: middle;\n    }\n\n    .dataframe tbody tr th {\n        vertical-align: top;\n    }\n\n    .dataframe thead th {\n        text-align: right;\n    }\n</style>\n<table border=\"1\" class=\"dataframe\">\n  <thead>\n    <tr style=\"text-align: right;\">\n      <th></th>\n      <th>time</th>\n      <th>PID</th>\n      <th>ProcessName</th>\n      <th>TID</th>\n      <th>syscallInt</th>\n      <th>Ret</th>\n    </tr>\n  </thead>\n  <tbody>\n    <tr>\n      <th>0</th>\n      <td>1631029765281984975</td>\n      <td>3758612</td>\n      <td>apache2</td>\n      <td>3758612</td>\n      <td>0.078947</td>\n      <td>1</td>\n    </tr>\n    <tr>\n      <th>1</th>\n      <td>1631029765282000544</td>\n      <td>3758612</td>\n      <td>apache2</td>\n      <td>3758612</td>\n      <td>0.105263</td>\n      <td>0</td>\n    </tr>\n    <tr>\n      <th>2</th>\n      <td>1631029765282015607</td>\n      <td>3758612</td>\n      <td>apache2</td>\n      <td>3758612</td>\n      <td>0.131579</td>\n      <td>0</td>\n    </tr>\n    <tr>\n      <th>3</th>\n      <td>1631029765282018705</td>\n      <td>3758615</td>\n      <td>apache2</td>\n      <td>3758615</td>\n      <td>0.131579</td>\n      <td>0</td>\n    </tr>\n    <tr>\n      <th>4</th>\n      <td>1631029765282022386</td>\n      <td>3758612</td>\n      <td>apache2</td>\n      <td>3758612</td>\n      <td>0.157895</td>\n      <td>0</td>\n    </tr>\n    <tr>\n      <th>...</th>\n      <td>...</td>\n      <td>...</td>\n      <td>...</td>\n      <td>...</td>\n      <td>...</td>\n      <td>...</td>\n    </tr>\n    <tr>\n      <th>688</th>\n      <td>1631029765308434919</td>\n      <td>3758616</td>\n      <td>apache2</td>\n      <td>3758616</td>\n      <td>0.236842</td>\n      <td>0</td>\n    </tr>\n    <tr>\n      <th>689</th>\n      <td>1631029765308439694</td>\n      <td>3758616</td>\n      <td>apache2</td>\n      <td>3758616</td>\n      <td>0.210526</td>\n      <td>-11</td>\n    </tr>\n    <tr>\n      <th>690</th>\n      <td>1631029766047006756</td>\n      <td>3758608</td>\n      <td>apache2</td>\n      <td>3758608</td>\n      <td>0.026316</td>\n      <td>0</td>\n    </tr>\n    <tr>\n      <th>691</th>\n      <td>1631029766047013231</td>\n      <td>3758608</td>\n      <td>apache2</td>\n      <td>3758608</td>\n      <td>0.052632</td>\n      <td>0</td>\n    </tr>\n    <tr>\n      <th>692</th>\n      <td>1631029766288466169</td>\n      <td>3758614</td>\n      <td>apache2</td>\n      <td>3758614</td>\n      <td>0.078947</td>\n      <td>1</td>\n    </tr>\n  </tbody>\n</table>\n<p>693 rows × 6 columns</p>\n</div>"
     },
     "execution_count": 88,
     "metadata": {},
     "output_type": "execute_result"
    }
   ],
   "source": [
    "one_df"
   ],
   "metadata": {
    "collapsed": false,
    "ExecuteTime": {
     "end_time": "2023-08-01T05:39:35.232400700Z",
     "start_time": "2023-08-01T05:39:35.210459200Z"
    }
   }
  },
  {
   "cell_type": "code",
   "execution_count": 83,
   "outputs": [],
   "source": [
    "one_array = np.load('K:\\\\hids\\\\dataSet\\\\GP_DATA_DIR\\\\Bruteforce_CWE-307\\\\test\\\\normal\\\\tasty_mirzakhani_7211\\\\FinalData\\\\1631029765281984975.npy')"
   ],
   "metadata": {
    "collapsed": false,
    "ExecuteTime": {
     "end_time": "2023-08-01T05:37:15.816967600Z",
     "start_time": "2023-08-01T05:37:15.807965700Z"
    }
   }
  },
  {
   "cell_type": "code",
   "execution_count": 84,
   "outputs": [
    {
     "data": {
      "text/plain": "array([9.98542274e-01, 5.83090379e-03, 0.00000000e+00, 0.00000000e+00,\n       1.45772595e-03, 0.00000000e+00, 0.00000000e+00, 0.00000000e+00,\n       0.00000000e+00, 0.00000000e+00, 0.00000000e+00, 0.00000000e+00,\n       0.00000000e+00, 0.00000000e+00, 0.00000000e+00, 0.00000000e+00,\n       0.00000000e+00, 0.00000000e+00, 0.00000000e+00, 0.00000000e+00,\n       0.00000000e+00, 0.00000000e+00, 0.00000000e+00, 0.00000000e+00,\n       0.00000000e+00, 0.00000000e+00, 0.00000000e+00, 0.00000000e+00,\n       0.00000000e+00, 0.00000000e+00, 0.00000000e+00, 0.00000000e+00,\n       0.00000000e+00, 0.00000000e+00, 0.00000000e+00, 0.00000000e+00,\n       0.00000000e+00, 0.00000000e+00, 2.91545190e-03, 2.68000000e+02,\n       6.00000000e+00, 2.68000000e+02, 6.00000000e+00])"
     },
     "execution_count": 84,
     "metadata": {},
     "output_type": "execute_result"
    }
   ],
   "source": [
    "one_array"
   ],
   "metadata": {
    "collapsed": false,
    "ExecuteTime": {
     "end_time": "2023-08-01T05:37:19.997339900Z",
     "start_time": "2023-08-01T05:37:19.975397300Z"
    }
   }
  },
  {
   "cell_type": "code",
   "execution_count": null,
   "outputs": [],
   "source": [],
   "metadata": {
    "collapsed": false
   }
  }
 ],
 "metadata": {
  "kernelspec": {
   "name": "ids",
   "language": "python",
   "display_name": "ids"
  },
  "language_info": {
   "codemirror_mode": {
    "name": "ipython",
    "version": 2
   },
   "file_extension": ".py",
   "mimetype": "text/x-python",
   "name": "python",
   "nbconvert_exporter": "python",
   "pygments_lexer": "ipython2",
   "version": "2.7.6"
  }
 },
 "nbformat": 4,
 "nbformat_minor": 0
}
